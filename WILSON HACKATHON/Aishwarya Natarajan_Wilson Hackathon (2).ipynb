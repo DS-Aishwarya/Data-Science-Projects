{
 "cells": [
  {
   "cell_type": "code",
   "execution_count": 2,
   "id": "1b181671",
   "metadata": {},
   "outputs": [],
   "source": [
    "#import libraries\n",
    "import os\n",
    "import numpy as np\n",
    "import pandas as pd\n",
    "import matplotlib.pyplot as plt\n",
    "%matplotlib inline\n",
    "import seaborn as sns\n",
    "from warnings import filterwarnings \n",
    "filterwarnings(\"ignore\")\n",
    "\n",
    "from sklearn.model_selection import train_test_split, GridSearchCV\n",
    "# Import machine learning libraries\n",
    "from sklearn.ensemble import RandomForestClassifier\n",
    "from sklearn.linear_model import LogisticRegression\n",
    "from sklearn.discriminant_analysis import LinearDiscriminantAnalysis\n",
    "from sklearn.neighbors import KNeighborsClassifier\n",
    "from sklearn.naive_bayes import GaussianNB\n",
    "from sklearn.ensemble import BaggingClassifier\n",
    "from sklearn.ensemble import GradientBoostingClassifier\n",
    "from sklearn.ensemble import AdaBoostClassifier\n",
    "from imblearn.over_sampling import SMOTE\n",
    "from sklearn.tree import DecisionTreeClassifier\n",
    "from sklearn.ensemble import VotingClassifier\n",
    "from sklearn.svm import SVC\n",
    "from sklearn.metrics import classification_report, confusion_matrix, plot_confusion_matrix,roc_curve, roc_auc_score,accuracy_score"
   ]
  },
  {
   "cell_type": "code",
   "execution_count": 3,
   "id": "7ce3f97a",
   "metadata": {},
   "outputs": [],
   "source": [
    "#Read all csv files\n",
    "df_train = pd.read_csv('training_data.csv')\n",
    "df_test = pd.read_csv('testing_data.csv')"
   ]
  },
  {
   "cell_type": "markdown",
   "id": "e490b315",
   "metadata": {},
   "source": [
    "### Train & Test data:"
   ]
  },
  {
   "cell_type": "code",
   "execution_count": 4,
   "id": "41d24b1e",
   "metadata": {},
   "outputs": [
    {
     "data": {
      "text/html": [
       "<div>\n",
       "<style scoped>\n",
       "    .dataframe tbody tr th:only-of-type {\n",
       "        vertical-align: middle;\n",
       "    }\n",
       "\n",
       "    .dataframe tbody tr th {\n",
       "        vertical-align: top;\n",
       "    }\n",
       "\n",
       "    .dataframe thead th {\n",
       "        text-align: right;\n",
       "    }\n",
       "</style>\n",
       "<table border=\"1\" class=\"dataframe\">\n",
       "  <thead>\n",
       "    <tr style=\"text-align: right;\">\n",
       "      <th></th>\n",
       "      <th>ID</th>\n",
       "      <th>Date_Of_Disbursement</th>\n",
       "      <th>Business</th>\n",
       "      <th>Jobs_Reatained</th>\n",
       "      <th>Jobs_Created</th>\n",
       "      <th>Year_Of_Commitment</th>\n",
       "      <th>Guaranteed_Approved _Loan</th>\n",
       "      <th>Borrower_Name</th>\n",
       "      <th>Low_Documentation_Loan</th>\n",
       "      <th>Demography</th>\n",
       "      <th>...</th>\n",
       "      <th>Classification_Code</th>\n",
       "      <th>Loan_Approved_Gross</th>\n",
       "      <th>Gross_Amount_Disbursed</th>\n",
       "      <th>Loan_Term</th>\n",
       "      <th>Commitment_Date</th>\n",
       "      <th>Primary_Loan_Digit</th>\n",
       "      <th>Code_Franchise</th>\n",
       "      <th>Name_Of_Bank</th>\n",
       "      <th>Revolving_Credit_Line</th>\n",
       "      <th>Default</th>\n",
       "    </tr>\n",
       "  </thead>\n",
       "  <tbody>\n",
       "    <tr>\n",
       "      <th>0</th>\n",
       "      <td>0</td>\n",
       "      <td>31-Jul-91</td>\n",
       "      <td>Existing</td>\n",
       "      <td>0</td>\n",
       "      <td>0</td>\n",
       "      <td>1991</td>\n",
       "      <td>Rs.33121600.0</td>\n",
       "      <td>STANDARD PARTS CORPORATION</td>\n",
       "      <td>No</td>\n",
       "      <td>Undefined</td>\n",
       "      <td>...</td>\n",
       "      <td>0</td>\n",
       "      <td>Rs.40640000.0</td>\n",
       "      <td>Rs.40640000.0</td>\n",
       "      <td>126</td>\n",
       "      <td>2-Apr-91</td>\n",
       "      <td>4419763001</td>\n",
       "      <td>1</td>\n",
       "      <td>Axis Bank Ltd.</td>\n",
       "      <td>No</td>\n",
       "      <td>0</td>\n",
       "    </tr>\n",
       "    <tr>\n",
       "      <th>1</th>\n",
       "      <td>1</td>\n",
       "      <td>30-Apr-06</td>\n",
       "      <td>New</td>\n",
       "      <td>0</td>\n",
       "      <td>6</td>\n",
       "      <td>2006</td>\n",
       "      <td>Rs.32735520.0</td>\n",
       "      <td>FRANK &amp; KERI AMESTOY</td>\n",
       "      <td>No</td>\n",
       "      <td>Urban</td>\n",
       "      <td>...</td>\n",
       "      <td>451120</td>\n",
       "      <td>Rs.43647360.0</td>\n",
       "      <td>Rs.43647360.0</td>\n",
       "      <td>123</td>\n",
       "      <td>10-Apr-06</td>\n",
       "      <td>1709796003</td>\n",
       "      <td>1</td>\n",
       "      <td>Bandhan Bank Ltd.</td>\n",
       "      <td>0</td>\n",
       "      <td>1</td>\n",
       "    </tr>\n",
       "    <tr>\n",
       "      <th>2</th>\n",
       "      <td>2</td>\n",
       "      <td>30-Jun-04</td>\n",
       "      <td>Existing</td>\n",
       "      <td>4</td>\n",
       "      <td>0</td>\n",
       "      <td>2004</td>\n",
       "      <td>Rs.1422400.0</td>\n",
       "      <td>TELECOMMQC L L C</td>\n",
       "      <td>No</td>\n",
       "      <td>Urban</td>\n",
       "      <td>...</td>\n",
       "      <td>541618</td>\n",
       "      <td>Rs.2844800.0</td>\n",
       "      <td>Rs.5961400.32</td>\n",
       "      <td>90</td>\n",
       "      <td>25-May-04</td>\n",
       "      <td>7464754008</td>\n",
       "      <td>1</td>\n",
       "      <td>CSB Bank Limited</td>\n",
       "      <td>Yes</td>\n",
       "      <td>0</td>\n",
       "    </tr>\n",
       "    <tr>\n",
       "      <th>3</th>\n",
       "      <td>3</td>\n",
       "      <td>31-Jan-06</td>\n",
       "      <td>New</td>\n",
       "      <td>9</td>\n",
       "      <td>1</td>\n",
       "      <td>2006</td>\n",
       "      <td>Rs.2032000.0</td>\n",
       "      <td>K &amp; A AUTOMOTIVE, INC. DBA MUF</td>\n",
       "      <td>No</td>\n",
       "      <td>Urban</td>\n",
       "      <td>...</td>\n",
       "      <td>811112</td>\n",
       "      <td>Rs.4064000.0</td>\n",
       "      <td>Rs.4064000.0</td>\n",
       "      <td>126</td>\n",
       "      <td>21-Dec-05</td>\n",
       "      <td>1588745006</td>\n",
       "      <td>0</td>\n",
       "      <td>City Union Bank Ltd.</td>\n",
       "      <td>Yes</td>\n",
       "      <td>0</td>\n",
       "    </tr>\n",
       "    <tr>\n",
       "      <th>4</th>\n",
       "      <td>4</td>\n",
       "      <td>31-Dec-04</td>\n",
       "      <td>Existing</td>\n",
       "      <td>4</td>\n",
       "      <td>0</td>\n",
       "      <td>2005</td>\n",
       "      <td>Rs.22981920.0</td>\n",
       "      <td>SUNBEAM DELI</td>\n",
       "      <td>No</td>\n",
       "      <td>Urban</td>\n",
       "      <td>...</td>\n",
       "      <td>722211</td>\n",
       "      <td>Rs.30642560.0</td>\n",
       "      <td>Rs.30642560.0</td>\n",
       "      <td>104</td>\n",
       "      <td>2-Nov-04</td>\n",
       "      <td>8037734002</td>\n",
       "      <td>1</td>\n",
       "      <td>DCB Bank Ltd.</td>\n",
       "      <td>0</td>\n",
       "      <td>1</td>\n",
       "    </tr>\n",
       "  </tbody>\n",
       "</table>\n",
       "<p>5 rows × 26 columns</p>\n",
       "</div>"
      ],
      "text/plain": [
       "   ID Date_Of_Disbursement  Business  Jobs_Reatained  Jobs_Created   \\\n",
       "0   0            31-Jul-91  Existing               0              0   \n",
       "1   1            30-Apr-06       New               0              6   \n",
       "2   2            30-Jun-04  Existing               4              0   \n",
       "3   3            31-Jan-06       New               9              1   \n",
       "4   4            31-Dec-04  Existing               4              0   \n",
       "\n",
       "  Year_Of_Commitment  Guaranteed_Approved _Loan  \\\n",
       "0                1991             Rs.33121600.0   \n",
       "1                2006             Rs.32735520.0   \n",
       "2                2004              Rs.1422400.0   \n",
       "3                2006              Rs.2032000.0   \n",
       "4                2005             Rs.22981920.0   \n",
       "\n",
       "                   Borrower_Name  Low_Documentation_Loan Demography  ...  \\\n",
       "0      STANDARD PARTS CORPORATION                     No  Undefined  ...   \n",
       "1            FRANK & KERI AMESTOY                     No      Urban  ...   \n",
       "2                TELECOMMQC L L C                     No      Urban  ...   \n",
       "3  K & A AUTOMOTIVE, INC. DBA MUF                     No      Urban  ...   \n",
       "4                    SUNBEAM DELI                     No      Urban  ...   \n",
       "\n",
       "  Classification_Code  Loan_Approved_Gross Gross_Amount_Disbursed   Loan_Term  \\\n",
       "0                    0       Rs.40640000.0            Rs.40640000.0       126   \n",
       "1               451120       Rs.43647360.0            Rs.43647360.0       123   \n",
       "2               541618        Rs.2844800.0            Rs.5961400.32        90   \n",
       "3               811112        Rs.4064000.0             Rs.4064000.0       126   \n",
       "4               722211       Rs.30642560.0            Rs.30642560.0       104   \n",
       "\n",
       "  Commitment_Date  Primary_Loan_Digit  Code_Franchise          Name_Of_Bank  \\\n",
       "0        2-Apr-91          4419763001               1        Axis Bank Ltd.   \n",
       "1       10-Apr-06          1709796003               1     Bandhan Bank Ltd.   \n",
       "2       25-May-04          7464754008               1      CSB Bank Limited   \n",
       "3       21-Dec-05          1588745006               0  City Union Bank Ltd.   \n",
       "4        2-Nov-04          8037734002               1         DCB Bank Ltd.   \n",
       "\n",
       "  Revolving_Credit_Line  Default  \n",
       "0                    No        0  \n",
       "1                     0        1  \n",
       "2                   Yes        0  \n",
       "3                   Yes        0  \n",
       "4                     0        1  \n",
       "\n",
       "[5 rows x 26 columns]"
      ]
     },
     "execution_count": 4,
     "metadata": {},
     "output_type": "execute_result"
    }
   ],
   "source": [
    "df_train.head()"
   ]
  },
  {
   "cell_type": "code",
   "execution_count": 5,
   "id": "8b8f35f8",
   "metadata": {},
   "outputs": [
    {
     "data": {
      "text/html": [
       "<div>\n",
       "<style scoped>\n",
       "    .dataframe tbody tr th:only-of-type {\n",
       "        vertical-align: middle;\n",
       "    }\n",
       "\n",
       "    .dataframe tbody tr th {\n",
       "        vertical-align: top;\n",
       "    }\n",
       "\n",
       "    .dataframe thead th {\n",
       "        text-align: right;\n",
       "    }\n",
       "</style>\n",
       "<table border=\"1\" class=\"dataframe\">\n",
       "  <thead>\n",
       "    <tr style=\"text-align: right;\">\n",
       "      <th></th>\n",
       "      <th>ID</th>\n",
       "      <th>Date_Of_Disbursement</th>\n",
       "      <th>Business</th>\n",
       "      <th>Jobs_Reatained</th>\n",
       "      <th>Jobs_Created</th>\n",
       "      <th>Year_Of_Commitment</th>\n",
       "      <th>Guaranteed_Approved _Loan</th>\n",
       "      <th>Borrower_Name</th>\n",
       "      <th>Low_Documentation_Loan</th>\n",
       "      <th>Demography</th>\n",
       "      <th>...</th>\n",
       "      <th>Count_Employees</th>\n",
       "      <th>Classification_Code</th>\n",
       "      <th>Loan_Approved_Gross</th>\n",
       "      <th>Gross_Amount_Disbursed</th>\n",
       "      <th>Loan_Term</th>\n",
       "      <th>Commitment_Date</th>\n",
       "      <th>Primary_Loan_Digit</th>\n",
       "      <th>Code_Franchise</th>\n",
       "      <th>Name_Of_Bank</th>\n",
       "      <th>Revolving_Credit_Line</th>\n",
       "    </tr>\n",
       "  </thead>\n",
       "  <tbody>\n",
       "    <tr>\n",
       "      <th>0</th>\n",
       "      <td>105000</td>\n",
       "      <td>31-Mar-06</td>\n",
       "      <td>Existing</td>\n",
       "      <td>19</td>\n",
       "      <td>0</td>\n",
       "      <td>2006</td>\n",
       "      <td>Rs.4064000.0</td>\n",
       "      <td>Diversified Display Products o</td>\n",
       "      <td>No</td>\n",
       "      <td>Urban</td>\n",
       "      <td>...</td>\n",
       "      <td>17</td>\n",
       "      <td>326199</td>\n",
       "      <td>Rs.8128000.0</td>\n",
       "      <td>Rs.9403852.16</td>\n",
       "      <td>57</td>\n",
       "      <td>9-Mar-06</td>\n",
       "      <td>1702825000</td>\n",
       "      <td>0</td>\n",
       "      <td>ICICI Bank Ltd.</td>\n",
       "      <td>Yes</td>\n",
       "    </tr>\n",
       "    <tr>\n",
       "      <th>1</th>\n",
       "      <td>105001</td>\n",
       "      <td>31-Jan-95</td>\n",
       "      <td>Existing</td>\n",
       "      <td>0</td>\n",
       "      <td>0</td>\n",
       "      <td>1995</td>\n",
       "      <td>Rs.1463040.0</td>\n",
       "      <td>FOOTE CONSULTING GROUP, INC.</td>\n",
       "      <td>Yes</td>\n",
       "      <td>Undefined</td>\n",
       "      <td>...</td>\n",
       "      <td>2</td>\n",
       "      <td>0</td>\n",
       "      <td>Rs.1625600.0</td>\n",
       "      <td>Rs.1625600.0</td>\n",
       "      <td>90</td>\n",
       "      <td>14-Dec-94</td>\n",
       "      <td>7908833003</td>\n",
       "      <td>1</td>\n",
       "      <td>South Indian Bank Ltd.</td>\n",
       "      <td>No</td>\n",
       "    </tr>\n",
       "    <tr>\n",
       "      <th>2</th>\n",
       "      <td>105002</td>\n",
       "      <td>30-Sep-06</td>\n",
       "      <td>Existing</td>\n",
       "      <td>7</td>\n",
       "      <td>5</td>\n",
       "      <td>2006</td>\n",
       "      <td>Rs.812800.0</td>\n",
       "      <td>INTEGRATED COMERCIAL ENTERPRIS</td>\n",
       "      <td>No</td>\n",
       "      <td>Urban</td>\n",
       "      <td>...</td>\n",
       "      <td>2</td>\n",
       "      <td>541611</td>\n",
       "      <td>Rs.1625600.0</td>\n",
       "      <td>Rs.3450336.0</td>\n",
       "      <td>81</td>\n",
       "      <td>25-Aug-06</td>\n",
       "      <td>2361626001</td>\n",
       "      <td>1</td>\n",
       "      <td>IDBI Bank Limited</td>\n",
       "      <td>Yes</td>\n",
       "    </tr>\n",
       "    <tr>\n",
       "      <th>3</th>\n",
       "      <td>105003</td>\n",
       "      <td>31-Jul-00</td>\n",
       "      <td>New</td>\n",
       "      <td>2</td>\n",
       "      <td>0</td>\n",
       "      <td>2000</td>\n",
       "      <td>Rs.2032000.0</td>\n",
       "      <td>FIRST IN RESCUE EQUIPMENT</td>\n",
       "      <td>No</td>\n",
       "      <td>Urban</td>\n",
       "      <td>...</td>\n",
       "      <td>2</td>\n",
       "      <td>0</td>\n",
       "      <td>Rs.4064000.0</td>\n",
       "      <td>Rs.6916196.48</td>\n",
       "      <td>18</td>\n",
       "      <td>28-Jun-00</td>\n",
       "      <td>3814664008</td>\n",
       "      <td>1</td>\n",
       "      <td>Aryavart Bank</td>\n",
       "      <td>Yes</td>\n",
       "    </tr>\n",
       "    <tr>\n",
       "      <th>4</th>\n",
       "      <td>105004</td>\n",
       "      <td>30-Jun-05</td>\n",
       "      <td>Existing</td>\n",
       "      <td>0</td>\n",
       "      <td>0</td>\n",
       "      <td>2005</td>\n",
       "      <td>Rs.23469600.0</td>\n",
       "      <td>GLASGOW AUTOMOTIVE, INC.</td>\n",
       "      <td>No</td>\n",
       "      <td>Rural</td>\n",
       "      <td>...</td>\n",
       "      <td>6</td>\n",
       "      <td>441310</td>\n",
       "      <td>Rs.31292800.0</td>\n",
       "      <td>Rs.31292800.0</td>\n",
       "      <td>219</td>\n",
       "      <td>2-May-05</td>\n",
       "      <td>8830244003</td>\n",
       "      <td>1</td>\n",
       "      <td>Paschim Banga Gramin Bank</td>\n",
       "      <td>No</td>\n",
       "    </tr>\n",
       "  </tbody>\n",
       "</table>\n",
       "<p>5 rows × 25 columns</p>\n",
       "</div>"
      ],
      "text/plain": [
       "       ID Date_Of_Disbursement  Business  Jobs_Reatained  Jobs_Created   \\\n",
       "0  105000            31-Mar-06  Existing              19              0   \n",
       "1  105001            31-Jan-95  Existing               0              0   \n",
       "2  105002            30-Sep-06  Existing               7              5   \n",
       "3  105003            31-Jul-00       New               2              0   \n",
       "4  105004            30-Jun-05  Existing               0              0   \n",
       "\n",
       "  Year_Of_Commitment  Guaranteed_Approved _Loan  \\\n",
       "0                2006              Rs.4064000.0   \n",
       "1                1995              Rs.1463040.0   \n",
       "2                2006               Rs.812800.0   \n",
       "3                2000              Rs.2032000.0   \n",
       "4                2005             Rs.23469600.0   \n",
       "\n",
       "                   Borrower_Name  Low_Documentation_Loan Demography  ...  \\\n",
       "0  Diversified Display Products o                     No      Urban  ...   \n",
       "1    FOOTE CONSULTING GROUP, INC.                    Yes  Undefined  ...   \n",
       "2  INTEGRATED COMERCIAL ENTERPRIS                     No      Urban  ...   \n",
       "3       FIRST IN RESCUE EQUIPMENT                     No      Urban  ...   \n",
       "4        GLASGOW AUTOMOTIVE, INC.                     No      Rural  ...   \n",
       "\n",
       "  Count_Employees Classification_Code  Loan_Approved_Gross  \\\n",
       "0              17               326199        Rs.8128000.0   \n",
       "1               2                    0        Rs.1625600.0   \n",
       "2               2               541611        Rs.1625600.0   \n",
       "3               2                    0        Rs.4064000.0   \n",
       "4               6               441310       Rs.31292800.0   \n",
       "\n",
       "  Gross_Amount_Disbursed   Loan_Term  Commitment_Date  Primary_Loan_Digit  \\\n",
       "0            Rs.9403852.16        57         9-Mar-06          1702825000   \n",
       "1             Rs.1625600.0        90        14-Dec-94          7908833003   \n",
       "2             Rs.3450336.0        81        25-Aug-06          2361626001   \n",
       "3            Rs.6916196.48        18        28-Jun-00          3814664008   \n",
       "4            Rs.31292800.0       219         2-May-05          8830244003   \n",
       "\n",
       "  Code_Franchise               Name_Of_Bank  Revolving_Credit_Line  \n",
       "0              0            ICICI Bank Ltd.                    Yes  \n",
       "1              1     South Indian Bank Ltd.                     No  \n",
       "2              1          IDBI Bank Limited                    Yes  \n",
       "3              1              Aryavart Bank                    Yes  \n",
       "4              1  Paschim Banga Gramin Bank                     No  \n",
       "\n",
       "[5 rows x 25 columns]"
      ]
     },
     "execution_count": 5,
     "metadata": {},
     "output_type": "execute_result"
    }
   ],
   "source": [
    "df_test.head()"
   ]
  },
  {
   "cell_type": "code",
   "execution_count": 7,
   "id": "bbdc62d6",
   "metadata": {},
   "outputs": [
    {
     "data": {
      "text/plain": [
       "(105000, 26)"
      ]
     },
     "execution_count": 7,
     "metadata": {},
     "output_type": "execute_result"
    }
   ],
   "source": [
    "# shape of train dataset\n",
    "df_train.shape"
   ]
  },
  {
   "cell_type": "code",
   "execution_count": 8,
   "id": "c786ff05",
   "metadata": {},
   "outputs": [
    {
     "data": {
      "text/plain": [
       "(45000, 25)"
      ]
     },
     "execution_count": 8,
     "metadata": {},
     "output_type": "execute_result"
    }
   ],
   "source": [
    "# shape of test dataset\n",
    "df_test.shape"
   ]
  },
  {
   "cell_type": "markdown",
   "id": "518d67aa",
   "metadata": {},
   "source": [
    "## Info of Both Train and Test Dataset"
   ]
  },
  {
   "cell_type": "code",
   "execution_count": 9,
   "id": "9288a49e",
   "metadata": {},
   "outputs": [
    {
     "name": "stdout",
     "output_type": "stream",
     "text": [
      "<class 'pandas.core.frame.DataFrame'>\n",
      "RangeIndex: 105000 entries, 0 to 104999\n",
      "Data columns (total 26 columns):\n",
      " #   Column                     Non-Null Count   Dtype \n",
      "---  ------                     --------------   ----- \n",
      " 0   ID                         105000 non-null  int64 \n",
      " 1   Date_Of_Disbursement       104765 non-null  object\n",
      " 2   Business                   104985 non-null  object\n",
      " 3   Jobs_Reatained             105000 non-null  int64 \n",
      " 4   Jobs_Created               105000 non-null  int64 \n",
      " 5   Year_Of_Commitment         105000 non-null  object\n",
      " 6   Guaranteed_Approved _Loan  105000 non-null  object\n",
      " 7   Borrower_Name              104997 non-null  object\n",
      " 8   Low_Documentation_Loan     104633 non-null  object\n",
      " 9   Demography                 105000 non-null  object\n",
      " 10  State_Of_Bank              105000 non-null  object\n",
      " 11  ChargedOff_Amount          105000 non-null  object\n",
      " 12  Borrower_City              105000 non-null  object\n",
      " 13  Borrower_State             105000 non-null  object\n",
      " 14  Gross_Amount_Balance       105000 non-null  object\n",
      " 15  Count_Employees            105000 non-null  int64 \n",
      " 16  Classification_Code        105000 non-null  int64 \n",
      " 17  Loan_Approved_Gross        105000 non-null  object\n",
      " 18  Gross_Amount_Disbursed     105000 non-null  object\n",
      " 19  Loan_Term                  105000 non-null  int64 \n",
      " 20  Commitment_Date            105000 non-null  object\n",
      " 21  Primary_Loan_Digit         105000 non-null  int64 \n",
      " 22  Code_Franchise             105000 non-null  int64 \n",
      " 23  Name_Of_Bank               105000 non-null  object\n",
      " 24  Revolving_Credit_Line      104509 non-null  object\n",
      " 25  Default                    105000 non-null  int64 \n",
      "dtypes: int64(9), object(17)\n",
      "memory usage: 20.8+ MB\n"
     ]
    }
   ],
   "source": [
    "df_train.info()"
   ]
  },
  {
   "cell_type": "code",
   "execution_count": 10,
   "id": "1d266135",
   "metadata": {},
   "outputs": [
    {
     "name": "stdout",
     "output_type": "stream",
     "text": [
      "<class 'pandas.core.frame.DataFrame'>\n",
      "RangeIndex: 45000 entries, 0 to 44999\n",
      "Data columns (total 25 columns):\n",
      " #   Column                     Non-Null Count  Dtype \n",
      "---  ------                     --------------  ----- \n",
      " 0   ID                         45000 non-null  int64 \n",
      " 1   Date_Of_Disbursement       44892 non-null  object\n",
      " 2   Business                   44994 non-null  object\n",
      " 3   Jobs_Reatained             45000 non-null  int64 \n",
      " 4   Jobs_Created               45000 non-null  int64 \n",
      " 5   Year_Of_Commitment         45000 non-null  object\n",
      " 6   Guaranteed_Approved _Loan  45000 non-null  object\n",
      " 7   Borrower_Name              44998 non-null  object\n",
      " 8   Low_Documentation_Loan     44867 non-null  object\n",
      " 9   Demography                 45000 non-null  object\n",
      " 10  State_Of_Bank              45000 non-null  object\n",
      " 11  ChargedOff_Amount          45000 non-null  object\n",
      " 12  Borrower_City              45000 non-null  object\n",
      " 13  Borrower_State             44951 non-null  object\n",
      " 14  Gross_Amount_Balance       45000 non-null  object\n",
      " 15  Count_Employees            45000 non-null  int64 \n",
      " 16  Classification_Code        45000 non-null  int64 \n",
      " 17  Loan_Approved_Gross        45000 non-null  object\n",
      " 18  Gross_Amount_Disbursed     45000 non-null  object\n",
      " 19  Loan_Term                  45000 non-null  int64 \n",
      " 20  Commitment_Date            45000 non-null  object\n",
      " 21  Primary_Loan_Digit         45000 non-null  int64 \n",
      " 22  Code_Franchise             45000 non-null  int64 \n",
      " 23  Name_Of_Bank               45000 non-null  object\n",
      " 24  Revolving_Credit_Line      31175 non-null  object\n",
      "dtypes: int64(8), object(17)\n",
      "memory usage: 8.6+ MB\n"
     ]
    }
   ],
   "source": [
    "df_test.info()"
   ]
  },
  {
   "cell_type": "markdown",
   "id": "7a106fab",
   "metadata": {},
   "source": [
    "### Statistical Description of Train and Test Dataset"
   ]
  },
  {
   "cell_type": "code",
   "execution_count": 11,
   "id": "3ae7cf81",
   "metadata": {},
   "outputs": [
    {
     "data": {
      "text/html": [
       "<div>\n",
       "<style scoped>\n",
       "    .dataframe tbody tr th:only-of-type {\n",
       "        vertical-align: middle;\n",
       "    }\n",
       "\n",
       "    .dataframe tbody tr th {\n",
       "        vertical-align: top;\n",
       "    }\n",
       "\n",
       "    .dataframe thead th {\n",
       "        text-align: right;\n",
       "    }\n",
       "</style>\n",
       "<table border=\"1\" class=\"dataframe\">\n",
       "  <thead>\n",
       "    <tr style=\"text-align: right;\">\n",
       "      <th></th>\n",
       "      <th>ID</th>\n",
       "      <th>Jobs_Reatained</th>\n",
       "      <th>Jobs_Created</th>\n",
       "      <th>Count_Employees</th>\n",
       "      <th>Classification_Code</th>\n",
       "      <th>Loan_Term</th>\n",
       "      <th>Primary_Loan_Digit</th>\n",
       "      <th>Code_Franchise</th>\n",
       "      <th>Default</th>\n",
       "    </tr>\n",
       "  </thead>\n",
       "  <tbody>\n",
       "    <tr>\n",
       "      <th>count</th>\n",
       "      <td>105000.00000</td>\n",
       "      <td>105000.000000</td>\n",
       "      <td>105000.000000</td>\n",
       "      <td>105000.000000</td>\n",
       "      <td>105000.000000</td>\n",
       "      <td>105000.000000</td>\n",
       "      <td>1.050000e+05</td>\n",
       "      <td>105000.000000</td>\n",
       "      <td>105000.000000</td>\n",
       "    </tr>\n",
       "    <tr>\n",
       "      <th>mean</th>\n",
       "      <td>52499.50000</td>\n",
       "      <td>12.688648</td>\n",
       "      <td>10.379248</td>\n",
       "      <td>9.904248</td>\n",
       "      <td>405918.304276</td>\n",
       "      <td>156.438362</td>\n",
       "      <td>4.661622e+09</td>\n",
       "      <td>2707.201638</td>\n",
       "      <td>0.277181</td>\n",
       "    </tr>\n",
       "    <tr>\n",
       "      <th>std</th>\n",
       "      <td>30311.03347</td>\n",
       "      <td>270.544185</td>\n",
       "      <td>270.340849</td>\n",
       "      <td>58.157056</td>\n",
       "      <td>260335.963766</td>\n",
       "      <td>116.412721</td>\n",
       "      <td>2.546599e+09</td>\n",
       "      <td>12660.609090</td>\n",
       "      <td>0.447609</td>\n",
       "    </tr>\n",
       "    <tr>\n",
       "      <th>min</th>\n",
       "      <td>0.00000</td>\n",
       "      <td>0.000000</td>\n",
       "      <td>0.000000</td>\n",
       "      <td>0.000000</td>\n",
       "      <td>0.000000</td>\n",
       "      <td>0.000000</td>\n",
       "      <td>1.000034e+09</td>\n",
       "      <td>0.000000</td>\n",
       "      <td>0.000000</td>\n",
       "    </tr>\n",
       "    <tr>\n",
       "      <th>25%</th>\n",
       "      <td>26249.75000</td>\n",
       "      <td>0.000000</td>\n",
       "      <td>0.000000</td>\n",
       "      <td>2.000000</td>\n",
       "      <td>236115.000000</td>\n",
       "      <td>90.000000</td>\n",
       "      <td>2.478163e+09</td>\n",
       "      <td>0.000000</td>\n",
       "      <td>0.000000</td>\n",
       "    </tr>\n",
       "    <tr>\n",
       "      <th>50%</th>\n",
       "      <td>52499.50000</td>\n",
       "      <td>1.000000</td>\n",
       "      <td>0.000000</td>\n",
       "      <td>4.000000</td>\n",
       "      <td>447110.000000</td>\n",
       "      <td>126.000000</td>\n",
       "      <td>4.119824e+09</td>\n",
       "      <td>1.000000</td>\n",
       "      <td>0.000000</td>\n",
       "    </tr>\n",
       "    <tr>\n",
       "      <th>75%</th>\n",
       "      <td>78749.25000</td>\n",
       "      <td>4.000000</td>\n",
       "      <td>1.000000</td>\n",
       "      <td>9.000000</td>\n",
       "      <td>561740.000000</td>\n",
       "      <td>180.000000</td>\n",
       "      <td>6.760484e+09</td>\n",
       "      <td>1.000000</td>\n",
       "      <td>1.000000</td>\n",
       "    </tr>\n",
       "    <tr>\n",
       "      <th>max</th>\n",
       "      <td>104999.00000</td>\n",
       "      <td>8800.000000</td>\n",
       "      <td>8800.000000</td>\n",
       "      <td>7200.000000</td>\n",
       "      <td>928120.000000</td>\n",
       "      <td>692.000000</td>\n",
       "      <td>9.996003e+09</td>\n",
       "      <td>92006.000000</td>\n",
       "      <td>1.000000</td>\n",
       "    </tr>\n",
       "  </tbody>\n",
       "</table>\n",
       "</div>"
      ],
      "text/plain": [
       "                 ID  Jobs_Reatained  Jobs_Created   Count_Employees  \\\n",
       "count  105000.00000   105000.000000  105000.000000    105000.000000   \n",
       "mean    52499.50000       12.688648      10.379248         9.904248   \n",
       "std     30311.03347      270.544185     270.340849        58.157056   \n",
       "min         0.00000        0.000000       0.000000         0.000000   \n",
       "25%     26249.75000        0.000000       0.000000         2.000000   \n",
       "50%     52499.50000        1.000000       0.000000         4.000000   \n",
       "75%     78749.25000        4.000000       1.000000         9.000000   \n",
       "max    104999.00000     8800.000000    8800.000000      7200.000000   \n",
       "\n",
       "       Classification_Code       Loan_Term  Primary_Loan_Digit  \\\n",
       "count         105000.000000  105000.000000        1.050000e+05   \n",
       "mean          405918.304276     156.438362        4.661622e+09   \n",
       "std           260335.963766     116.412721        2.546599e+09   \n",
       "min                0.000000       0.000000        1.000034e+09   \n",
       "25%           236115.000000      90.000000        2.478163e+09   \n",
       "50%           447110.000000     126.000000        4.119824e+09   \n",
       "75%           561740.000000     180.000000        6.760484e+09   \n",
       "max           928120.000000     692.000000        9.996003e+09   \n",
       "\n",
       "       Code_Franchise        Default  \n",
       "count   105000.000000  105000.000000  \n",
       "mean      2707.201638       0.277181  \n",
       "std      12660.609090       0.447609  \n",
       "min          0.000000       0.000000  \n",
       "25%          0.000000       0.000000  \n",
       "50%          1.000000       0.000000  \n",
       "75%          1.000000       1.000000  \n",
       "max      92006.000000       1.000000  "
      ]
     },
     "execution_count": 11,
     "metadata": {},
     "output_type": "execute_result"
    }
   ],
   "source": [
    "df_train.describe()"
   ]
  },
  {
   "cell_type": "code",
   "execution_count": 12,
   "id": "fbd5c8fb",
   "metadata": {},
   "outputs": [
    {
     "data": {
      "text/html": [
       "<div>\n",
       "<style scoped>\n",
       "    .dataframe tbody tr th:only-of-type {\n",
       "        vertical-align: middle;\n",
       "    }\n",
       "\n",
       "    .dataframe tbody tr th {\n",
       "        vertical-align: top;\n",
       "    }\n",
       "\n",
       "    .dataframe thead th {\n",
       "        text-align: right;\n",
       "    }\n",
       "</style>\n",
       "<table border=\"1\" class=\"dataframe\">\n",
       "  <thead>\n",
       "    <tr style=\"text-align: right;\">\n",
       "      <th></th>\n",
       "      <th>ID</th>\n",
       "      <th>Jobs_Reatained</th>\n",
       "      <th>Jobs_Created</th>\n",
       "      <th>Count_Employees</th>\n",
       "      <th>Classification_Code</th>\n",
       "      <th>Loan_Term</th>\n",
       "      <th>Primary_Loan_Digit</th>\n",
       "      <th>Code_Franchise</th>\n",
       "    </tr>\n",
       "  </thead>\n",
       "  <tbody>\n",
       "    <tr>\n",
       "      <th>count</th>\n",
       "      <td>45000.000000</td>\n",
       "      <td>45000.000000</td>\n",
       "      <td>45000.000000</td>\n",
       "      <td>45000.000000</td>\n",
       "      <td>45000.000000</td>\n",
       "      <td>45000.000000</td>\n",
       "      <td>4.500000e+04</td>\n",
       "      <td>45000.000000</td>\n",
       "    </tr>\n",
       "    <tr>\n",
       "      <th>mean</th>\n",
       "      <td>127499.500000</td>\n",
       "      <td>11.420244</td>\n",
       "      <td>8.985000</td>\n",
       "      <td>10.328933</td>\n",
       "      <td>406331.106844</td>\n",
       "      <td>155.859733</td>\n",
       "      <td>4.650410e+09</td>\n",
       "      <td>2778.932422</td>\n",
       "    </tr>\n",
       "    <tr>\n",
       "      <th>std</th>\n",
       "      <td>12990.525394</td>\n",
       "      <td>249.032938</td>\n",
       "      <td>248.938817</td>\n",
       "      <td>97.484008</td>\n",
       "      <td>259459.201130</td>\n",
       "      <td>116.211145</td>\n",
       "      <td>2.537430e+09</td>\n",
       "      <td>12843.722921</td>\n",
       "    </tr>\n",
       "    <tr>\n",
       "      <th>min</th>\n",
       "      <td>105000.000000</td>\n",
       "      <td>0.000000</td>\n",
       "      <td>0.000000</td>\n",
       "      <td>0.000000</td>\n",
       "      <td>0.000000</td>\n",
       "      <td>0.000000</td>\n",
       "      <td>1.000534e+09</td>\n",
       "      <td>0.000000</td>\n",
       "    </tr>\n",
       "    <tr>\n",
       "      <th>25%</th>\n",
       "      <td>116249.750000</td>\n",
       "      <td>0.000000</td>\n",
       "      <td>0.000000</td>\n",
       "      <td>2.000000</td>\n",
       "      <td>236115.000000</td>\n",
       "      <td>88.000000</td>\n",
       "      <td>2.486456e+09</td>\n",
       "      <td>0.000000</td>\n",
       "    </tr>\n",
       "    <tr>\n",
       "      <th>50%</th>\n",
       "      <td>127499.500000</td>\n",
       "      <td>1.000000</td>\n",
       "      <td>0.000000</td>\n",
       "      <td>4.000000</td>\n",
       "      <td>447110.000000</td>\n",
       "      <td>126.000000</td>\n",
       "      <td>4.098569e+09</td>\n",
       "      <td>1.000000</td>\n",
       "    </tr>\n",
       "    <tr>\n",
       "      <th>75%</th>\n",
       "      <td>138749.250000</td>\n",
       "      <td>4.000000</td>\n",
       "      <td>1.000000</td>\n",
       "      <td>9.000000</td>\n",
       "      <td>561790.000000</td>\n",
       "      <td>180.000000</td>\n",
       "      <td>6.720642e+09</td>\n",
       "      <td>1.000000</td>\n",
       "    </tr>\n",
       "    <tr>\n",
       "      <th>max</th>\n",
       "      <td>149999.000000</td>\n",
       "      <td>8800.000000</td>\n",
       "      <td>8800.000000</td>\n",
       "      <td>8999.000000</td>\n",
       "      <td>928120.000000</td>\n",
       "      <td>758.000000</td>\n",
       "      <td>9.995473e+09</td>\n",
       "      <td>91350.000000</td>\n",
       "    </tr>\n",
       "  </tbody>\n",
       "</table>\n",
       "</div>"
      ],
      "text/plain": [
       "                  ID  Jobs_Reatained  Jobs_Created   Count_Employees  \\\n",
       "count   45000.000000    45000.000000   45000.000000     45000.000000   \n",
       "mean   127499.500000       11.420244       8.985000        10.328933   \n",
       "std     12990.525394      249.032938     248.938817        97.484008   \n",
       "min    105000.000000        0.000000       0.000000         0.000000   \n",
       "25%    116249.750000        0.000000       0.000000         2.000000   \n",
       "50%    127499.500000        1.000000       0.000000         4.000000   \n",
       "75%    138749.250000        4.000000       1.000000         9.000000   \n",
       "max    149999.000000     8800.000000    8800.000000      8999.000000   \n",
       "\n",
       "       Classification_Code      Loan_Term  Primary_Loan_Digit  Code_Franchise  \n",
       "count          45000.000000  45000.000000        4.500000e+04    45000.000000  \n",
       "mean          406331.106844    155.859733        4.650410e+09     2778.932422  \n",
       "std           259459.201130    116.211145        2.537430e+09    12843.722921  \n",
       "min                0.000000      0.000000        1.000534e+09        0.000000  \n",
       "25%           236115.000000     88.000000        2.486456e+09        0.000000  \n",
       "50%           447110.000000    126.000000        4.098569e+09        1.000000  \n",
       "75%           561790.000000    180.000000        6.720642e+09        1.000000  \n",
       "max           928120.000000    758.000000        9.995473e+09    91350.000000  "
      ]
     },
     "execution_count": 12,
     "metadata": {},
     "output_type": "execute_result"
    }
   ],
   "source": [
    "df_test.describe()"
   ]
  },
  {
   "cell_type": "code",
   "execution_count": 13,
   "id": "d3c2d697",
   "metadata": {},
   "outputs": [
    {
     "data": {
      "text/html": [
       "<div>\n",
       "<style scoped>\n",
       "    .dataframe tbody tr th:only-of-type {\n",
       "        vertical-align: middle;\n",
       "    }\n",
       "\n",
       "    .dataframe tbody tr th {\n",
       "        vertical-align: top;\n",
       "    }\n",
       "\n",
       "    .dataframe thead th {\n",
       "        text-align: right;\n",
       "    }\n",
       "</style>\n",
       "<table border=\"1\" class=\"dataframe\">\n",
       "  <thead>\n",
       "    <tr style=\"text-align: right;\">\n",
       "      <th></th>\n",
       "      <th>count</th>\n",
       "      <th>unique</th>\n",
       "      <th>top</th>\n",
       "      <th>freq</th>\n",
       "    </tr>\n",
       "  </thead>\n",
       "  <tbody>\n",
       "    <tr>\n",
       "      <th>Date_Of_Disbursement</th>\n",
       "      <td>104765</td>\n",
       "      <td>3505</td>\n",
       "      <td>31-Jul-95</td>\n",
       "      <td>1111</td>\n",
       "    </tr>\n",
       "    <tr>\n",
       "      <th>Business</th>\n",
       "      <td>104985</td>\n",
       "      <td>3</td>\n",
       "      <td>Existing</td>\n",
       "      <td>75091</td>\n",
       "    </tr>\n",
       "    <tr>\n",
       "      <th>Year_Of_Commitment</th>\n",
       "      <td>105000</td>\n",
       "      <td>91</td>\n",
       "      <td>2007</td>\n",
       "      <td>6769</td>\n",
       "    </tr>\n",
       "    <tr>\n",
       "      <th>Guaranteed_Approved _Loan</th>\n",
       "      <td>105000</td>\n",
       "      <td>10138</td>\n",
       "      <td>Rs.2032000.0</td>\n",
       "      <td>6464</td>\n",
       "    </tr>\n",
       "    <tr>\n",
       "      <th>Borrower_Name</th>\n",
       "      <td>104997</td>\n",
       "      <td>101068</td>\n",
       "      <td>SUBWAY</td>\n",
       "      <td>147</td>\n",
       "    </tr>\n",
       "    <tr>\n",
       "      <th>Low_Documentation_Loan</th>\n",
       "      <td>104633</td>\n",
       "      <td>7</td>\n",
       "      <td>No</td>\n",
       "      <td>92135</td>\n",
       "    </tr>\n",
       "    <tr>\n",
       "      <th>Demography</th>\n",
       "      <td>105000</td>\n",
       "      <td>3</td>\n",
       "      <td>Urban</td>\n",
       "      <td>57598</td>\n",
       "    </tr>\n",
       "    <tr>\n",
       "      <th>State_Of_Bank</th>\n",
       "      <td>105000</td>\n",
       "      <td>34</td>\n",
       "      <td>TR</td>\n",
       "      <td>15552</td>\n",
       "    </tr>\n",
       "    <tr>\n",
       "      <th>ChargedOff_Amount</th>\n",
       "      <td>105000</td>\n",
       "      <td>23059</td>\n",
       "      <td>Rs.0.0</td>\n",
       "      <td>75515</td>\n",
       "    </tr>\n",
       "    <tr>\n",
       "      <th>Borrower_City</th>\n",
       "      <td>105000</td>\n",
       "      <td>1193</td>\n",
       "      <td>Jhansi</td>\n",
       "      <td>1504</td>\n",
       "    </tr>\n",
       "    <tr>\n",
       "      <th>Borrower_State</th>\n",
       "      <td>105000</td>\n",
       "      <td>41</td>\n",
       "      <td>Maharashtra</td>\n",
       "      <td>11699</td>\n",
       "    </tr>\n",
       "    <tr>\n",
       "      <th>Gross_Amount_Balance</th>\n",
       "      <td>105000</td>\n",
       "      <td>3</td>\n",
       "      <td>Rs.0.0</td>\n",
       "      <td>104998</td>\n",
       "    </tr>\n",
       "    <tr>\n",
       "      <th>Loan_Approved_Gross</th>\n",
       "      <td>105000</td>\n",
       "      <td>6218</td>\n",
       "      <td>Rs.4064000.0</td>\n",
       "      <td>8708</td>\n",
       "    </tr>\n",
       "    <tr>\n",
       "      <th>Gross_Amount_Disbursed</th>\n",
       "      <td>105000</td>\n",
       "      <td>23443</td>\n",
       "      <td>Rs.4064000.0</td>\n",
       "      <td>5342</td>\n",
       "    </tr>\n",
       "    <tr>\n",
       "      <th>Commitment_Date</th>\n",
       "      <td>105000</td>\n",
       "      <td>7719</td>\n",
       "      <td>30-Jan-04</td>\n",
       "      <td>128</td>\n",
       "    </tr>\n",
       "    <tr>\n",
       "      <th>Name_Of_Bank</th>\n",
       "      <td>105000</td>\n",
       "      <td>143</td>\n",
       "      <td>ICICI Bank Ltd.</td>\n",
       "      <td>11215</td>\n",
       "    </tr>\n",
       "    <tr>\n",
       "      <th>Revolving_Credit_Line</th>\n",
       "      <td>104509</td>\n",
       "      <td>11</td>\n",
       "      <td>No</td>\n",
       "      <td>48122</td>\n",
       "    </tr>\n",
       "  </tbody>\n",
       "</table>\n",
       "</div>"
      ],
      "text/plain": [
       "                            count  unique              top    freq\n",
       "Date_Of_Disbursement       104765    3505        31-Jul-95    1111\n",
       "Business                   104985       3         Existing   75091\n",
       "Year_Of_Commitment         105000      91             2007    6769\n",
       "Guaranteed_Approved _Loan  105000   10138     Rs.2032000.0    6464\n",
       "Borrower_Name              104997  101068           SUBWAY     147\n",
       "Low_Documentation_Loan     104633       7               No   92135\n",
       "Demography                 105000       3            Urban   57598\n",
       "State_Of_Bank              105000      34               TR   15552\n",
       "ChargedOff_Amount          105000   23059           Rs.0.0   75515\n",
       "Borrower_City              105000    1193           Jhansi    1504\n",
       "Borrower_State             105000      41      Maharashtra   11699\n",
       "Gross_Amount_Balance       105000       3           Rs.0.0  104998\n",
       "Loan_Approved_Gross        105000    6218     Rs.4064000.0    8708\n",
       "Gross_Amount_Disbursed     105000   23443     Rs.4064000.0    5342\n",
       "Commitment_Date            105000    7719        30-Jan-04     128\n",
       "Name_Of_Bank               105000     143  ICICI Bank Ltd.   11215\n",
       "Revolving_Credit_Line      104509      11               No   48122"
      ]
     },
     "execution_count": 13,
     "metadata": {},
     "output_type": "execute_result"
    }
   ],
   "source": [
    "#five point summary of Categorical features of merged train dataset\n",
    "df_train.describe(include = ['object']).T"
   ]
  },
  {
   "cell_type": "markdown",
   "id": "00eafd82",
   "metadata": {},
   "source": [
    "### Checking for duplicate records in the Train dataset"
   ]
  },
  {
   "cell_type": "code",
   "execution_count": 14,
   "id": "84fc686c",
   "metadata": {},
   "outputs": [
    {
     "name": "stdout",
     "output_type": "stream",
     "text": [
      "Number of duplicate row = 0\n"
     ]
    }
   ],
   "source": [
    "#check for duplicate\n",
    "dups = df_train.duplicated()\n",
    "print('Number of duplicate row = %d' %(dups.sum()))"
   ]
  },
  {
   "cell_type": "code",
   "execution_count": 15,
   "id": "785d0258",
   "metadata": {},
   "outputs": [],
   "source": [
    "df_train_num = df_train.select_dtypes(['float64','int64'])\n",
    "df_train_cat = df_train.select_dtypes(['object'])"
   ]
  },
  {
   "cell_type": "code",
   "execution_count": 16,
   "id": "5dfb476f",
   "metadata": {},
   "outputs": [
    {
     "data": {
      "text/plain": [
       "ID                      0\n",
       "Jobs_Reatained          0\n",
       "Jobs_Created            0\n",
       "Count_Employees         0\n",
       "Classification_Code     0\n",
       "Loan_Term               0\n",
       "Primary_Loan_Digit      0\n",
       "Code_Franchise          0\n",
       "Default                 0\n",
       "dtype: int64"
      ]
     },
     "execution_count": 16,
     "metadata": {},
     "output_type": "execute_result"
    }
   ],
   "source": [
    "df_train_num.isnull().sum()"
   ]
  },
  {
   "cell_type": "code",
   "execution_count": 17,
   "id": "63ebf3c2",
   "metadata": {},
   "outputs": [
    {
     "data": {
      "text/plain": [
       "Date_Of_Disbursement         235\n",
       "Business                      15\n",
       "Year_Of_Commitment             0\n",
       "Guaranteed_Approved _Loan      0\n",
       "Borrower_Name                  3\n",
       "Low_Documentation_Loan       367\n",
       "Demography                     0\n",
       "State_Of_Bank                  0\n",
       "ChargedOff_Amount              0\n",
       "Borrower_City                  0\n",
       "Borrower_State                 0\n",
       "Gross_Amount_Balance           0\n",
       "Loan_Approved_Gross            0\n",
       "Gross_Amount_Disbursed         0\n",
       "Commitment_Date                0\n",
       "Name_Of_Bank                   0\n",
       "Revolving_Credit_Line        491\n",
       "dtype: int64"
      ]
     },
     "execution_count": 17,
     "metadata": {},
     "output_type": "execute_result"
    }
   ],
   "source": [
    "df_train_cat.isnull().sum()"
   ]
  },
  {
   "cell_type": "code",
   "execution_count": 18,
   "id": "ff36bc9e",
   "metadata": {},
   "outputs": [],
   "source": [
    "df_train_cat = df_train_cat.apply(lambda x: x.fillna(x.value_counts().index[0]))"
   ]
  },
  {
   "cell_type": "code",
   "execution_count": 19,
   "id": "8606a66e",
   "metadata": {},
   "outputs": [
    {
     "data": {
      "text/plain": [
       "Date_Of_Disbursement         0\n",
       "Business                     0\n",
       "Year_Of_Commitment           0\n",
       "Guaranteed_Approved _Loan    0\n",
       "Borrower_Name                0\n",
       "Low_Documentation_Loan       0\n",
       "Demography                   0\n",
       "State_Of_Bank                0\n",
       "ChargedOff_Amount            0\n",
       "Borrower_City                0\n",
       "Borrower_State               0\n",
       "Gross_Amount_Balance         0\n",
       "Loan_Approved_Gross          0\n",
       "Gross_Amount_Disbursed       0\n",
       "Commitment_Date              0\n",
       "Name_Of_Bank                 0\n",
       "Revolving_Credit_Line        0\n",
       "dtype: int64"
      ]
     },
     "execution_count": 19,
     "metadata": {},
     "output_type": "execute_result"
    }
   ],
   "source": [
    "df_train_cat.isnull().sum()"
   ]
  },
  {
   "cell_type": "code",
   "execution_count": 21,
   "id": "14693ba4",
   "metadata": {},
   "outputs": [
    {
     "data": {
      "text/html": [
       "<div>\n",
       "<style scoped>\n",
       "    .dataframe tbody tr th:only-of-type {\n",
       "        vertical-align: middle;\n",
       "    }\n",
       "\n",
       "    .dataframe tbody tr th {\n",
       "        vertical-align: top;\n",
       "    }\n",
       "\n",
       "    .dataframe thead th {\n",
       "        text-align: right;\n",
       "    }\n",
       "</style>\n",
       "<table border=\"1\" class=\"dataframe\">\n",
       "  <thead>\n",
       "    <tr style=\"text-align: right;\">\n",
       "      <th></th>\n",
       "      <th>Date_Of_Disbursement</th>\n",
       "      <th>Business</th>\n",
       "      <th>Year_Of_Commitment</th>\n",
       "      <th>Guaranteed_Approved _Loan</th>\n",
       "      <th>Borrower_Name</th>\n",
       "      <th>Low_Documentation_Loan</th>\n",
       "      <th>Demography</th>\n",
       "      <th>State_Of_Bank</th>\n",
       "      <th>ChargedOff_Amount</th>\n",
       "      <th>Borrower_City</th>\n",
       "      <th>Borrower_State</th>\n",
       "      <th>Gross_Amount_Balance</th>\n",
       "      <th>Loan_Approved_Gross</th>\n",
       "      <th>Gross_Amount_Disbursed</th>\n",
       "      <th>Commitment_Date</th>\n",
       "      <th>Name_Of_Bank</th>\n",
       "      <th>Revolving_Credit_Line</th>\n",
       "    </tr>\n",
       "  </thead>\n",
       "  <tbody>\n",
       "    <tr>\n",
       "      <th>0</th>\n",
       "      <td>31-Jul-91</td>\n",
       "      <td>Existing</td>\n",
       "      <td>1991</td>\n",
       "      <td>Rs.33121600.0</td>\n",
       "      <td>STANDARD PARTS CORPORATION</td>\n",
       "      <td>No</td>\n",
       "      <td>Undefined</td>\n",
       "      <td>AP</td>\n",
       "      <td>Rs.0.0</td>\n",
       "      <td>Mumbai</td>\n",
       "      <td>Maharashtra</td>\n",
       "      <td>Rs.0.0</td>\n",
       "      <td>Rs.40640000.0</td>\n",
       "      <td>Rs.40640000.0</td>\n",
       "      <td>2-Apr-91</td>\n",
       "      <td>Axis Bank Ltd.</td>\n",
       "      <td>No</td>\n",
       "    </tr>\n",
       "    <tr>\n",
       "      <th>1</th>\n",
       "      <td>30-Apr-06</td>\n",
       "      <td>New</td>\n",
       "      <td>2006</td>\n",
       "      <td>Rs.32735520.0</td>\n",
       "      <td>FRANK &amp; KERI AMESTOY</td>\n",
       "      <td>No</td>\n",
       "      <td>Urban</td>\n",
       "      <td>TR</td>\n",
       "      <td>Rs.38283367.68</td>\n",
       "      <td>Delhi</td>\n",
       "      <td>Delhi</td>\n",
       "      <td>Rs.0.0</td>\n",
       "      <td>Rs.43647360.0</td>\n",
       "      <td>Rs.43647360.0</td>\n",
       "      <td>10-Apr-06</td>\n",
       "      <td>Bandhan Bank Ltd.</td>\n",
       "      <td>0</td>\n",
       "    </tr>\n",
       "    <tr>\n",
       "      <th>2</th>\n",
       "      <td>30-Jun-04</td>\n",
       "      <td>Existing</td>\n",
       "      <td>2004</td>\n",
       "      <td>Rs.1422400.0</td>\n",
       "      <td>TELECOMMQC L L C</td>\n",
       "      <td>No</td>\n",
       "      <td>Urban</td>\n",
       "      <td>AS</td>\n",
       "      <td>Rs.0.0</td>\n",
       "      <td>Bengaluru</td>\n",
       "      <td>Karnataka</td>\n",
       "      <td>Rs.0.0</td>\n",
       "      <td>Rs.2844800.0</td>\n",
       "      <td>Rs.5961400.32</td>\n",
       "      <td>25-May-04</td>\n",
       "      <td>CSB Bank Limited</td>\n",
       "      <td>Yes</td>\n",
       "    </tr>\n",
       "    <tr>\n",
       "      <th>3</th>\n",
       "      <td>31-Jan-06</td>\n",
       "      <td>New</td>\n",
       "      <td>2006</td>\n",
       "      <td>Rs.2032000.0</td>\n",
       "      <td>K &amp; A AUTOMOTIVE, INC. DBA MUF</td>\n",
       "      <td>No</td>\n",
       "      <td>Urban</td>\n",
       "      <td>BR</td>\n",
       "      <td>Rs.0.0</td>\n",
       "      <td>Ahmedabad</td>\n",
       "      <td>Gujarat</td>\n",
       "      <td>Rs.0.0</td>\n",
       "      <td>Rs.4064000.0</td>\n",
       "      <td>Rs.4064000.0</td>\n",
       "      <td>21-Dec-05</td>\n",
       "      <td>City Union Bank Ltd.</td>\n",
       "      <td>Yes</td>\n",
       "    </tr>\n",
       "    <tr>\n",
       "      <th>4</th>\n",
       "      <td>31-Dec-04</td>\n",
       "      <td>Existing</td>\n",
       "      <td>2005</td>\n",
       "      <td>Rs.22981920.0</td>\n",
       "      <td>SUNBEAM DELI</td>\n",
       "      <td>No</td>\n",
       "      <td>Urban</td>\n",
       "      <td>TR</td>\n",
       "      <td>Rs.22862519.68</td>\n",
       "      <td>Hyderabad</td>\n",
       "      <td>Telangana</td>\n",
       "      <td>Rs.0.0</td>\n",
       "      <td>Rs.30642560.0</td>\n",
       "      <td>Rs.30642560.0</td>\n",
       "      <td>2-Nov-04</td>\n",
       "      <td>DCB Bank Ltd.</td>\n",
       "      <td>0</td>\n",
       "    </tr>\n",
       "  </tbody>\n",
       "</table>\n",
       "</div>"
      ],
      "text/plain": [
       "  Date_Of_Disbursement  Business Year_Of_Commitment   \\\n",
       "0            31-Jul-91  Existing                1991   \n",
       "1            30-Apr-06       New                2006   \n",
       "2            30-Jun-04  Existing                2004   \n",
       "3            31-Jan-06       New                2006   \n",
       "4            31-Dec-04  Existing                2005   \n",
       "\n",
       "  Guaranteed_Approved _Loan                  Borrower_Name   \\\n",
       "0             Rs.33121600.0      STANDARD PARTS CORPORATION   \n",
       "1             Rs.32735520.0            FRANK & KERI AMESTOY   \n",
       "2              Rs.1422400.0                TELECOMMQC L L C   \n",
       "3              Rs.2032000.0  K & A AUTOMOTIVE, INC. DBA MUF   \n",
       "4             Rs.22981920.0                    SUNBEAM DELI   \n",
       "\n",
       "  Low_Documentation_Loan Demography State_Of_Bank ChargedOff_Amount   \\\n",
       "0                     No  Undefined            AP             Rs.0.0   \n",
       "1                     No      Urban            TR     Rs.38283367.68   \n",
       "2                     No      Urban            AS             Rs.0.0   \n",
       "3                     No      Urban            BR             Rs.0.0   \n",
       "4                     No      Urban            TR     Rs.22862519.68   \n",
       "\n",
       "  Borrower_City Borrower_State Gross_Amount_Balance Loan_Approved_Gross  \\\n",
       "0        Mumbai    Maharashtra               Rs.0.0       Rs.40640000.0   \n",
       "1         Delhi          Delhi               Rs.0.0       Rs.43647360.0   \n",
       "2     Bengaluru      Karnataka               Rs.0.0        Rs.2844800.0   \n",
       "3     Ahmedabad        Gujarat               Rs.0.0        Rs.4064000.0   \n",
       "4     Hyderabad      Telangana               Rs.0.0       Rs.30642560.0   \n",
       "\n",
       "  Gross_Amount_Disbursed   Commitment_Date          Name_Of_Bank  \\\n",
       "0            Rs.40640000.0        2-Apr-91        Axis Bank Ltd.   \n",
       "1            Rs.43647360.0       10-Apr-06     Bandhan Bank Ltd.   \n",
       "2            Rs.5961400.32       25-May-04      CSB Bank Limited   \n",
       "3             Rs.4064000.0       21-Dec-05  City Union Bank Ltd.   \n",
       "4            Rs.30642560.0        2-Nov-04         DCB Bank Ltd.   \n",
       "\n",
       "  Revolving_Credit_Line  \n",
       "0                    No  \n",
       "1                     0  \n",
       "2                   Yes  \n",
       "3                   Yes  \n",
       "4                     0  "
      ]
     },
     "execution_count": 21,
     "metadata": {},
     "output_type": "execute_result"
    }
   ],
   "source": [
    "df_train_cat.head()"
   ]
  },
  {
   "cell_type": "code",
   "execution_count": 22,
   "id": "4cefa10d",
   "metadata": {},
   "outputs": [
    {
     "data": {
      "text/html": [
       "<div>\n",
       "<style scoped>\n",
       "    .dataframe tbody tr th:only-of-type {\n",
       "        vertical-align: middle;\n",
       "    }\n",
       "\n",
       "    .dataframe tbody tr th {\n",
       "        vertical-align: top;\n",
       "    }\n",
       "\n",
       "    .dataframe thead th {\n",
       "        text-align: right;\n",
       "    }\n",
       "</style>\n",
       "<table border=\"1\" class=\"dataframe\">\n",
       "  <thead>\n",
       "    <tr style=\"text-align: right;\">\n",
       "      <th></th>\n",
       "      <th>ID</th>\n",
       "      <th>Jobs_Reatained</th>\n",
       "      <th>Jobs_Created</th>\n",
       "      <th>Count_Employees</th>\n",
       "      <th>Classification_Code</th>\n",
       "      <th>Loan_Term</th>\n",
       "      <th>Primary_Loan_Digit</th>\n",
       "      <th>Code_Franchise</th>\n",
       "      <th>Default</th>\n",
       "    </tr>\n",
       "  </thead>\n",
       "  <tbody>\n",
       "    <tr>\n",
       "      <th>0</th>\n",
       "      <td>0</td>\n",
       "      <td>0</td>\n",
       "      <td>0</td>\n",
       "      <td>38</td>\n",
       "      <td>0</td>\n",
       "      <td>126</td>\n",
       "      <td>4419763001</td>\n",
       "      <td>1</td>\n",
       "      <td>0</td>\n",
       "    </tr>\n",
       "    <tr>\n",
       "      <th>1</th>\n",
       "      <td>1</td>\n",
       "      <td>0</td>\n",
       "      <td>6</td>\n",
       "      <td>6</td>\n",
       "      <td>451120</td>\n",
       "      <td>123</td>\n",
       "      <td>1709796003</td>\n",
       "      <td>1</td>\n",
       "      <td>1</td>\n",
       "    </tr>\n",
       "    <tr>\n",
       "      <th>2</th>\n",
       "      <td>2</td>\n",
       "      <td>4</td>\n",
       "      <td>0</td>\n",
       "      <td>4</td>\n",
       "      <td>541618</td>\n",
       "      <td>90</td>\n",
       "      <td>7464754008</td>\n",
       "      <td>1</td>\n",
       "      <td>0</td>\n",
       "    </tr>\n",
       "    <tr>\n",
       "      <th>3</th>\n",
       "      <td>3</td>\n",
       "      <td>9</td>\n",
       "      <td>1</td>\n",
       "      <td>7</td>\n",
       "      <td>811112</td>\n",
       "      <td>126</td>\n",
       "      <td>1588745006</td>\n",
       "      <td>0</td>\n",
       "      <td>0</td>\n",
       "    </tr>\n",
       "    <tr>\n",
       "      <th>4</th>\n",
       "      <td>4</td>\n",
       "      <td>4</td>\n",
       "      <td>0</td>\n",
       "      <td>4</td>\n",
       "      <td>722211</td>\n",
       "      <td>104</td>\n",
       "      <td>8037734002</td>\n",
       "      <td>1</td>\n",
       "      <td>1</td>\n",
       "    </tr>\n",
       "  </tbody>\n",
       "</table>\n",
       "</div>"
      ],
      "text/plain": [
       "   ID  Jobs_Reatained  Jobs_Created   Count_Employees  Classification_Code   \\\n",
       "0   0               0              0               38                     0   \n",
       "1   1               0              6                6                451120   \n",
       "2   2               4              0                4                541618   \n",
       "3   3               9              1                7                811112   \n",
       "4   4               4              0                4                722211   \n",
       "\n",
       "   Loan_Term  Primary_Loan_Digit  Code_Franchise  Default  \n",
       "0        126          4419763001               1        0  \n",
       "1        123          1709796003               1        1  \n",
       "2         90          7464754008               1        0  \n",
       "3        126          1588745006               0        0  \n",
       "4        104          8037734002               1        1  "
      ]
     },
     "execution_count": 22,
     "metadata": {},
     "output_type": "execute_result"
    }
   ],
   "source": [
    "df_train_num.head()"
   ]
  },
  {
   "cell_type": "code",
   "execution_count": 23,
   "id": "2c0ee397",
   "metadata": {},
   "outputs": [
    {
     "name": "stdout",
     "output_type": "stream",
     "text": [
      "Date_Of_Disbursement\n",
      "31-Jul-95    1111\n",
      "30-Apr-95    1077\n",
      "31-Jan-95    1064\n",
      "31-Oct-94     946\n",
      "31-Mar-06     922\n",
      "             ... \n",
      "13-Dec-94       1\n",
      "11-Feb-80       1\n",
      "23-May-12       1\n",
      "14-Jan-81       1\n",
      "2-May-80        1\n",
      "Name: Date_Of_Disbursement, Length: 3505, dtype: int64\n",
      "\n",
      "\n",
      "Business\n",
      "Existing    75091\n",
      "New         29789\n",
      "0             105\n",
      "Name: Business, dtype: int64\n",
      "\n",
      "\n",
      "Year_Of_Commitment \n",
      "2007    6769\n",
      "2006    6755\n",
      "2005    6705\n",
      "2004    5440\n",
      "2003    4501\n",
      "        ... \n",
      "1972       2\n",
      "1975       2\n",
      "1971       2\n",
      "1969       1\n",
      "1976       1\n",
      "Name: Year_Of_Commitment , Length: 91, dtype: int64\n",
      "\n",
      "\n",
      "Guaranteed_Approved _Loan\n",
      "Rs.2032000.0     6464\n",
      "Rs.1016000.0     5179\n",
      "Rs.406400.0      3820\n",
      "Rs.4064000.0     3192\n",
      "Rs.1422400.0     2153\n",
      "                 ... \n",
      "Rs.5257596.8        1\n",
      "Rs.16026384.0       1\n",
      "Rs.403148.8         1\n",
      "Rs.40388844.8       1\n",
      "Rs.59765184.0       1\n",
      "Name: Guaranteed_Approved _Loan, Length: 10138, dtype: int64\n",
      "\n",
      "\n",
      "Borrower_Name \n",
      "SUBWAY                            147\n",
      "QUIZNO'S SUBS                      50\n",
      "COLD STONE CREAMERY                42\n",
      "MAIL BOXES ETC                     41\n",
      "DOMINO'S PIZZA                     39\n",
      "                                 ... \n",
      "WADE'S FOODS INC                    1\n",
      "ATA FITNESS CENTER                  1\n",
      "JOHN M & CONNE F. GRUBB.            1\n",
      "ACTION CERTIFIED SIGNING AGENT      1\n",
      "SOUTH MOUNTAIN FITNESS, A PART      1\n",
      "Name: Borrower_Name , Length: 101068, dtype: int64\n",
      "\n",
      "\n",
      "Low_Documentation_Loan\n",
      "No     92135\n",
      "Yes    12075\n",
      "0        173\n",
      "S         95\n",
      "C         89\n",
      "A         60\n",
      "R          6\n",
      "Name: Low_Documentation_Loan, dtype: int64\n",
      "\n",
      "\n",
      "Demography\n",
      "Urban        57598\n",
      "Undefined    35099\n",
      "Rural        12303\n",
      "Name: Demography, dtype: int64\n",
      "\n",
      "\n",
      "State_Of_Bank\n",
      "TR    15552\n",
      "GJ    10902\n",
      "AS     9179\n",
      "JH     7135\n",
      "ML     5938\n",
      "MH     5565\n",
      "BR     5468\n",
      "PB     4614\n",
      "AR     4559\n",
      "OR     3951\n",
      "AP     3015\n",
      "LD     2978\n",
      "HP     2925\n",
      "JK     2498\n",
      "CH     2169\n",
      "KA     2092\n",
      "HR     1736\n",
      "KL     1712\n",
      "CG     1678\n",
      "UP     1665\n",
      "GA     1385\n",
      "RJ     1064\n",
      "MP     1018\n",
      "WB     1002\n",
      "DL      804\n",
      "PY      759\n",
      "NL      678\n",
      "DH      583\n",
      "MZ      546\n",
      "SK      471\n",
      "DD      462\n",
      "UK      459\n",
      "AN      420\n",
      "MN       18\n",
      "Name: State_Of_Bank, dtype: int64\n",
      "\n",
      "\n",
      "ChargedOff_Amount \n",
      "Rs.0.0            75515\n",
      "Rs.4064000.0        401\n",
      "Rs.812800.0         340\n",
      "Rs.2844800.0        288\n",
      "Rs.2032000.0        265\n",
      "                  ...  \n",
      "Rs.4595733.76         1\n",
      "Rs.594156.8           1\n",
      "Rs.29413281.28        1\n",
      "Rs.23702629.76        1\n",
      "Rs.971296.0           1\n",
      "Name: ChargedOff_Amount , Length: 23059, dtype: int64\n",
      "\n",
      "\n",
      "Borrower_City\n",
      "Jhansi          1504\n",
      "Siliguri        1253\n",
      "Ramagundam      1013\n",
      "Baramula         831\n",
      "Sahibganj        781\n",
      "                ... \n",
      "Malkapur          24\n",
      "Pasighat          22\n",
      "Muvattupuzha      21\n",
      "Sattenapalle      21\n",
      "Mudhol            19\n",
      "Name: Borrower_City, Length: 1193, dtype: int64\n",
      "\n",
      "\n",
      "Borrower_State\n",
      "Maharashtra                    11699\n",
      "Uttar Pradesh                  11101\n",
      "Tamil Nadu                      8805\n",
      "Andhra Pradesh                  7119\n",
      "Madhya Pradesh                  6873\n",
      "Gujarat                         6386\n",
      "Bihar                           5684\n",
      "Karnataka                       5672\n",
      "Rajasthan                       5361\n",
      "West Bengal                     4709\n",
      "Kerala                          4176\n",
      "Punjab                          4098\n",
      "Telangana                       3866\n",
      "Jharkhand                       2925\n",
      "Haryana                         2698\n",
      "Chhattisgarh                    2534\n",
      "Odisha                          2517\n",
      "Assam                           1767\n",
      "Jammu and Kashmir               1632\n",
      "Uttarakhand                     1419\n",
      "Goa                              692\n",
      "Manipur                          400\n",
      "Tripura                          392\n",
      "Nagaland                         383\n",
      "Delhi                            359\n",
      "Meghalaya                        329\n",
      "Himachal Pradesh                 311\n",
      "Puducherry                       302\n",
      "Mizoram                          166\n",
      "Chandigarh                        92\n",
      "Arunachal Pradesh                 71\n",
      " Ajmer                            67\n",
      " Farrukhabad                      64\n",
      " India                            51\n",
      " Agra                             48\n",
      " Hardoi                           41\n",
      " Rampur                           41\n",
      "Karnatka                          40\n",
      "Andaman and Nicobar Islands       39\n",
      "Dadra and Nagar Haveli            37\n",
      " Bulandshahr                      34\n",
      "Name: Borrower_State, dtype: int64\n",
      "\n",
      "\n",
      "Gross_Amount_Balance\n",
      "Rs.0.0           104998\n",
      "Rs.143052.8           1\n",
      "Rs.7876682.24         1\n",
      "Name: Gross_Amount_Balance, dtype: int64\n",
      "\n",
      "\n",
      "Loan_Approved_Gross\n",
      "Rs.4064000.0     8708\n",
      "Rs.2032000.0     6566\n",
      "Rs.8128000.0     6095\n",
      "Rs.812800.0      4809\n",
      "Rs.12192000.0    3134\n",
      "                 ... \n",
      "Rs.6035040.0        1\n",
      "Rs.19295872.0       1\n",
      "Rs.4659376.0        1\n",
      "Rs.22033382.4       1\n",
      "Rs.37242496.0       1\n",
      "Name: Loan_Approved_Gross, Length: 6218, dtype: int64\n",
      "\n",
      "\n",
      "Gross_Amount_Disbursed  \n",
      "Rs.4064000.0      5342\n",
      "Rs.8128000.0      4263\n",
      "Rs.2032000.0      3375\n",
      "Rs.12192000.0     2694\n",
      "Rs.812800.0       2642\n",
      "                  ... \n",
      "Rs.4100413.44        1\n",
      "Rs.13566282.24       1\n",
      "Rs.6514917.12        1\n",
      "Rs.19924735.36       1\n",
      "Rs.3287044.48        1\n",
      "Name: Gross_Amount_Disbursed  , Length: 23443, dtype: int64\n",
      "\n",
      "\n",
      "Commitment_Date\n",
      "30-Jan-04    128\n",
      "7-Jul-93     108\n",
      "8-Jul-93      87\n",
      "21-Jan-05     72\n",
      "30-Jun-05     72\n",
      "            ... \n",
      "19-Feb-87      1\n",
      "23-Sep-82      1\n",
      "20-Oct-77      1\n",
      "30-Apr-13      1\n",
      "21-Dec-83      1\n",
      "Name: Commitment_Date, Length: 7719, dtype: int64\n",
      "\n",
      "\n",
      "Name_Of_Bank\n",
      "ICICI Bank Ltd.                    11215\n",
      "IDBI Bank Limited                   7643\n",
      "Dhanlaxmi Bank Ltd.                 7314\n",
      "City Union Bank Ltd.                4541\n",
      "Karur Vysya Bank Ltd.               4218\n",
      "                                   ...  \n",
      "Utkarsh Small Finance Bank Ltd.      146\n",
      "Emirates NBD Bank PJSC               133\n",
      "State Bank of India                  118\n",
      "Himachal Pradesh Gramin Bank         112\n",
      "Barclays Bank Plc.                    93\n",
      "Name: Name_Of_Bank, Length: 143, dtype: int64\n",
      "\n",
      "\n",
      "Revolving_Credit_Line\n",
      "No     48122\n",
      "0      29612\n",
      "Yes    24643\n",
      "T       2120\n",
      "R          4\n",
      "`          2\n",
      "1          2\n",
      "2          1\n",
      "4          1\n",
      ".          1\n",
      "C          1\n",
      "Name: Revolving_Credit_Line, dtype: int64\n",
      "\n",
      "\n"
     ]
    }
   ],
   "source": [
    "for feature in df_train.columns:\n",
    "    if df_train[feature].dtype == 'object':\n",
    "        print(feature)\n",
    "        print(df_train[feature].value_counts())\n",
    "        print('\\n')    "
   ]
  },
  {
   "cell_type": "code",
   "execution_count": 24,
   "id": "cbca5bda",
   "metadata": {},
   "outputs": [
    {
     "data": {
      "text/plain": [
       "Index(['ID', 'Date_Of_Disbursement', 'Business', 'Jobs_Reatained',\n",
       "       'Jobs_Created ', 'Year_Of_Commitment ', 'Guaranteed_Approved _Loan',\n",
       "       'Borrower_Name ', 'Low_Documentation_Loan', 'Demography',\n",
       "       'State_Of_Bank', 'ChargedOff_Amount ', 'Borrower_City',\n",
       "       'Borrower_State', 'Gross_Amount_Balance', 'Count_Employees',\n",
       "       'Classification_Code ', 'Loan_Approved_Gross',\n",
       "       'Gross_Amount_Disbursed  ', 'Loan_Term', 'Commitment_Date',\n",
       "       'Primary_Loan_Digit', 'Code_Franchise', 'Name_Of_Bank',\n",
       "       'Revolving_Credit_Line', 'Default'],\n",
       "      dtype='object')"
      ]
     },
     "execution_count": 24,
     "metadata": {},
     "output_type": "execute_result"
    }
   ],
   "source": [
    "df_train.columns"
   ]
  },
  {
   "cell_type": "markdown",
   "id": "9a73aaa5",
   "metadata": {},
   "source": [
    "### Test dataset"
   ]
  },
  {
   "cell_type": "code",
   "execution_count": 25,
   "id": "0f5a7d29",
   "metadata": {},
   "outputs": [
    {
     "data": {
      "text/html": [
       "<div>\n",
       "<style scoped>\n",
       "    .dataframe tbody tr th:only-of-type {\n",
       "        vertical-align: middle;\n",
       "    }\n",
       "\n",
       "    .dataframe tbody tr th {\n",
       "        vertical-align: top;\n",
       "    }\n",
       "\n",
       "    .dataframe thead th {\n",
       "        text-align: right;\n",
       "    }\n",
       "</style>\n",
       "<table border=\"1\" class=\"dataframe\">\n",
       "  <thead>\n",
       "    <tr style=\"text-align: right;\">\n",
       "      <th></th>\n",
       "      <th>ID</th>\n",
       "      <th>Date_Of_Disbursement</th>\n",
       "      <th>Business</th>\n",
       "      <th>Jobs_Reatained</th>\n",
       "      <th>Jobs_Created</th>\n",
       "      <th>Year_Of_Commitment</th>\n",
       "      <th>Guaranteed_Approved _Loan</th>\n",
       "      <th>Borrower_Name</th>\n",
       "      <th>Low_Documentation_Loan</th>\n",
       "      <th>Demography</th>\n",
       "      <th>...</th>\n",
       "      <th>Count_Employees</th>\n",
       "      <th>Classification_Code</th>\n",
       "      <th>Loan_Approved_Gross</th>\n",
       "      <th>Gross_Amount_Disbursed</th>\n",
       "      <th>Loan_Term</th>\n",
       "      <th>Commitment_Date</th>\n",
       "      <th>Primary_Loan_Digit</th>\n",
       "      <th>Code_Franchise</th>\n",
       "      <th>Name_Of_Bank</th>\n",
       "      <th>Revolving_Credit_Line</th>\n",
       "    </tr>\n",
       "  </thead>\n",
       "  <tbody>\n",
       "    <tr>\n",
       "      <th>0</th>\n",
       "      <td>105000</td>\n",
       "      <td>31-Mar-06</td>\n",
       "      <td>Existing</td>\n",
       "      <td>19</td>\n",
       "      <td>0</td>\n",
       "      <td>2006</td>\n",
       "      <td>Rs.4064000.0</td>\n",
       "      <td>Diversified Display Products o</td>\n",
       "      <td>No</td>\n",
       "      <td>Urban</td>\n",
       "      <td>...</td>\n",
       "      <td>17</td>\n",
       "      <td>326199</td>\n",
       "      <td>Rs.8128000.0</td>\n",
       "      <td>Rs.9403852.16</td>\n",
       "      <td>57</td>\n",
       "      <td>9-Mar-06</td>\n",
       "      <td>1702825000</td>\n",
       "      <td>0</td>\n",
       "      <td>ICICI Bank Ltd.</td>\n",
       "      <td>Yes</td>\n",
       "    </tr>\n",
       "    <tr>\n",
       "      <th>1</th>\n",
       "      <td>105001</td>\n",
       "      <td>31-Jan-95</td>\n",
       "      <td>Existing</td>\n",
       "      <td>0</td>\n",
       "      <td>0</td>\n",
       "      <td>1995</td>\n",
       "      <td>Rs.1463040.0</td>\n",
       "      <td>FOOTE CONSULTING GROUP, INC.</td>\n",
       "      <td>Yes</td>\n",
       "      <td>Undefined</td>\n",
       "      <td>...</td>\n",
       "      <td>2</td>\n",
       "      <td>0</td>\n",
       "      <td>Rs.1625600.0</td>\n",
       "      <td>Rs.1625600.0</td>\n",
       "      <td>90</td>\n",
       "      <td>14-Dec-94</td>\n",
       "      <td>7908833003</td>\n",
       "      <td>1</td>\n",
       "      <td>South Indian Bank Ltd.</td>\n",
       "      <td>No</td>\n",
       "    </tr>\n",
       "    <tr>\n",
       "      <th>2</th>\n",
       "      <td>105002</td>\n",
       "      <td>30-Sep-06</td>\n",
       "      <td>Existing</td>\n",
       "      <td>7</td>\n",
       "      <td>5</td>\n",
       "      <td>2006</td>\n",
       "      <td>Rs.812800.0</td>\n",
       "      <td>INTEGRATED COMERCIAL ENTERPRIS</td>\n",
       "      <td>No</td>\n",
       "      <td>Urban</td>\n",
       "      <td>...</td>\n",
       "      <td>2</td>\n",
       "      <td>541611</td>\n",
       "      <td>Rs.1625600.0</td>\n",
       "      <td>Rs.3450336.0</td>\n",
       "      <td>81</td>\n",
       "      <td>25-Aug-06</td>\n",
       "      <td>2361626001</td>\n",
       "      <td>1</td>\n",
       "      <td>IDBI Bank Limited</td>\n",
       "      <td>Yes</td>\n",
       "    </tr>\n",
       "    <tr>\n",
       "      <th>3</th>\n",
       "      <td>105003</td>\n",
       "      <td>31-Jul-00</td>\n",
       "      <td>New</td>\n",
       "      <td>2</td>\n",
       "      <td>0</td>\n",
       "      <td>2000</td>\n",
       "      <td>Rs.2032000.0</td>\n",
       "      <td>FIRST IN RESCUE EQUIPMENT</td>\n",
       "      <td>No</td>\n",
       "      <td>Urban</td>\n",
       "      <td>...</td>\n",
       "      <td>2</td>\n",
       "      <td>0</td>\n",
       "      <td>Rs.4064000.0</td>\n",
       "      <td>Rs.6916196.48</td>\n",
       "      <td>18</td>\n",
       "      <td>28-Jun-00</td>\n",
       "      <td>3814664008</td>\n",
       "      <td>1</td>\n",
       "      <td>Aryavart Bank</td>\n",
       "      <td>Yes</td>\n",
       "    </tr>\n",
       "    <tr>\n",
       "      <th>4</th>\n",
       "      <td>105004</td>\n",
       "      <td>30-Jun-05</td>\n",
       "      <td>Existing</td>\n",
       "      <td>0</td>\n",
       "      <td>0</td>\n",
       "      <td>2005</td>\n",
       "      <td>Rs.23469600.0</td>\n",
       "      <td>GLASGOW AUTOMOTIVE, INC.</td>\n",
       "      <td>No</td>\n",
       "      <td>Rural</td>\n",
       "      <td>...</td>\n",
       "      <td>6</td>\n",
       "      <td>441310</td>\n",
       "      <td>Rs.31292800.0</td>\n",
       "      <td>Rs.31292800.0</td>\n",
       "      <td>219</td>\n",
       "      <td>2-May-05</td>\n",
       "      <td>8830244003</td>\n",
       "      <td>1</td>\n",
       "      <td>Paschim Banga Gramin Bank</td>\n",
       "      <td>No</td>\n",
       "    </tr>\n",
       "  </tbody>\n",
       "</table>\n",
       "<p>5 rows × 25 columns</p>\n",
       "</div>"
      ],
      "text/plain": [
       "       ID Date_Of_Disbursement  Business  Jobs_Reatained  Jobs_Created   \\\n",
       "0  105000            31-Mar-06  Existing              19              0   \n",
       "1  105001            31-Jan-95  Existing               0              0   \n",
       "2  105002            30-Sep-06  Existing               7              5   \n",
       "3  105003            31-Jul-00       New               2              0   \n",
       "4  105004            30-Jun-05  Existing               0              0   \n",
       "\n",
       "  Year_Of_Commitment  Guaranteed_Approved _Loan  \\\n",
       "0                2006              Rs.4064000.0   \n",
       "1                1995              Rs.1463040.0   \n",
       "2                2006               Rs.812800.0   \n",
       "3                2000              Rs.2032000.0   \n",
       "4                2005             Rs.23469600.0   \n",
       "\n",
       "                   Borrower_Name  Low_Documentation_Loan Demography  ...  \\\n",
       "0  Diversified Display Products o                     No      Urban  ...   \n",
       "1    FOOTE CONSULTING GROUP, INC.                    Yes  Undefined  ...   \n",
       "2  INTEGRATED COMERCIAL ENTERPRIS                     No      Urban  ...   \n",
       "3       FIRST IN RESCUE EQUIPMENT                     No      Urban  ...   \n",
       "4        GLASGOW AUTOMOTIVE, INC.                     No      Rural  ...   \n",
       "\n",
       "  Count_Employees Classification_Code  Loan_Approved_Gross  \\\n",
       "0              17               326199        Rs.8128000.0   \n",
       "1               2                    0        Rs.1625600.0   \n",
       "2               2               541611        Rs.1625600.0   \n",
       "3               2                    0        Rs.4064000.0   \n",
       "4               6               441310       Rs.31292800.0   \n",
       "\n",
       "  Gross_Amount_Disbursed   Loan_Term  Commitment_Date  Primary_Loan_Digit  \\\n",
       "0            Rs.9403852.16        57         9-Mar-06          1702825000   \n",
       "1             Rs.1625600.0        90        14-Dec-94          7908833003   \n",
       "2             Rs.3450336.0        81        25-Aug-06          2361626001   \n",
       "3            Rs.6916196.48        18        28-Jun-00          3814664008   \n",
       "4            Rs.31292800.0       219         2-May-05          8830244003   \n",
       "\n",
       "  Code_Franchise               Name_Of_Bank  Revolving_Credit_Line  \n",
       "0              0            ICICI Bank Ltd.                    Yes  \n",
       "1              1     South Indian Bank Ltd.                     No  \n",
       "2              1          IDBI Bank Limited                    Yes  \n",
       "3              1              Aryavart Bank                    Yes  \n",
       "4              1  Paschim Banga Gramin Bank                     No  \n",
       "\n",
       "[5 rows x 25 columns]"
      ]
     },
     "execution_count": 25,
     "metadata": {},
     "output_type": "execute_result"
    }
   ],
   "source": [
    "df_test.head()"
   ]
  },
  {
   "cell_type": "code",
   "execution_count": 26,
   "id": "772b845f",
   "metadata": {},
   "outputs": [
    {
     "data": {
      "text/html": [
       "<div>\n",
       "<style scoped>\n",
       "    .dataframe tbody tr th:only-of-type {\n",
       "        vertical-align: middle;\n",
       "    }\n",
       "\n",
       "    .dataframe tbody tr th {\n",
       "        vertical-align: top;\n",
       "    }\n",
       "\n",
       "    .dataframe thead th {\n",
       "        text-align: right;\n",
       "    }\n",
       "</style>\n",
       "<table border=\"1\" class=\"dataframe\">\n",
       "  <thead>\n",
       "    <tr style=\"text-align: right;\">\n",
       "      <th></th>\n",
       "      <th>ID</th>\n",
       "      <th>Date_Of_Disbursement</th>\n",
       "      <th>Business</th>\n",
       "      <th>Jobs_Reatained</th>\n",
       "      <th>Jobs_Created</th>\n",
       "      <th>Year_Of_Commitment</th>\n",
       "      <th>Guaranteed_Approved _Loan</th>\n",
       "      <th>Borrower_Name</th>\n",
       "      <th>Low_Documentation_Loan</th>\n",
       "      <th>Demography</th>\n",
       "      <th>...</th>\n",
       "      <th>Count_Employees</th>\n",
       "      <th>Classification_Code</th>\n",
       "      <th>Loan_Approved_Gross</th>\n",
       "      <th>Gross_Amount_Disbursed</th>\n",
       "      <th>Loan_Term</th>\n",
       "      <th>Commitment_Date</th>\n",
       "      <th>Primary_Loan_Digit</th>\n",
       "      <th>Code_Franchise</th>\n",
       "      <th>Name_Of_Bank</th>\n",
       "      <th>Revolving_Credit_Line</th>\n",
       "    </tr>\n",
       "  </thead>\n",
       "  <tbody>\n",
       "    <tr>\n",
       "      <th>44995</th>\n",
       "      <td>149995</td>\n",
       "      <td>30-Nov-05</td>\n",
       "      <td>Existing</td>\n",
       "      <td>3</td>\n",
       "      <td>1</td>\n",
       "      <td>2005</td>\n",
       "      <td>Rs.1625600.0</td>\n",
       "      <td>ULTIMATE COMPUTERS</td>\n",
       "      <td>No</td>\n",
       "      <td>Urban</td>\n",
       "      <td>...</td>\n",
       "      <td>3</td>\n",
       "      <td>423690</td>\n",
       "      <td>Rs.3251200.0</td>\n",
       "      <td>Rs.2291852.16</td>\n",
       "      <td>81</td>\n",
       "      <td>29-Sep-05</td>\n",
       "      <td>9135674006</td>\n",
       "      <td>1</td>\n",
       "      <td>Saurashtra Gramin Bank</td>\n",
       "      <td>Yes</td>\n",
       "    </tr>\n",
       "    <tr>\n",
       "      <th>44996</th>\n",
       "      <td>149996</td>\n",
       "      <td>31-Jul-02</td>\n",
       "      <td>Existing</td>\n",
       "      <td>12</td>\n",
       "      <td>0</td>\n",
       "      <td>2002</td>\n",
       "      <td>Rs.29657040.0</td>\n",
       "      <td>MARK A. HENKE, D&gt;M.D., P.C.</td>\n",
       "      <td>No</td>\n",
       "      <td>Urban</td>\n",
       "      <td>...</td>\n",
       "      <td>12</td>\n",
       "      <td>621210</td>\n",
       "      <td>Rs.39542720.0</td>\n",
       "      <td>Rs.36292170.24</td>\n",
       "      <td>180</td>\n",
       "      <td>27-Jun-02</td>\n",
       "      <td>5494234007</td>\n",
       "      <td>1</td>\n",
       "      <td>Uttarbanga Kshetriya Gramin Bank</td>\n",
       "      <td>NaN</td>\n",
       "    </tr>\n",
       "    <tr>\n",
       "      <th>44997</th>\n",
       "      <td>149997</td>\n",
       "      <td>13-Aug-08</td>\n",
       "      <td>Existing</td>\n",
       "      <td>0</td>\n",
       "      <td>15</td>\n",
       "      <td>2008</td>\n",
       "      <td>Rs.60878720.0</td>\n",
       "      <td>ARTHUR J DEBAISE M.D., P.A.</td>\n",
       "      <td>No</td>\n",
       "      <td>Urban</td>\n",
       "      <td>...</td>\n",
       "      <td>4</td>\n",
       "      <td>621111</td>\n",
       "      <td>Rs.60878720.0</td>\n",
       "      <td>Rs.60878720.0</td>\n",
       "      <td>360</td>\n",
       "      <td>15-Apr-08</td>\n",
       "      <td>3225006003</td>\n",
       "      <td>1</td>\n",
       "      <td>Aryavart Bank</td>\n",
       "      <td>NaN</td>\n",
       "    </tr>\n",
       "    <tr>\n",
       "      <th>44998</th>\n",
       "      <td>149998</td>\n",
       "      <td>28-Feb-03</td>\n",
       "      <td>Existing</td>\n",
       "      <td>2</td>\n",
       "      <td>0</td>\n",
       "      <td>2003</td>\n",
       "      <td>Rs.2032000.0</td>\n",
       "      <td>CHO &amp; SONS CORP</td>\n",
       "      <td>No</td>\n",
       "      <td>Urban</td>\n",
       "      <td>...</td>\n",
       "      <td>2</td>\n",
       "      <td>445120</td>\n",
       "      <td>Rs.4064000.0</td>\n",
       "      <td>Rs.4064000.0</td>\n",
       "      <td>90</td>\n",
       "      <td>24-Jan-03</td>\n",
       "      <td>6047584010</td>\n",
       "      <td>1</td>\n",
       "      <td>Au Small Finance Bank Ltd.</td>\n",
       "      <td>NaN</td>\n",
       "    </tr>\n",
       "    <tr>\n",
       "      <th>44999</th>\n",
       "      <td>149999</td>\n",
       "      <td>1-Apr-10</td>\n",
       "      <td>Existing</td>\n",
       "      <td>0</td>\n",
       "      <td>2</td>\n",
       "      <td>2008</td>\n",
       "      <td>Rs.1016000.0</td>\n",
       "      <td>Hanft Family Chiropractic, Inc</td>\n",
       "      <td>No</td>\n",
       "      <td>Rural</td>\n",
       "      <td>...</td>\n",
       "      <td>1</td>\n",
       "      <td>621310</td>\n",
       "      <td>Rs.2032000.0</td>\n",
       "      <td>Rs.2233249.2800000003</td>\n",
       "      <td>94</td>\n",
       "      <td>7-Jul-08</td>\n",
       "      <td>3148675004</td>\n",
       "      <td>0</td>\n",
       "      <td>Shinhan Bank</td>\n",
       "      <td>NaN</td>\n",
       "    </tr>\n",
       "  </tbody>\n",
       "</table>\n",
       "<p>5 rows × 25 columns</p>\n",
       "</div>"
      ],
      "text/plain": [
       "           ID Date_Of_Disbursement  Business  Jobs_Reatained  Jobs_Created   \\\n",
       "44995  149995            30-Nov-05  Existing               3              1   \n",
       "44996  149996            31-Jul-02  Existing              12              0   \n",
       "44997  149997            13-Aug-08  Existing               0             15   \n",
       "44998  149998            28-Feb-03  Existing               2              0   \n",
       "44999  149999             1-Apr-10  Existing               0              2   \n",
       "\n",
       "      Year_Of_Commitment  Guaranteed_Approved _Loan  \\\n",
       "44995                2005              Rs.1625600.0   \n",
       "44996                2002             Rs.29657040.0   \n",
       "44997                2008             Rs.60878720.0   \n",
       "44998                2003              Rs.2032000.0   \n",
       "44999                2008              Rs.1016000.0   \n",
       "\n",
       "                       Borrower_Name  Low_Documentation_Loan Demography  ...  \\\n",
       "44995              ULTIMATE COMPUTERS                     No      Urban  ...   \n",
       "44996     MARK A. HENKE, D>M.D., P.C.                     No      Urban  ...   \n",
       "44997     ARTHUR J DEBAISE M.D., P.A.                     No      Urban  ...   \n",
       "44998                 CHO & SONS CORP                     No      Urban  ...   \n",
       "44999  Hanft Family Chiropractic, Inc                     No      Rural  ...   \n",
       "\n",
       "      Count_Employees Classification_Code  Loan_Approved_Gross  \\\n",
       "44995               3               423690        Rs.3251200.0   \n",
       "44996              12               621210       Rs.39542720.0   \n",
       "44997               4               621111       Rs.60878720.0   \n",
       "44998               2               445120        Rs.4064000.0   \n",
       "44999               1               621310        Rs.2032000.0   \n",
       "\n",
       "      Gross_Amount_Disbursed   Loan_Term  Commitment_Date  Primary_Loan_Digit  \\\n",
       "44995            Rs.2291852.16        81        29-Sep-05          9135674006   \n",
       "44996           Rs.36292170.24       180        27-Jun-02          5494234007   \n",
       "44997            Rs.60878720.0       360        15-Apr-08          3225006003   \n",
       "44998             Rs.4064000.0        90        24-Jan-03          6047584010   \n",
       "44999    Rs.2233249.2800000003        94         7-Jul-08          3148675004   \n",
       "\n",
       "      Code_Franchise                      Name_Of_Bank  Revolving_Credit_Line  \n",
       "44995              1            Saurashtra Gramin Bank                    Yes  \n",
       "44996              1  Uttarbanga Kshetriya Gramin Bank                    NaN  \n",
       "44997              1                     Aryavart Bank                    NaN  \n",
       "44998              1        Au Small Finance Bank Ltd.                    NaN  \n",
       "44999              0                      Shinhan Bank                    NaN  \n",
       "\n",
       "[5 rows x 25 columns]"
      ]
     },
     "execution_count": 26,
     "metadata": {},
     "output_type": "execute_result"
    }
   ],
   "source": [
    "df_test.tail()"
   ]
  },
  {
   "cell_type": "code",
   "execution_count": 27,
   "id": "227d2df0",
   "metadata": {},
   "outputs": [
    {
     "data": {
      "text/plain": [
       "(45000, 25)"
      ]
     },
     "execution_count": 27,
     "metadata": {},
     "output_type": "execute_result"
    }
   ],
   "source": [
    "#shape of test dataset\n",
    "df_test.shape"
   ]
  },
  {
   "cell_type": "code",
   "execution_count": 28,
   "id": "9d253c87",
   "metadata": {},
   "outputs": [
    {
     "name": "stdout",
     "output_type": "stream",
     "text": [
      "<class 'pandas.core.frame.DataFrame'>\n",
      "RangeIndex: 45000 entries, 0 to 44999\n",
      "Data columns (total 25 columns):\n",
      " #   Column                     Non-Null Count  Dtype \n",
      "---  ------                     --------------  ----- \n",
      " 0   ID                         45000 non-null  int64 \n",
      " 1   Date_Of_Disbursement       44892 non-null  object\n",
      " 2   Business                   44994 non-null  object\n",
      " 3   Jobs_Reatained             45000 non-null  int64 \n",
      " 4   Jobs_Created               45000 non-null  int64 \n",
      " 5   Year_Of_Commitment         45000 non-null  object\n",
      " 6   Guaranteed_Approved _Loan  45000 non-null  object\n",
      " 7   Borrower_Name              44998 non-null  object\n",
      " 8   Low_Documentation_Loan     44867 non-null  object\n",
      " 9   Demography                 45000 non-null  object\n",
      " 10  State_Of_Bank              45000 non-null  object\n",
      " 11  ChargedOff_Amount          45000 non-null  object\n",
      " 12  Borrower_City              45000 non-null  object\n",
      " 13  Borrower_State             44951 non-null  object\n",
      " 14  Gross_Amount_Balance       45000 non-null  object\n",
      " 15  Count_Employees            45000 non-null  int64 \n",
      " 16  Classification_Code        45000 non-null  int64 \n",
      " 17  Loan_Approved_Gross        45000 non-null  object\n",
      " 18  Gross_Amount_Disbursed     45000 non-null  object\n",
      " 19  Loan_Term                  45000 non-null  int64 \n",
      " 20  Commitment_Date            45000 non-null  object\n",
      " 21  Primary_Loan_Digit         45000 non-null  int64 \n",
      " 22  Code_Franchise             45000 non-null  int64 \n",
      " 23  Name_Of_Bank               45000 non-null  object\n",
      " 24  Revolving_Credit_Line      31175 non-null  object\n",
      "dtypes: int64(8), object(17)\n",
      "memory usage: 8.6+ MB\n"
     ]
    }
   ],
   "source": [
    "#info of test dataset\n",
    "df_test.info()"
   ]
  },
  {
   "cell_type": "code",
   "execution_count": 29,
   "id": "afc06e81",
   "metadata": {},
   "outputs": [
    {
     "data": {
      "text/html": [
       "<div>\n",
       "<style scoped>\n",
       "    .dataframe tbody tr th:only-of-type {\n",
       "        vertical-align: middle;\n",
       "    }\n",
       "\n",
       "    .dataframe tbody tr th {\n",
       "        vertical-align: top;\n",
       "    }\n",
       "\n",
       "    .dataframe thead th {\n",
       "        text-align: right;\n",
       "    }\n",
       "</style>\n",
       "<table border=\"1\" class=\"dataframe\">\n",
       "  <thead>\n",
       "    <tr style=\"text-align: right;\">\n",
       "      <th></th>\n",
       "      <th>count</th>\n",
       "      <th>mean</th>\n",
       "      <th>std</th>\n",
       "      <th>min</th>\n",
       "      <th>25%</th>\n",
       "      <th>50%</th>\n",
       "      <th>75%</th>\n",
       "      <th>max</th>\n",
       "    </tr>\n",
       "  </thead>\n",
       "  <tbody>\n",
       "    <tr>\n",
       "      <th>ID</th>\n",
       "      <td>45000.0</td>\n",
       "      <td>1.274995e+05</td>\n",
       "      <td>1.299053e+04</td>\n",
       "      <td>1.050000e+05</td>\n",
       "      <td>1.162498e+05</td>\n",
       "      <td>1.274995e+05</td>\n",
       "      <td>1.387492e+05</td>\n",
       "      <td>1.499990e+05</td>\n",
       "    </tr>\n",
       "    <tr>\n",
       "      <th>Jobs_Reatained</th>\n",
       "      <td>45000.0</td>\n",
       "      <td>1.142024e+01</td>\n",
       "      <td>2.490329e+02</td>\n",
       "      <td>0.000000e+00</td>\n",
       "      <td>0.000000e+00</td>\n",
       "      <td>1.000000e+00</td>\n",
       "      <td>4.000000e+00</td>\n",
       "      <td>8.800000e+03</td>\n",
       "    </tr>\n",
       "    <tr>\n",
       "      <th>Jobs_Created</th>\n",
       "      <td>45000.0</td>\n",
       "      <td>8.985000e+00</td>\n",
       "      <td>2.489388e+02</td>\n",
       "      <td>0.000000e+00</td>\n",
       "      <td>0.000000e+00</td>\n",
       "      <td>0.000000e+00</td>\n",
       "      <td>1.000000e+00</td>\n",
       "      <td>8.800000e+03</td>\n",
       "    </tr>\n",
       "    <tr>\n",
       "      <th>Count_Employees</th>\n",
       "      <td>45000.0</td>\n",
       "      <td>1.032893e+01</td>\n",
       "      <td>9.748401e+01</td>\n",
       "      <td>0.000000e+00</td>\n",
       "      <td>2.000000e+00</td>\n",
       "      <td>4.000000e+00</td>\n",
       "      <td>9.000000e+00</td>\n",
       "      <td>8.999000e+03</td>\n",
       "    </tr>\n",
       "    <tr>\n",
       "      <th>Classification_Code</th>\n",
       "      <td>45000.0</td>\n",
       "      <td>4.063311e+05</td>\n",
       "      <td>2.594592e+05</td>\n",
       "      <td>0.000000e+00</td>\n",
       "      <td>2.361150e+05</td>\n",
       "      <td>4.471100e+05</td>\n",
       "      <td>5.617900e+05</td>\n",
       "      <td>9.281200e+05</td>\n",
       "    </tr>\n",
       "    <tr>\n",
       "      <th>Loan_Term</th>\n",
       "      <td>45000.0</td>\n",
       "      <td>1.558597e+02</td>\n",
       "      <td>1.162111e+02</td>\n",
       "      <td>0.000000e+00</td>\n",
       "      <td>8.800000e+01</td>\n",
       "      <td>1.260000e+02</td>\n",
       "      <td>1.800000e+02</td>\n",
       "      <td>7.580000e+02</td>\n",
       "    </tr>\n",
       "    <tr>\n",
       "      <th>Primary_Loan_Digit</th>\n",
       "      <td>45000.0</td>\n",
       "      <td>4.650410e+09</td>\n",
       "      <td>2.537430e+09</td>\n",
       "      <td>1.000534e+09</td>\n",
       "      <td>2.486456e+09</td>\n",
       "      <td>4.098569e+09</td>\n",
       "      <td>6.720642e+09</td>\n",
       "      <td>9.995473e+09</td>\n",
       "    </tr>\n",
       "    <tr>\n",
       "      <th>Code_Franchise</th>\n",
       "      <td>45000.0</td>\n",
       "      <td>2.778932e+03</td>\n",
       "      <td>1.284372e+04</td>\n",
       "      <td>0.000000e+00</td>\n",
       "      <td>0.000000e+00</td>\n",
       "      <td>1.000000e+00</td>\n",
       "      <td>1.000000e+00</td>\n",
       "      <td>9.135000e+04</td>\n",
       "    </tr>\n",
       "  </tbody>\n",
       "</table>\n",
       "</div>"
      ],
      "text/plain": [
       "                        count          mean           std           min  \\\n",
       "ID                    45000.0  1.274995e+05  1.299053e+04  1.050000e+05   \n",
       "Jobs_Reatained        45000.0  1.142024e+01  2.490329e+02  0.000000e+00   \n",
       "Jobs_Created          45000.0  8.985000e+00  2.489388e+02  0.000000e+00   \n",
       "Count_Employees       45000.0  1.032893e+01  9.748401e+01  0.000000e+00   \n",
       "Classification_Code   45000.0  4.063311e+05  2.594592e+05  0.000000e+00   \n",
       "Loan_Term             45000.0  1.558597e+02  1.162111e+02  0.000000e+00   \n",
       "Primary_Loan_Digit    45000.0  4.650410e+09  2.537430e+09  1.000534e+09   \n",
       "Code_Franchise        45000.0  2.778932e+03  1.284372e+04  0.000000e+00   \n",
       "\n",
       "                               25%           50%           75%           max  \n",
       "ID                    1.162498e+05  1.274995e+05  1.387492e+05  1.499990e+05  \n",
       "Jobs_Reatained        0.000000e+00  1.000000e+00  4.000000e+00  8.800000e+03  \n",
       "Jobs_Created          0.000000e+00  0.000000e+00  1.000000e+00  8.800000e+03  \n",
       "Count_Employees       2.000000e+00  4.000000e+00  9.000000e+00  8.999000e+03  \n",
       "Classification_Code   2.361150e+05  4.471100e+05  5.617900e+05  9.281200e+05  \n",
       "Loan_Term             8.800000e+01  1.260000e+02  1.800000e+02  7.580000e+02  \n",
       "Primary_Loan_Digit    2.486456e+09  4.098569e+09  6.720642e+09  9.995473e+09  \n",
       "Code_Franchise        0.000000e+00  1.000000e+00  1.000000e+00  9.135000e+04  "
      ]
     },
     "execution_count": 29,
     "metadata": {},
     "output_type": "execute_result"
    }
   ],
   "source": [
    "\n",
    "#five point summary of numerical features of test dataset\n",
    "df_test.describe().T"
   ]
  },
  {
   "cell_type": "code",
   "execution_count": 30,
   "id": "2d88bdca",
   "metadata": {},
   "outputs": [
    {
     "data": {
      "text/html": [
       "<div>\n",
       "<style scoped>\n",
       "    .dataframe tbody tr th:only-of-type {\n",
       "        vertical-align: middle;\n",
       "    }\n",
       "\n",
       "    .dataframe tbody tr th {\n",
       "        vertical-align: top;\n",
       "    }\n",
       "\n",
       "    .dataframe thead th {\n",
       "        text-align: right;\n",
       "    }\n",
       "</style>\n",
       "<table border=\"1\" class=\"dataframe\">\n",
       "  <thead>\n",
       "    <tr style=\"text-align: right;\">\n",
       "      <th></th>\n",
       "      <th>count</th>\n",
       "      <th>unique</th>\n",
       "      <th>top</th>\n",
       "      <th>freq</th>\n",
       "    </tr>\n",
       "  </thead>\n",
       "  <tbody>\n",
       "    <tr>\n",
       "      <th>Date_Of_Disbursement</th>\n",
       "      <td>44892</td>\n",
       "      <td>2139</td>\n",
       "      <td>30-Apr-95</td>\n",
       "      <td>463</td>\n",
       "    </tr>\n",
       "    <tr>\n",
       "      <th>Business</th>\n",
       "      <td>44994</td>\n",
       "      <td>3</td>\n",
       "      <td>Existing</td>\n",
       "      <td>32062</td>\n",
       "    </tr>\n",
       "    <tr>\n",
       "      <th>Year_Of_Commitment</th>\n",
       "      <td>45000</td>\n",
       "      <td>44</td>\n",
       "      <td>2007</td>\n",
       "      <td>4275</td>\n",
       "    </tr>\n",
       "    <tr>\n",
       "      <th>Guaranteed_Approved _Loan</th>\n",
       "      <td>45000</td>\n",
       "      <td>6151</td>\n",
       "      <td>Rs.2032000.0</td>\n",
       "      <td>2768</td>\n",
       "    </tr>\n",
       "    <tr>\n",
       "      <th>Borrower_Name</th>\n",
       "      <td>44998</td>\n",
       "      <td>43902</td>\n",
       "      <td>SUBWAY</td>\n",
       "      <td>65</td>\n",
       "    </tr>\n",
       "    <tr>\n",
       "      <th>Low_Documentation_Loan</th>\n",
       "      <td>44867</td>\n",
       "      <td>7</td>\n",
       "      <td>No</td>\n",
       "      <td>39476</td>\n",
       "    </tr>\n",
       "    <tr>\n",
       "      <th>Demography</th>\n",
       "      <td>45000</td>\n",
       "      <td>3</td>\n",
       "      <td>Urban</td>\n",
       "      <td>24586</td>\n",
       "    </tr>\n",
       "    <tr>\n",
       "      <th>State_Of_Bank</th>\n",
       "      <td>45000</td>\n",
       "      <td>34</td>\n",
       "      <td>TR</td>\n",
       "      <td>6603</td>\n",
       "    </tr>\n",
       "    <tr>\n",
       "      <th>ChargedOff_Amount</th>\n",
       "      <td>45000</td>\n",
       "      <td>10833</td>\n",
       "      <td>Rs.0.0</td>\n",
       "      <td>32310</td>\n",
       "    </tr>\n",
       "    <tr>\n",
       "      <th>Borrower_City</th>\n",
       "      <td>45000</td>\n",
       "      <td>1242</td>\n",
       "      <td>Jhansi</td>\n",
       "      <td>638</td>\n",
       "    </tr>\n",
       "    <tr>\n",
       "      <th>Borrower_State</th>\n",
       "      <td>44951</td>\n",
       "      <td>41</td>\n",
       "      <td>Maharashtra</td>\n",
       "      <td>5087</td>\n",
       "    </tr>\n",
       "    <tr>\n",
       "      <th>Gross_Amount_Balance</th>\n",
       "      <td>45000</td>\n",
       "      <td>1</td>\n",
       "      <td>Rs.0.0</td>\n",
       "      <td>45000</td>\n",
       "    </tr>\n",
       "    <tr>\n",
       "      <th>Loan_Approved_Gross</th>\n",
       "      <td>45000</td>\n",
       "      <td>3963</td>\n",
       "      <td>Rs.4064000.0</td>\n",
       "      <td>3728</td>\n",
       "    </tr>\n",
       "    <tr>\n",
       "      <th>Gross_Amount_Disbursed</th>\n",
       "      <td>45000</td>\n",
       "      <td>11723</td>\n",
       "      <td>Rs.4064000.0</td>\n",
       "      <td>2255</td>\n",
       "    </tr>\n",
       "    <tr>\n",
       "      <th>Commitment_Date</th>\n",
       "      <td>45000</td>\n",
       "      <td>6723</td>\n",
       "      <td>30-Jan-04</td>\n",
       "      <td>46</td>\n",
       "    </tr>\n",
       "    <tr>\n",
       "      <th>Name_Of_Bank</th>\n",
       "      <td>45000</td>\n",
       "      <td>143</td>\n",
       "      <td>ICICI Bank Ltd.</td>\n",
       "      <td>4742</td>\n",
       "    </tr>\n",
       "    <tr>\n",
       "      <th>Revolving_Credit_Line</th>\n",
       "      <td>31175</td>\n",
       "      <td>2</td>\n",
       "      <td>No</td>\n",
       "      <td>20491</td>\n",
       "    </tr>\n",
       "  </tbody>\n",
       "</table>\n",
       "</div>"
      ],
      "text/plain": [
       "                           count unique              top   freq\n",
       "Date_Of_Disbursement       44892   2139        30-Apr-95    463\n",
       "Business                   44994      3         Existing  32062\n",
       "Year_Of_Commitment         45000     44             2007   4275\n",
       "Guaranteed_Approved _Loan  45000   6151     Rs.2032000.0   2768\n",
       "Borrower_Name              44998  43902           SUBWAY     65\n",
       "Low_Documentation_Loan     44867      7               No  39476\n",
       "Demography                 45000      3            Urban  24586\n",
       "State_Of_Bank              45000     34               TR   6603\n",
       "ChargedOff_Amount          45000  10833           Rs.0.0  32310\n",
       "Borrower_City              45000   1242           Jhansi    638\n",
       "Borrower_State             44951     41      Maharashtra   5087\n",
       "Gross_Amount_Balance       45000      1           Rs.0.0  45000\n",
       "Loan_Approved_Gross        45000   3963     Rs.4064000.0   3728\n",
       "Gross_Amount_Disbursed     45000  11723     Rs.4064000.0   2255\n",
       "Commitment_Date            45000   6723        30-Jan-04     46\n",
       "Name_Of_Bank               45000    143  ICICI Bank Ltd.   4742\n",
       "Revolving_Credit_Line      31175      2               No  20491"
      ]
     },
     "execution_count": 30,
     "metadata": {},
     "output_type": "execute_result"
    }
   ],
   "source": [
    "\n",
    "#five point summary of Categorical features of test dataset\n",
    "df_test.describe(include = ['object']).T"
   ]
  },
  {
   "cell_type": "markdown",
   "id": "1bde44d6",
   "metadata": {},
   "source": [
    "### Checking for duplicate records in the Test dataset"
   ]
  },
  {
   "cell_type": "code",
   "execution_count": 31,
   "id": "1d89ce39",
   "metadata": {},
   "outputs": [
    {
     "name": "stdout",
     "output_type": "stream",
     "text": [
      "Number of duplicate row = 0\n"
     ]
    }
   ],
   "source": [
    "#check for duplicate\n",
    "dups = df_test.duplicated()\n",
    "print('Number of duplicate row = %d' %(dups.sum()))"
   ]
  },
  {
   "cell_type": "code",
   "execution_count": 32,
   "id": "236ef924",
   "metadata": {},
   "outputs": [],
   "source": [
    "df_test_num = df_test.select_dtypes(['float64','int64'])\n",
    "df_test_cat = df_test.select_dtypes(['object'])"
   ]
  },
  {
   "cell_type": "code",
   "execution_count": 33,
   "id": "77025e2e",
   "metadata": {},
   "outputs": [
    {
     "data": {
      "text/plain": [
       "ID                      0\n",
       "Jobs_Reatained          0\n",
       "Jobs_Created            0\n",
       "Count_Employees         0\n",
       "Classification_Code     0\n",
       "Loan_Term               0\n",
       "Primary_Loan_Digit      0\n",
       "Code_Franchise          0\n",
       "dtype: int64"
      ]
     },
     "execution_count": 33,
     "metadata": {},
     "output_type": "execute_result"
    }
   ],
   "source": [
    "df_test_num.isnull().sum()"
   ]
  },
  {
   "cell_type": "code",
   "execution_count": 34,
   "id": "ed8c330b",
   "metadata": {},
   "outputs": [
    {
     "data": {
      "text/plain": [
       "Date_Of_Disbursement           108\n",
       "Business                         6\n",
       "Year_Of_Commitment               0\n",
       "Guaranteed_Approved _Loan        0\n",
       "Borrower_Name                    2\n",
       "Low_Documentation_Loan         133\n",
       "Demography                       0\n",
       "State_Of_Bank                    0\n",
       "ChargedOff_Amount                0\n",
       "Borrower_City                    0\n",
       "Borrower_State                  49\n",
       "Gross_Amount_Balance             0\n",
       "Loan_Approved_Gross              0\n",
       "Gross_Amount_Disbursed           0\n",
       "Commitment_Date                  0\n",
       "Name_Of_Bank                     0\n",
       "Revolving_Credit_Line        13825\n",
       "dtype: int64"
      ]
     },
     "execution_count": 34,
     "metadata": {},
     "output_type": "execute_result"
    }
   ],
   "source": [
    "df_test_cat.isnull().sum()"
   ]
  },
  {
   "cell_type": "code",
   "execution_count": 35,
   "id": "09dcf9cb",
   "metadata": {},
   "outputs": [],
   "source": [
    "df_test_cat = df_test_cat.apply(lambda x: x.fillna(x.value_counts().index[0]))"
   ]
  },
  {
   "cell_type": "code",
   "execution_count": 36,
   "id": "0b7120fe",
   "metadata": {},
   "outputs": [
    {
     "data": {
      "text/plain": [
       "Date_Of_Disbursement         0\n",
       "Business                     0\n",
       "Year_Of_Commitment           0\n",
       "Guaranteed_Approved _Loan    0\n",
       "Borrower_Name                0\n",
       "Low_Documentation_Loan       0\n",
       "Demography                   0\n",
       "State_Of_Bank                0\n",
       "ChargedOff_Amount            0\n",
       "Borrower_City                0\n",
       "Borrower_State               0\n",
       "Gross_Amount_Balance         0\n",
       "Loan_Approved_Gross          0\n",
       "Gross_Amount_Disbursed       0\n",
       "Commitment_Date              0\n",
       "Name_Of_Bank                 0\n",
       "Revolving_Credit_Line        0\n",
       "dtype: int64"
      ]
     },
     "execution_count": 36,
     "metadata": {},
     "output_type": "execute_result"
    }
   ],
   "source": [
    "df_test_cat.isnull().sum()"
   ]
  },
  {
   "cell_type": "code",
   "execution_count": 37,
   "id": "ddbe5de4",
   "metadata": {},
   "outputs": [
    {
     "data": {
      "text/html": [
       "<div>\n",
       "<style scoped>\n",
       "    .dataframe tbody tr th:only-of-type {\n",
       "        vertical-align: middle;\n",
       "    }\n",
       "\n",
       "    .dataframe tbody tr th {\n",
       "        vertical-align: top;\n",
       "    }\n",
       "\n",
       "    .dataframe thead th {\n",
       "        text-align: right;\n",
       "    }\n",
       "</style>\n",
       "<table border=\"1\" class=\"dataframe\">\n",
       "  <thead>\n",
       "    <tr style=\"text-align: right;\">\n",
       "      <th></th>\n",
       "      <th>Date_Of_Disbursement</th>\n",
       "      <th>Business</th>\n",
       "      <th>Year_Of_Commitment</th>\n",
       "      <th>Guaranteed_Approved _Loan</th>\n",
       "      <th>Borrower_Name</th>\n",
       "      <th>Low_Documentation_Loan</th>\n",
       "      <th>Demography</th>\n",
       "      <th>State_Of_Bank</th>\n",
       "      <th>ChargedOff_Amount</th>\n",
       "      <th>Borrower_City</th>\n",
       "      <th>Borrower_State</th>\n",
       "      <th>Gross_Amount_Balance</th>\n",
       "      <th>Loan_Approved_Gross</th>\n",
       "      <th>Gross_Amount_Disbursed</th>\n",
       "      <th>Commitment_Date</th>\n",
       "      <th>Name_Of_Bank</th>\n",
       "      <th>Revolving_Credit_Line</th>\n",
       "    </tr>\n",
       "  </thead>\n",
       "  <tbody>\n",
       "    <tr>\n",
       "      <th>0</th>\n",
       "      <td>31-Mar-06</td>\n",
       "      <td>Existing</td>\n",
       "      <td>2006</td>\n",
       "      <td>Rs.4064000.0</td>\n",
       "      <td>Diversified Display Products o</td>\n",
       "      <td>No</td>\n",
       "      <td>Urban</td>\n",
       "      <td>GJ</td>\n",
       "      <td>Rs.8050784.0</td>\n",
       "      <td>Safidon</td>\n",
       "      <td>Haryana</td>\n",
       "      <td>Rs.0.0</td>\n",
       "      <td>Rs.8128000.0</td>\n",
       "      <td>Rs.9403852.16</td>\n",
       "      <td>9-Mar-06</td>\n",
       "      <td>ICICI Bank Ltd.</td>\n",
       "      <td>Yes</td>\n",
       "    </tr>\n",
       "    <tr>\n",
       "      <th>1</th>\n",
       "      <td>31-Jan-95</td>\n",
       "      <td>Existing</td>\n",
       "      <td>1995</td>\n",
       "      <td>Rs.1463040.0</td>\n",
       "      <td>FOOTE CONSULTING GROUP, INC.</td>\n",
       "      <td>Yes</td>\n",
       "      <td>Undefined</td>\n",
       "      <td>AS</td>\n",
       "      <td>Rs.0.0</td>\n",
       "      <td>Nanjikottai</td>\n",
       "      <td>Tamil Nadu</td>\n",
       "      <td>Rs.0.0</td>\n",
       "      <td>Rs.1625600.0</td>\n",
       "      <td>Rs.1625600.0</td>\n",
       "      <td>14-Dec-94</td>\n",
       "      <td>South Indian Bank Ltd.</td>\n",
       "      <td>No</td>\n",
       "    </tr>\n",
       "    <tr>\n",
       "      <th>2</th>\n",
       "      <td>30-Sep-06</td>\n",
       "      <td>Existing</td>\n",
       "      <td>2006</td>\n",
       "      <td>Rs.812800.0</td>\n",
       "      <td>INTEGRATED COMERCIAL ENTERPRIS</td>\n",
       "      <td>No</td>\n",
       "      <td>Urban</td>\n",
       "      <td>ML</td>\n",
       "      <td>Rs.1625600.0</td>\n",
       "      <td>Tonk</td>\n",
       "      <td>Rajasthan</td>\n",
       "      <td>Rs.0.0</td>\n",
       "      <td>Rs.1625600.0</td>\n",
       "      <td>Rs.3450336.0</td>\n",
       "      <td>25-Aug-06</td>\n",
       "      <td>IDBI Bank Limited</td>\n",
       "      <td>Yes</td>\n",
       "    </tr>\n",
       "    <tr>\n",
       "      <th>3</th>\n",
       "      <td>31-Jul-00</td>\n",
       "      <td>New</td>\n",
       "      <td>2000</td>\n",
       "      <td>Rs.2032000.0</td>\n",
       "      <td>FIRST IN RESCUE EQUIPMENT</td>\n",
       "      <td>No</td>\n",
       "      <td>Urban</td>\n",
       "      <td>TR</td>\n",
       "      <td>Rs.0.0</td>\n",
       "      <td>Musabani</td>\n",
       "      <td>Jharkhand</td>\n",
       "      <td>Rs.0.0</td>\n",
       "      <td>Rs.4064000.0</td>\n",
       "      <td>Rs.6916196.48</td>\n",
       "      <td>28-Jun-00</td>\n",
       "      <td>Aryavart Bank</td>\n",
       "      <td>Yes</td>\n",
       "    </tr>\n",
       "    <tr>\n",
       "      <th>4</th>\n",
       "      <td>30-Jun-05</td>\n",
       "      <td>Existing</td>\n",
       "      <td>2005</td>\n",
       "      <td>Rs.23469600.0</td>\n",
       "      <td>GLASGOW AUTOMOTIVE, INC.</td>\n",
       "      <td>No</td>\n",
       "      <td>Rural</td>\n",
       "      <td>TR</td>\n",
       "      <td>Rs.0.0</td>\n",
       "      <td>Adityapur</td>\n",
       "      <td>Jharkhand</td>\n",
       "      <td>Rs.0.0</td>\n",
       "      <td>Rs.31292800.0</td>\n",
       "      <td>Rs.31292800.0</td>\n",
       "      <td>2-May-05</td>\n",
       "      <td>Paschim Banga Gramin Bank</td>\n",
       "      <td>No</td>\n",
       "    </tr>\n",
       "  </tbody>\n",
       "</table>\n",
       "</div>"
      ],
      "text/plain": [
       "  Date_Of_Disbursement  Business Year_Of_Commitment   \\\n",
       "0            31-Mar-06  Existing                2006   \n",
       "1            31-Jan-95  Existing                1995   \n",
       "2            30-Sep-06  Existing                2006   \n",
       "3            31-Jul-00       New                2000   \n",
       "4            30-Jun-05  Existing                2005   \n",
       "\n",
       "  Guaranteed_Approved _Loan                  Borrower_Name   \\\n",
       "0              Rs.4064000.0  Diversified Display Products o   \n",
       "1              Rs.1463040.0    FOOTE CONSULTING GROUP, INC.   \n",
       "2               Rs.812800.0  INTEGRATED COMERCIAL ENTERPRIS   \n",
       "3              Rs.2032000.0       FIRST IN RESCUE EQUIPMENT   \n",
       "4             Rs.23469600.0        GLASGOW AUTOMOTIVE, INC.   \n",
       "\n",
       "  Low_Documentation_Loan Demography State_Of_Bank ChargedOff_Amount   \\\n",
       "0                     No      Urban            GJ       Rs.8050784.0   \n",
       "1                    Yes  Undefined            AS             Rs.0.0   \n",
       "2                     No      Urban            ML       Rs.1625600.0   \n",
       "3                     No      Urban            TR             Rs.0.0   \n",
       "4                     No      Rural            TR             Rs.0.0   \n",
       "\n",
       "  Borrower_City Borrower_State Gross_Amount_Balance Loan_Approved_Gross  \\\n",
       "0       Safidon        Haryana               Rs.0.0        Rs.8128000.0   \n",
       "1   Nanjikottai     Tamil Nadu               Rs.0.0        Rs.1625600.0   \n",
       "2          Tonk      Rajasthan               Rs.0.0        Rs.1625600.0   \n",
       "3      Musabani      Jharkhand               Rs.0.0        Rs.4064000.0   \n",
       "4     Adityapur      Jharkhand               Rs.0.0       Rs.31292800.0   \n",
       "\n",
       "  Gross_Amount_Disbursed   Commitment_Date               Name_Of_Bank  \\\n",
       "0            Rs.9403852.16        9-Mar-06            ICICI Bank Ltd.   \n",
       "1             Rs.1625600.0       14-Dec-94     South Indian Bank Ltd.   \n",
       "2             Rs.3450336.0       25-Aug-06          IDBI Bank Limited   \n",
       "3            Rs.6916196.48       28-Jun-00              Aryavart Bank   \n",
       "4            Rs.31292800.0        2-May-05  Paschim Banga Gramin Bank   \n",
       "\n",
       "  Revolving_Credit_Line  \n",
       "0                   Yes  \n",
       "1                    No  \n",
       "2                   Yes  \n",
       "3                   Yes  \n",
       "4                    No  "
      ]
     },
     "execution_count": 37,
     "metadata": {},
     "output_type": "execute_result"
    }
   ],
   "source": [
    "df_test_cat.head()"
   ]
  },
  {
   "cell_type": "code",
   "execution_count": 38,
   "id": "3668614e",
   "metadata": {},
   "outputs": [
    {
     "data": {
      "text/plain": [
       "(45000, 25)"
      ]
     },
     "execution_count": 38,
     "metadata": {},
     "output_type": "execute_result"
    }
   ],
   "source": [
    "df_test.shape"
   ]
  },
  {
   "cell_type": "code",
   "execution_count": 39,
   "id": "4c32eb2c",
   "metadata": {},
   "outputs": [
    {
     "name": "stdout",
     "output_type": "stream",
     "text": [
      "<class 'pandas.core.frame.DataFrame'>\n",
      "RangeIndex: 45000 entries, 0 to 44999\n",
      "Data columns (total 25 columns):\n",
      " #   Column                     Non-Null Count  Dtype \n",
      "---  ------                     --------------  ----- \n",
      " 0   ID                         45000 non-null  int64 \n",
      " 1   Date_Of_Disbursement       44892 non-null  object\n",
      " 2   Business                   44994 non-null  object\n",
      " 3   Jobs_Reatained             45000 non-null  int64 \n",
      " 4   Jobs_Created               45000 non-null  int64 \n",
      " 5   Year_Of_Commitment         45000 non-null  object\n",
      " 6   Guaranteed_Approved _Loan  45000 non-null  object\n",
      " 7   Borrower_Name              44998 non-null  object\n",
      " 8   Low_Documentation_Loan     44867 non-null  object\n",
      " 9   Demography                 45000 non-null  object\n",
      " 10  State_Of_Bank              45000 non-null  object\n",
      " 11  ChargedOff_Amount          45000 non-null  object\n",
      " 12  Borrower_City              45000 non-null  object\n",
      " 13  Borrower_State             44951 non-null  object\n",
      " 14  Gross_Amount_Balance       45000 non-null  object\n",
      " 15  Count_Employees            45000 non-null  int64 \n",
      " 16  Classification_Code        45000 non-null  int64 \n",
      " 17  Loan_Approved_Gross        45000 non-null  object\n",
      " 18  Gross_Amount_Disbursed     45000 non-null  object\n",
      " 19  Loan_Term                  45000 non-null  int64 \n",
      " 20  Commitment_Date            45000 non-null  object\n",
      " 21  Primary_Loan_Digit         45000 non-null  int64 \n",
      " 22  Code_Franchise             45000 non-null  int64 \n",
      " 23  Name_Of_Bank               45000 non-null  object\n",
      " 24  Revolving_Credit_Line      31175 non-null  object\n",
      "dtypes: int64(8), object(17)\n",
      "memory usage: 8.6+ MB\n"
     ]
    }
   ],
   "source": [
    "df_test.info()"
   ]
  },
  {
   "cell_type": "code",
   "execution_count": 40,
   "id": "b35ce14c",
   "metadata": {},
   "outputs": [
    {
     "name": "stdout",
     "output_type": "stream",
     "text": [
      "Date_Of_Disbursement\n",
      "30-Apr-95    463\n",
      "31-Jul-95    456\n",
      "31-Mar-06    398\n",
      "31-Oct-94    398\n",
      "31-Aug-07    397\n",
      "            ... \n",
      "27-Aug-97      1\n",
      "28-Mar-02      1\n",
      "28-Apr-00      1\n",
      "5-May-82       1\n",
      "9-Aug-02       1\n",
      "Name: Date_Of_Disbursement, Length: 2139, dtype: int64\n",
      "\n",
      "\n",
      "Business\n",
      "Existing    32062\n",
      "New         12878\n",
      "0              54\n",
      "Name: Business, dtype: int64\n",
      "\n",
      "\n",
      "Year_Of_Commitment \n",
      "2007     4275\n",
      "2006     4188\n",
      "2005     4082\n",
      "2004     3429\n",
      "2003     2789\n",
      "2008     2350\n",
      "2002     2138\n",
      "1995     1994\n",
      "1999     1854\n",
      "2001     1820\n",
      "1996     1800\n",
      "2000     1750\n",
      "1997     1746\n",
      "1998     1734\n",
      "1994     1392\n",
      "1993     1038\n",
      "1992      967\n",
      "2009      927\n",
      "2010      832\n",
      "1990      680\n",
      "1991      679\n",
      "2011      618\n",
      "1989      605\n",
      "2012      276\n",
      "1986      152\n",
      "1987      130\n",
      "1984      122\n",
      "1988      114\n",
      "2013      112\n",
      "1985      107\n",
      "1983      101\n",
      "1982       46\n",
      "1981       35\n",
      "1979       29\n",
      "1980       28\n",
      "1978       22\n",
      "2014       16\n",
      "1977        9\n",
      "1976A       5\n",
      "1974        3\n",
      "1973        3\n",
      "1971        1\n",
      "1976        1\n",
      "1966        1\n",
      "Name: Year_Of_Commitment , dtype: int64\n",
      "\n",
      "\n",
      "Guaranteed_Approved _Loan\n",
      "Rs.2032000.0     2768\n",
      "Rs.1016000.0     2180\n",
      "Rs.406400.0      1659\n",
      "Rs.4064000.0     1364\n",
      "Rs.812800.0       929\n",
      "                 ... \n",
      "Rs.13027558.4       1\n",
      "Rs.6708038.4        1\n",
      "Rs.33905952.0       1\n",
      "Rs.4722368.0        1\n",
      "Rs.29657040.0       1\n",
      "Name: Guaranteed_Approved _Loan, Length: 6151, dtype: int64\n",
      "\n",
      "\n",
      "Borrower_Name \n",
      "SUBWAY                            65\n",
      "QUIZNO'S                          25\n",
      "QUIZNO'S SUBS                     19\n",
      "DOMINO'S PIZZA                    19\n",
      "DAIRY QUEEN                       19\n",
      "                                  ..\n",
      "TALL TIMBER AUTO SERVICE CTR.      1\n",
      "YARNBIRD INCORPORATED              1\n",
      "SLATTERY HOUSE BED & BREAKFAST     1\n",
      "GUARDIAN FUEL & ENERGY SYSTEMS     1\n",
      "Hanft Family Chiropractic, Inc     1\n",
      "Name: Borrower_Name , Length: 43902, dtype: int64\n",
      "\n",
      "\n",
      "Low_Documentation_Loan\n",
      "No     39476\n",
      "Yes     5217\n",
      "0         64\n",
      "S         43\n",
      "A         33\n",
      "C         31\n",
      "R          3\n",
      "Name: Low_Documentation_Loan, dtype: int64\n",
      "\n",
      "\n",
      "Demography\n",
      "Urban        24586\n",
      "Undefined    15020\n",
      "Rural         5394\n",
      "Name: Demography, dtype: int64\n",
      "\n",
      "\n",
      "State_Of_Bank\n",
      "TR    6603\n",
      "GJ    4686\n",
      "AS    3796\n",
      "JH    3123\n",
      "ML    2605\n",
      "MH    2412\n",
      "BR    2365\n",
      "AR    1967\n",
      "PB    1925\n",
      "OR    1571\n",
      "LD    1343\n",
      "AP    1307\n",
      "HP    1250\n",
      "JK    1087\n",
      "CH    1005\n",
      "KA     914\n",
      "KL     762\n",
      "UP     739\n",
      "CG     700\n",
      "HR     688\n",
      "GA     593\n",
      "WB     434\n",
      "RJ     425\n",
      "MP     407\n",
      "DL     378\n",
      "PY     330\n",
      "NL     280\n",
      "MZ     259\n",
      "DD     227\n",
      "DH     226\n",
      "SK     209\n",
      "UK     192\n",
      "AN     180\n",
      "MN      12\n",
      "Name: State_Of_Bank, dtype: int64\n",
      "\n",
      "\n",
      "ChargedOff_Amount \n",
      "Rs.0.0                   32310\n",
      "Rs.4064000.0               175\n",
      "Rs.812800.0                168\n",
      "Rs.2844800.0               103\n",
      "Rs.2032000.0               100\n",
      "                         ...  \n",
      "Rs.3519424.0                 1\n",
      "Rs.1914712.96                1\n",
      "Rs.10018491.52               1\n",
      "Rs.1779056.6400000001        1\n",
      "Rs.1838309.76                1\n",
      "Name: ChargedOff_Amount , Length: 10833, dtype: int64\n",
      "\n",
      "\n",
      "Borrower_City\n",
      "Jhansi          638\n",
      "Siliguri        526\n",
      "Ramagundam      432\n",
      "Sahibganj       343\n",
      "Baramula        329\n",
      "               ... \n",
      "WALDO             1\n",
      "POUND RIDGE       1\n",
      "WEIDMAN           1\n",
      "DE QUINCY         1\n",
      "BIRD-IN-HAND      1\n",
      "Name: Borrower_City, Length: 1242, dtype: int64\n",
      "\n",
      "\n",
      "Borrower_State\n",
      "Maharashtra                    5087\n",
      "Uttar Pradesh                  4723\n",
      "Tamil Nadu                     3865\n",
      "Andhra Pradesh                 3002\n",
      "Madhya Pradesh                 2845\n",
      "Gujarat                        2708\n",
      "Karnataka                      2506\n",
      "Bihar                          2496\n",
      "Rajasthan                      2269\n",
      "West Bengal                    1990\n",
      "Kerala                         1864\n",
      "Punjab                         1716\n",
      "Telangana                      1703\n",
      "Jharkhand                      1278\n",
      "Haryana                        1107\n",
      "Odisha                         1057\n",
      "Chhattisgarh                   1050\n",
      "Assam                           709\n",
      "Jammu and Kashmir               652\n",
      "Uttarakhand                     597\n",
      "Goa                             324\n",
      "Manipur                         193\n",
      "Tripura                         189\n",
      "Himachal Pradesh                158\n",
      "Delhi                           153\n",
      "Nagaland                        148\n",
      "Puducherry                      128\n",
      "Meghalaya                       126\n",
      "Mizoram                          62\n",
      "Chandigarh                       42\n",
      "Arunachal Pradesh                32\n",
      " Hardoi                          25\n",
      " Ajmer                           25\n",
      " Agra                            19\n",
      " India                           17\n",
      "Andaman and Nicobar Islands      17\n",
      " Bulandshahr                     16\n",
      "Karnatka                         15\n",
      " Rampur                          15\n",
      "Dadra and Nagar Haveli           14\n",
      " Farrukhabad                      9\n",
      "Name: Borrower_State, dtype: int64\n",
      "\n",
      "\n",
      "Gross_Amount_Balance\n",
      "Rs.0.0    45000\n",
      "Name: Gross_Amount_Balance, dtype: int64\n",
      "\n",
      "\n",
      "Loan_Approved_Gross\n",
      "Rs.4064000.0     3728\n",
      "Rs.2032000.0     2784\n",
      "Rs.8128000.0     2588\n",
      "Rs.812800.0      2073\n",
      "Rs.12192000.0    1351\n",
      "                 ... \n",
      "Rs.8152384.0        1\n",
      "Rs.6967565.44       1\n",
      "Rs.15353792.0       1\n",
      "Rs.3966464.0        1\n",
      "Rs.39542720.0       1\n",
      "Name: Loan_Approved_Gross, Length: 3963, dtype: int64\n",
      "\n",
      "\n",
      "Gross_Amount_Disbursed  \n",
      "Rs.4064000.0             2255\n",
      "Rs.8128000.0             1781\n",
      "Rs.2032000.0             1441\n",
      "Rs.12192000.0            1143\n",
      "Rs.812800.0              1141\n",
      "                         ... \n",
      "Rs.2032243.84               1\n",
      "Rs.61585856.0               1\n",
      "Rs.3600866.56               1\n",
      "Rs.3355726.08               1\n",
      "Rs.2233249.2800000003       1\n",
      "Name: Gross_Amount_Disbursed  , Length: 11723, dtype: int64\n",
      "\n",
      "\n",
      "Commitment_Date\n",
      "30-Jan-04    46\n",
      "7-Jul-93     41\n",
      "30-Jun-06    36\n",
      "18-Apr-05    36\n",
      "4-Oct-04     35\n",
      "             ..\n",
      "10-Jul-90     1\n",
      "26-Dec-84     1\n",
      "20-Sep-83     1\n",
      "14-Aug-86     1\n",
      "13-Jul-84     1\n",
      "Name: Commitment_Date, Length: 6723, dtype: int64\n",
      "\n",
      "\n",
      "Name_Of_Bank\n",
      "ICICI Bank Ltd.                               4742\n",
      "IDBI Bank Limited                             3292\n",
      "Dhanlaxmi Bank Ltd.                           3017\n",
      "City Union Bank Ltd.                          1985\n",
      "Karur Vysya Bank Ltd.                         1838\n",
      "                                              ... \n",
      "Small Industries Development Bank of India      55\n",
      "UCO Bank                                        53\n",
      "NatWest Markets plc                             52\n",
      "Barclays Bank Plc.                              39\n",
      "State Bank of India                             38\n",
      "Name: Name_Of_Bank, Length: 143, dtype: int64\n",
      "\n",
      "\n",
      "Revolving_Credit_Line\n",
      "No     20491\n",
      "Yes    10684\n",
      "Name: Revolving_Credit_Line, dtype: int64\n",
      "\n",
      "\n"
     ]
    }
   ],
   "source": [
    "for feature in df_test.columns:\n",
    "    if df_test[feature].dtype == 'object':\n",
    "        print(feature)\n",
    "        print(df_test[feature].value_counts())\n",
    "        print('\\n') "
   ]
  },
  {
   "cell_type": "code",
   "execution_count": 41,
   "id": "b58580e5",
   "metadata": {},
   "outputs": [
    {
     "data": {
      "text/plain": [
       "Index(['ID', 'Date_Of_Disbursement', 'Business', 'Jobs_Reatained',\n",
       "       'Jobs_Created ', 'Year_Of_Commitment ', 'Guaranteed_Approved _Loan',\n",
       "       'Borrower_Name ', 'Low_Documentation_Loan', 'Demography',\n",
       "       'State_Of_Bank', 'ChargedOff_Amount ', 'Borrower_City',\n",
       "       'Borrower_State', 'Gross_Amount_Balance', 'Count_Employees',\n",
       "       'Classification_Code ', 'Loan_Approved_Gross',\n",
       "       'Gross_Amount_Disbursed  ', 'Loan_Term', 'Commitment_Date',\n",
       "       'Primary_Loan_Digit', 'Code_Franchise', 'Name_Of_Bank',\n",
       "       'Revolving_Credit_Line'],\n",
       "      dtype='object')"
      ]
     },
     "execution_count": 41,
     "metadata": {},
     "output_type": "execute_result"
    }
   ],
   "source": [
    "df_test.columns"
   ]
  },
  {
   "cell_type": "markdown",
   "id": "20cfdf7e",
   "metadata": {},
   "source": [
    "### Univariate Analysis on Numerical variables"
   ]
  },
  {
   "cell_type": "code",
   "execution_count": 42,
   "id": "fe0aebbd",
   "metadata": {},
   "outputs": [
    {
     "data": {
      "text/plain": [
       "9"
      ]
     },
     "execution_count": 42,
     "metadata": {},
     "output_type": "execute_result"
    }
   ],
   "source": [
    "df_train_num = df_train.select_dtypes(include = ['int64','float64'])\n",
    "listnumericcolumns = list(df_train_num.columns.values)\n",
    "len(listnumericcolumns)"
   ]
  },
  {
   "cell_type": "code",
   "execution_count": 43,
   "id": "d3eae314",
   "metadata": {},
   "outputs": [],
   "source": [
    "def univariateAnalysis_numeric (column, nbins):\n",
    "    print('Description of '+ column)\n",
    "    print('---------------------------------------')\n",
    "    print(df_train_num[column].describe(), end = '')\n",
    "    print('\\n-------------------------------------')\n",
    "    \n",
    "    plt.figure()\n",
    "    print('Distribution of '+ column)\n",
    "    print('---------------------------------------')\n",
    "    sns.distplot(df_train_num[column], kde = True, color = 'g')\n",
    "    plt.show()\n",
    "    \n",
    "    plt.figure()\n",
    "    print('BoxPlot of' + column)\n",
    "    print('-----------------------------------------')\n",
    "    sns.boxplot(df_train_num[column])\n",
    "    plt.show()"
   ]
  },
  {
   "cell_type": "code",
   "execution_count": 44,
   "id": "fd88ce1e",
   "metadata": {},
   "outputs": [
    {
     "name": "stdout",
     "output_type": "stream",
     "text": [
      "Description of ID\n",
      "---------------------------------------\n",
      "count    105000.00000\n",
      "mean      52499.50000\n",
      "std       30311.03347\n",
      "min           0.00000\n",
      "25%       26249.75000\n",
      "50%       52499.50000\n",
      "75%       78749.25000\n",
      "max      104999.00000\n",
      "Name: ID, dtype: float64\n",
      "-------------------------------------\n",
      "Distribution of ID\n",
      "---------------------------------------\n"
     ]
    },
    {
     "data": {
      "image/png": "[encoded data removed]",
      "text/plain": [
       "<Figure size 432x288 with 1 Axes>"
      ]
     },
     "metadata": {
      "needs_background": "light"
     },
     "output_type": "display_data"
    },
    {
     "name": "stdout",
     "output_type": "stream",
     "text": [
      "BoxPlot ofID\n",
      "-----------------------------------------\n"
     ]
    },
    {
     "data": {
      "image/png": "[encoded data removed]",
      "text/plain": [
       "<Figure size 432x288 with 1 Axes>"
      ]
     },
     "metadata": {
      "needs_background": "light"
     },
     "output_type": "display_data"
    },
    {
     "name": "stdout",
     "output_type": "stream",
     "text": [
      "Description of Jobs_Reatained\n",
      "---------------------------------------\n",
      "count    105000.000000\n",
      "mean         12.688648\n",
      "std         270.544185\n",
      "min           0.000000\n",
      "25%           0.000000\n",
      "50%           1.000000\n",
      "75%           4.000000\n",
      "max        8800.000000\n",
      "Name: Jobs_Reatained, dtype: float64\n",
      "-------------------------------------\n",
      "Distribution of Jobs_Reatained\n",
      "---------------------------------------\n"
     ]
    },
    {
     "data": {
      "image/png": "[encoded data removed]",
      "text/plain": [
       "<Figure size 432x288 with 1 Axes>"
      ]
     },
     "metadata": {
      "needs_background": "light"
     },
     "output_type": "display_data"
    },
    {
     "name": "stdout",
     "output_type": "stream",
     "text": [
      "BoxPlot ofJobs_Reatained\n",
      "-----------------------------------------\n"
     ]
    },
    {
     "data": {
      "image/png": "[encoded data removed]",
      "text/plain": [
       "<Figure size 432x288 with 1 Axes>"
      ]
     },
     "metadata": {
      "needs_background": "light"
     },
     "output_type": "display_data"
    },
    {
     "name": "stdout",
     "output_type": "stream",
     "text": [
      "Description of Jobs_Created \n",
      "---------------------------------------\n",
      "count    105000.000000\n",
      "mean         10.379248\n",
      "std         270.340849\n",
      "min           0.000000\n",
      "25%           0.000000\n",
      "50%           0.000000\n",
      "75%           1.000000\n",
      "max        8800.000000\n",
      "Name: Jobs_Created , dtype: float64\n",
      "-------------------------------------\n",
      "Distribution of Jobs_Created \n",
      "---------------------------------------\n"
     ]
    },
    {
     "data": {
      "image/png": "[encoded data removed]",
      "text/plain": [
       "<Figure size 432x288 with 1 Axes>"
      ]
     },
     "metadata": {
      "needs_background": "light"
     },
     "output_type": "display_data"
    },
    {
     "name": "stdout",
     "output_type": "stream",
     "text": [
      "BoxPlot ofJobs_Created \n",
      "-----------------------------------------\n"
     ]
    },
    {
     "data": {
      "image/png": "[encoded data removed]",
      "text/plain": [
       "<Figure size 432x288 with 1 Axes>"
      ]
     },
     "metadata": {
      "needs_background": "light"
     },
     "output_type": "display_data"
    },
    {
     "name": "stdout",
     "output_type": "stream",
     "text": [
      "Description of Count_Employees\n",
      "---------------------------------------\n",
      "count    105000.000000\n",
      "mean          9.904248\n",
      "std          58.157056\n",
      "min           0.000000\n",
      "25%           2.000000\n",
      "50%           4.000000\n",
      "75%           9.000000\n",
      "max        7200.000000\n",
      "Name: Count_Employees, dtype: float64\n",
      "-------------------------------------\n",
      "Distribution of Count_Employees\n",
      "---------------------------------------\n"
     ]
    },
    {
     "data": {
      "image/png": "[encoded data removed]",
      "text/plain": [
       "<Figure size 432x288 with 1 Axes>"
      ]
     },
     "metadata": {
      "needs_background": "light"
     },
     "output_type": "display_data"
    },
    {
     "name": "stdout",
     "output_type": "stream",
     "text": [
      "BoxPlot ofCount_Employees\n",
      "-----------------------------------------\n"
     ]
    },
    {
     "data": {
      "image/png": "[encoded data removed]",
      "text/plain": [
       "<Figure size 432x288 with 1 Axes>"
      ]
     },
     "metadata": {
      "needs_background": "light"
     },
     "output_type": "display_data"
    },
    {
     "name": "stdout",
     "output_type": "stream",
     "text": [
      "Description of Classification_Code \n",
      "---------------------------------------\n",
      "count    105000.000000\n",
      "mean     405918.304276\n",
      "std      260335.963766\n",
      "min           0.000000\n",
      "25%      236115.000000\n",
      "50%      447110.000000\n",
      "75%      561740.000000\n",
      "max      928120.000000\n",
      "Name: Classification_Code , dtype: float64\n",
      "-------------------------------------\n",
      "Distribution of Classification_Code \n",
      "---------------------------------------\n"
     ]
    },
    {
     "data": {
      "image/png": "[encoded data removed]",
      "text/plain": [
       "<Figure size 432x288 with 1 Axes>"
      ]
     },
     "metadata": {
      "needs_background": "light"
     },
     "output_type": "display_data"
    },
    {
     "name": "stdout",
     "output_type": "stream",
     "text": [
      "BoxPlot ofClassification_Code \n",
      "-----------------------------------------\n"
     ]
    },
    {
     "data": {
      "image/png": "[encoded data removed]",
      "text/plain": [
       "<Figure size 432x288 with 1 Axes>"
      ]
     },
     "metadata": {
      "needs_background": "light"
     },
     "output_type": "display_data"
    },
    {
     "name": "stdout",
     "output_type": "stream",
     "text": [
      "Description of Loan_Term\n",
      "---------------------------------------\n",
      "count    105000.000000\n",
      "mean        156.438362\n",
      "std         116.412721\n",
      "min           0.000000\n",
      "25%          90.000000\n",
      "50%         126.000000\n",
      "75%         180.000000\n",
      "max         692.000000\n",
      "Name: Loan_Term, dtype: float64\n",
      "-------------------------------------\n",
      "Distribution of Loan_Term\n",
      "---------------------------------------\n"
     ]
    },
    {
     "data": {
      "image/png": "[encoded data removed]",
      "text/plain": [
       "<Figure size 432x288 with 1 Axes>"
      ]
     },
     "metadata": {
      "needs_background": "light"
     },
     "output_type": "display_data"
    },
    {
     "name": "stdout",
     "output_type": "stream",
     "text": [
      "BoxPlot ofLoan_Term\n",
      "-----------------------------------------\n"
     ]
    },
    {
     "data": {
      "image/png": "[encoded data removed]",
      "text/plain": [
       "<Figure size 432x288 with 1 Axes>"
      ]
     },
     "metadata": {
      "needs_background": "light"
     },
     "output_type": "display_data"
    },
    {
     "name": "stdout",
     "output_type": "stream",
     "text": [
      "Description of Primary_Loan_Digit\n",
      "---------------------------------------\n",
      "count    1.050000e+05\n",
      "mean     4.661622e+09\n",
      "std      2.546599e+09\n",
      "min      1.000034e+09\n",
      "25%      2.478163e+09\n",
      "50%      4.119824e+09\n",
      "75%      6.760484e+09\n",
      "max      9.996003e+09\n",
      "Name: Primary_Loan_Digit, dtype: float64\n",
      "-------------------------------------\n",
      "Distribution of Primary_Loan_Digit\n",
      "---------------------------------------\n"
     ]
    },
    {
     "data": {
      "image/png": "[encoded data removed]",
      "text/plain": [
       "<Figure size 432x288 with 1 Axes>"
      ]
     },
     "metadata": {
      "needs_background": "light"
     },
     "output_type": "display_data"
    },
    {
     "name": "stdout",
     "output_type": "stream",
     "text": [
      "BoxPlot ofPrimary_Loan_Digit\n",
      "-----------------------------------------\n"
     ]
    },
    {
     "data": {
      "image/png": "[encoded data removed]",
      "text/plain": [
       "<Figure size 432x288 with 1 Axes>"
      ]
     },
     "metadata": {
      "needs_background": "light"
     },
     "output_type": "display_data"
    },
    {
     "name": "stdout",
     "output_type": "stream",
     "text": [
      "Description of Code_Franchise\n",
      "---------------------------------------\n",
      "count    105000.000000\n",
      "mean       2707.201638\n",
      "std       12660.609090\n",
      "min           0.000000\n",
      "25%           0.000000\n",
      "50%           1.000000\n",
      "75%           1.000000\n",
      "max       92006.000000\n",
      "Name: Code_Franchise, dtype: float64\n",
      "-------------------------------------\n",
      "Distribution of Code_Franchise\n",
      "---------------------------------------\n"
     ]
    },
    {
     "data": {
      "image/png": "[encoded data removed]",
      "text/plain": [
       "<Figure size 432x288 with 1 Axes>"
      ]
     },
     "metadata": {
      "needs_background": "light"
     },
     "output_type": "display_data"
    },
    {
     "name": "stdout",
     "output_type": "stream",
     "text": [
      "BoxPlot ofCode_Franchise\n",
      "-----------------------------------------\n"
     ]
    },
    {
     "data": {
      "image/png": "[encoded data removed]",
      "text/plain": [
       "<Figure size 432x288 with 1 Axes>"
      ]
     },
     "metadata": {
      "needs_background": "light"
     },
     "output_type": "display_data"
    },
    {
     "name": "stdout",
     "output_type": "stream",
     "text": [
      "Description of Default\n",
      "---------------------------------------\n",
      "count    105000.000000\n",
      "mean          0.277181\n",
      "std           0.447609\n",
      "min           0.000000\n",
      "25%           0.000000\n",
      "50%           0.000000\n",
      "75%           1.000000\n",
      "max           1.000000\n",
      "Name: Default, dtype: float64\n",
      "-------------------------------------\n",
      "Distribution of Default\n",
      "---------------------------------------\n"
     ]
    },
    {
     "data": {
      "image/png": "[encoded data removed]",
      "text/plain": [
       "<Figure size 432x288 with 1 Axes>"
      ]
     },
     "metadata": {
      "needs_background": "light"
     },
     "output_type": "display_data"
    },
    {
     "name": "stdout",
     "output_type": "stream",
     "text": [
      "BoxPlot ofDefault\n",
      "-----------------------------------------\n"
     ]
    },
    {
     "data": {
      "image/png": "[encoded data removed]",
      "text/plain": [
       "<Figure size 432x288 with 1 Axes>"
      ]
     },
     "metadata": {
      "needs_background": "light"
     },
     "output_type": "display_data"
    }
   ],
   "source": [
    "for x in listnumericcolumns:\n",
    "    univariateAnalysis_numeric(x, 30)"
   ]
  },
  {
   "cell_type": "code",
   "execution_count": 45,
   "id": "9b81af46",
   "metadata": {},
   "outputs": [
    {
     "data": {
      "text/plain": [
       "Index(['ID', 'Date_Of_Disbursement', 'Business', 'Jobs_Reatained',\n",
       "       'Jobs_Created ', 'Year_Of_Commitment ', 'Guaranteed_Approved _Loan',\n",
       "       'Borrower_Name ', 'Low_Documentation_Loan', 'Demography',\n",
       "       'State_Of_Bank', 'ChargedOff_Amount ', 'Borrower_City',\n",
       "       'Borrower_State', 'Gross_Amount_Balance', 'Count_Employees',\n",
       "       'Classification_Code ', 'Loan_Approved_Gross',\n",
       "       'Gross_Amount_Disbursed  ', 'Loan_Term', 'Commitment_Date',\n",
       "       'Primary_Loan_Digit', 'Code_Franchise', 'Name_Of_Bank',\n",
       "       'Revolving_Credit_Line', 'Default'],\n",
       "      dtype='object')"
      ]
     },
     "execution_count": 45,
     "metadata": {},
     "output_type": "execute_result"
    }
   ],
   "source": [
    "df_train.columns"
   ]
  },
  {
   "cell_type": "code",
   "execution_count": 46,
   "id": "104a2d85",
   "metadata": {},
   "outputs": [
    {
     "data": {
      "image/png": "[encoded data removed]",
      "text/plain": [
       "<Figure size 432x288 with 1 Axes>"
      ]
     },
     "metadata": {
      "needs_background": "light"
     },
     "output_type": "display_data"
    }
   ],
   "source": [
    "sns.countplot('Borrower_City', data = df_train);"
   ]
  },
  {
   "cell_type": "code",
   "execution_count": 47,
   "id": "c15b49ce",
   "metadata": {},
   "outputs": [
    {
     "data": {
      "image/png": "[encoded data removed]",
      "text/plain": [
       "<Figure size 432x288 with 1 Axes>"
      ]
     },
     "metadata": {
      "needs_background": "light"
     },
     "output_type": "display_data"
    }
   ],
   "source": [
    "sns.countplot('Count_Employees', data = df_train);"
   ]
  },
  {
   "cell_type": "markdown",
   "id": "f7ee7e47",
   "metadata": {},
   "source": [
    "## Checking for Correlation of train_dataset:"
   ]
  },
  {
   "cell_type": "code",
   "execution_count": 48,
   "id": "eb40476e",
   "metadata": {},
   "outputs": [
    {
     "data": {
      "text/html": [
       "<div>\n",
       "<style scoped>\n",
       "    .dataframe tbody tr th:only-of-type {\n",
       "        vertical-align: middle;\n",
       "    }\n",
       "\n",
       "    .dataframe tbody tr th {\n",
       "        vertical-align: top;\n",
       "    }\n",
       "\n",
       "    .dataframe thead th {\n",
       "        text-align: right;\n",
       "    }\n",
       "</style>\n",
       "<table border=\"1\" class=\"dataframe\">\n",
       "  <thead>\n",
       "    <tr style=\"text-align: right;\">\n",
       "      <th></th>\n",
       "      <th>ID</th>\n",
       "      <th>Jobs_Reatained</th>\n",
       "      <th>Jobs_Created</th>\n",
       "      <th>Count_Employees</th>\n",
       "      <th>Classification_Code</th>\n",
       "      <th>Loan_Term</th>\n",
       "      <th>Primary_Loan_Digit</th>\n",
       "      <th>Code_Franchise</th>\n",
       "      <th>Default</th>\n",
       "    </tr>\n",
       "  </thead>\n",
       "  <tbody>\n",
       "    <tr>\n",
       "      <th>ID</th>\n",
       "      <td>1.000</td>\n",
       "      <td>-0.003</td>\n",
       "      <td>-0.003</td>\n",
       "      <td>-0.000</td>\n",
       "      <td>-0.006</td>\n",
       "      <td>-0.001</td>\n",
       "      <td>-0.003</td>\n",
       "      <td>-0.003</td>\n",
       "      <td>-0.000</td>\n",
       "    </tr>\n",
       "    <tr>\n",
       "      <th>Jobs_Reatained</th>\n",
       "      <td>-0.003</td>\n",
       "      <td>1.000</td>\n",
       "      <td>0.997</td>\n",
       "      <td>0.013</td>\n",
       "      <td>-0.045</td>\n",
       "      <td>0.020</td>\n",
       "      <td>-0.025</td>\n",
       "      <td>0.000</td>\n",
       "      <td>0.014</td>\n",
       "    </tr>\n",
       "    <tr>\n",
       "      <th>Jobs_Created</th>\n",
       "      <td>-0.003</td>\n",
       "      <td>0.997</td>\n",
       "      <td>1.000</td>\n",
       "      <td>0.010</td>\n",
       "      <td>-0.047</td>\n",
       "      <td>0.022</td>\n",
       "      <td>-0.024</td>\n",
       "      <td>0.002</td>\n",
       "      <td>0.014</td>\n",
       "    </tr>\n",
       "    <tr>\n",
       "      <th>Count_Employees</th>\n",
       "      <td>-0.000</td>\n",
       "      <td>0.013</td>\n",
       "      <td>0.010</td>\n",
       "      <td>1.000</td>\n",
       "      <td>-0.043</td>\n",
       "      <td>0.058</td>\n",
       "      <td>0.013</td>\n",
       "      <td>0.009</td>\n",
       "      <td>-0.035</td>\n",
       "    </tr>\n",
       "    <tr>\n",
       "      <th>Classification_Code</th>\n",
       "      <td>-0.006</td>\n",
       "      <td>-0.045</td>\n",
       "      <td>-0.047</td>\n",
       "      <td>-0.043</td>\n",
       "      <td>1.000</td>\n",
       "      <td>-0.128</td>\n",
       "      <td>-0.063</td>\n",
       "      <td>0.030</td>\n",
       "      <td>0.127</td>\n",
       "    </tr>\n",
       "    <tr>\n",
       "      <th>Loan_Term</th>\n",
       "      <td>-0.001</td>\n",
       "      <td>0.020</td>\n",
       "      <td>0.022</td>\n",
       "      <td>0.058</td>\n",
       "      <td>-0.128</td>\n",
       "      <td>1.000</td>\n",
       "      <td>0.117</td>\n",
       "      <td>0.032</td>\n",
       "      <td>-0.376</td>\n",
       "    </tr>\n",
       "    <tr>\n",
       "      <th>Primary_Loan_Digit</th>\n",
       "      <td>-0.003</td>\n",
       "      <td>-0.025</td>\n",
       "      <td>-0.024</td>\n",
       "      <td>0.013</td>\n",
       "      <td>-0.063</td>\n",
       "      <td>0.117</td>\n",
       "      <td>1.000</td>\n",
       "      <td>0.054</td>\n",
       "      <td>-0.201</td>\n",
       "    </tr>\n",
       "    <tr>\n",
       "      <th>Code_Franchise</th>\n",
       "      <td>-0.003</td>\n",
       "      <td>0.000</td>\n",
       "      <td>0.002</td>\n",
       "      <td>0.009</td>\n",
       "      <td>0.030</td>\n",
       "      <td>0.032</td>\n",
       "      <td>0.054</td>\n",
       "      <td>1.000</td>\n",
       "      <td>-0.019</td>\n",
       "    </tr>\n",
       "    <tr>\n",
       "      <th>Default</th>\n",
       "      <td>-0.000</td>\n",
       "      <td>0.014</td>\n",
       "      <td>0.014</td>\n",
       "      <td>-0.035</td>\n",
       "      <td>0.127</td>\n",
       "      <td>-0.376</td>\n",
       "      <td>-0.201</td>\n",
       "      <td>-0.019</td>\n",
       "      <td>1.000</td>\n",
       "    </tr>\n",
       "  </tbody>\n",
       "</table>\n",
       "</div>"
      ],
      "text/plain": [
       "                         ID  Jobs_Reatained  Jobs_Created   Count_Employees  \\\n",
       "ID                    1.000          -0.003         -0.003           -0.000   \n",
       "Jobs_Reatained       -0.003           1.000          0.997            0.013   \n",
       "Jobs_Created         -0.003           0.997          1.000            0.010   \n",
       "Count_Employees      -0.000           0.013          0.010            1.000   \n",
       "Classification_Code  -0.006          -0.045         -0.047           -0.043   \n",
       "Loan_Term            -0.001           0.020          0.022            0.058   \n",
       "Primary_Loan_Digit   -0.003          -0.025         -0.024            0.013   \n",
       "Code_Franchise       -0.003           0.000          0.002            0.009   \n",
       "Default              -0.000           0.014          0.014           -0.035   \n",
       "\n",
       "                      Classification_Code   Loan_Term  Primary_Loan_Digit  \\\n",
       "ID                                  -0.006     -0.001              -0.003   \n",
       "Jobs_Reatained                      -0.045      0.020              -0.025   \n",
       "Jobs_Created                        -0.047      0.022              -0.024   \n",
       "Count_Employees                     -0.043      0.058               0.013   \n",
       "Classification_Code                  1.000     -0.128              -0.063   \n",
       "Loan_Term                           -0.128      1.000               0.117   \n",
       "Primary_Loan_Digit                  -0.063      0.117               1.000   \n",
       "Code_Franchise                       0.030      0.032               0.054   \n",
       "Default                              0.127     -0.376              -0.201   \n",
       "\n",
       "                      Code_Franchise  Default  \n",
       "ID                            -0.003   -0.000  \n",
       "Jobs_Reatained                 0.000    0.014  \n",
       "Jobs_Created                   0.002    0.014  \n",
       "Count_Employees                0.009   -0.035  \n",
       "Classification_Code            0.030    0.127  \n",
       "Loan_Term                      0.032   -0.376  \n",
       "Primary_Loan_Digit             0.054   -0.201  \n",
       "Code_Franchise                 1.000   -0.019  \n",
       "Default                       -0.019    1.000  "
      ]
     },
     "execution_count": 48,
     "metadata": {},
     "output_type": "execute_result"
    }
   ],
   "source": [
    "corr_train = df_train.corr()\n",
    "round(corr_train,3)"
   ]
  },
  {
   "cell_type": "markdown",
   "id": "2b84c4ae",
   "metadata": {},
   "source": [
    "### CORRELATION HEATMAP :"
   ]
  },
  {
   "cell_type": "code",
   "execution_count": 49,
   "id": "5d55f275",
   "metadata": {},
   "outputs": [
    {
     "data": {
      "image/png": "[encoded data removed]",
      "text/plain": [
       "<Figure size 1440x720 with 2 Axes>"
      ]
     },
     "metadata": {
      "needs_background": "light"
     },
     "output_type": "display_data"
    }
   ],
   "source": [
    "#creating a heatmap for better visualization\n",
    "plt.figure(figsize=(20,10))\n",
    "sns.heatmap(df_train.corr(),annot=True,fmt=\".2f\",cmap=\"viridis\")\n",
    "plt.show()"
   ]
  },
  {
   "cell_type": "code",
   "execution_count": 50,
   "id": "58653adf",
   "metadata": {},
   "outputs": [],
   "source": [
    "# Decision tree in Python can take only numerical / categorical colums. It cannot take string / object types. \n",
    "# The following code loops through each column and checks if the column type is object then converts those columns\n",
    "# into categorical with each distinct value becoming a category or code.\n",
    "\n",
    "for feature in df_train.columns: \n",
    "    if df_train[feature].dtype == 'object':\n",
    "        df_train[feature] = pd.Categorical(df_train[feature]).codes "
   ]
  },
  {
   "cell_type": "code",
   "execution_count": 51,
   "id": "73f21803",
   "metadata": {},
   "outputs": [
    {
     "data": {
      "image/png": "[encoded data removed]",
      "text/plain": [
       "<Figure size 1440x1440 with 30 Axes>"
      ]
     },
     "metadata": {
      "needs_background": "light"
     },
     "output_type": "display_data"
    }
   ],
   "source": [
    "df_train.hist(figsize=(20,20),color='violet');"
   ]
  },
  {
   "cell_type": "markdown",
   "id": "ee7283a7",
   "metadata": {},
   "source": [
    "## SKEWNESS VALUE:"
   ]
  },
  {
   "cell_type": "code",
   "execution_count": 52,
   "id": "a9033c79",
   "metadata": {},
   "outputs": [
    {
     "data": {
      "text/plain": [
       "Gross_Amount_Balance         260.84\n",
       "Count_Employees               68.08\n",
       "Jobs_Created                  32.41\n",
       "Jobs_Reatained                32.34\n",
       "Code_Franchise                 5.03\n",
       "Low_Documentation_Loan         1.80\n",
       "ChargedOff_Amount              1.80\n",
       "Loan_Term                      1.21\n",
       "Default                        1.00\n",
       "Business                       0.91\n",
       "Primary_Loan_Digit             0.43\n",
       "Name_Of_Bank                   0.36\n",
       "Guaranteed_Approved _Loan      0.16\n",
       "State_Of_Bank                  0.11\n",
       "Gross_Amount_Disbursed         0.04\n",
       "Loan_Approved_Gross            0.02\n",
       "Borrower_City                  0.01\n",
       "ID                             0.00\n",
       "Borrower_Name                 -0.00\n",
       "Commitment_Date               -0.02\n",
       "Classification_Code           -0.30\n",
       "Borrower_State                -0.32\n",
       "Revolving_Credit_Line         -0.42\n",
       "Year_Of_Commitment            -0.74\n",
       "Demography                    -0.81\n",
       "Date_Of_Disbursement          -2.38\n",
       "dtype: float64"
      ]
     },
     "execution_count": 52,
     "metadata": {},
     "output_type": "execute_result"
    }
   ],
   "source": [
    "# Let's check the skewness values quantitativel y\n",
    "df_train.skew().sort_values(ascending=False).round(2)"
   ]
  },
  {
   "cell_type": "code",
   "execution_count": 53,
   "id": "0f9fedd3",
   "metadata": {},
   "outputs": [],
   "source": [
    "# making copies of dataset\n",
    "df_train_1 = df_train.copy()\n",
    "df_train_2 = df_train.copy()"
   ]
  },
  {
   "cell_type": "code",
   "execution_count": 54,
   "id": "6988c844",
   "metadata": {},
   "outputs": [
    {
     "data": {
      "text/plain": [
       "0    0.722819\n",
       "1    0.277181\n",
       "Name: Default, dtype: float64"
      ]
     },
     "execution_count": 54,
     "metadata": {},
     "output_type": "execute_result"
    }
   ],
   "source": [
    "df_train_1.Default.value_counts(normalize=\"True\")"
   ]
  },
  {
   "cell_type": "code",
   "execution_count": 55,
   "id": "1bf50dd8",
   "metadata": {},
   "outputs": [
    {
     "data": {
      "image/png": "[encoded data removed]",
      "text/plain": [
       "<Figure size 1800x648 with 1 Axes>"
      ]
     },
     "metadata": {
      "needs_background": "light"
     },
     "output_type": "display_data"
    }
   ],
   "source": [
    "plt.figure(figsize=[25,9]);\n",
    "sns.boxplot(data=df_train_1);\n",
    "plt.xticks(rotation=30);\n",
    "plt.savefig('box.jpg', bbox_inches='tight');"
   ]
  },
  {
   "cell_type": "code",
   "execution_count": 56,
   "id": "197d65de",
   "metadata": {},
   "outputs": [
    {
     "name": "stdout",
     "output_type": "stream",
     "text": [
      "<class 'pandas.core.frame.DataFrame'>\n",
      "RangeIndex: 105000 entries, 0 to 104999\n",
      "Data columns (total 26 columns):\n",
      " #   Column                     Non-Null Count   Dtype\n",
      "---  ------                     --------------   -----\n",
      " 0   ID                         105000 non-null  int64\n",
      " 1   Date_Of_Disbursement       105000 non-null  int16\n",
      " 2   Business                   105000 non-null  int8 \n",
      " 3   Jobs_Reatained             105000 non-null  int64\n",
      " 4   Jobs_Created               105000 non-null  int64\n",
      " 5   Year_Of_Commitment         105000 non-null  int8 \n",
      " 6   Guaranteed_Approved _Loan  105000 non-null  int16\n",
      " 7   Borrower_Name              105000 non-null  int32\n",
      " 8   Low_Documentation_Loan     105000 non-null  int8 \n",
      " 9   Demography                 105000 non-null  int8 \n",
      " 10  State_Of_Bank              105000 non-null  int8 \n",
      " 11  ChargedOff_Amount          105000 non-null  int16\n",
      " 12  Borrower_City              105000 non-null  int16\n",
      " 13  Borrower_State             105000 non-null  int8 \n",
      " 14  Gross_Amount_Balance       105000 non-null  int8 \n",
      " 15  Count_Employees            105000 non-null  int64\n",
      " 16  Classification_Code        105000 non-null  int64\n",
      " 17  Loan_Approved_Gross        105000 non-null  int16\n",
      " 18  Gross_Amount_Disbursed     105000 non-null  int16\n",
      " 19  Loan_Term                  105000 non-null  int64\n",
      " 20  Commitment_Date            105000 non-null  int16\n",
      " 21  Primary_Loan_Digit         105000 non-null  int64\n",
      " 22  Code_Franchise             105000 non-null  int64\n",
      " 23  Name_Of_Bank               105000 non-null  int16\n",
      " 24  Revolving_Credit_Line      105000 non-null  int8 \n",
      " 25  Default                    105000 non-null  int64\n",
      "dtypes: int16(8), int32(1), int64(9), int8(8)\n",
      "memory usage: 10.0 MB\n"
     ]
    }
   ],
   "source": [
    "df_train.info()"
   ]
  },
  {
   "cell_type": "code",
   "execution_count": 57,
   "id": "ad30966f",
   "metadata": {},
   "outputs": [
    {
     "data": {
      "image/png": "[encoded data removed]",
      "text/plain": [
       "<Figure size 432x288 with 1 Axes>"
      ]
     },
     "metadata": {
      "needs_background": "light"
     },
     "output_type": "display_data"
    },
    {
     "data": {
      "image/png": "[encoded data removed]",
      "text/plain": [
       "<Figure size 432x288 with 1 Axes>"
      ]
     },
     "metadata": {
      "needs_background": "light"
     },
     "output_type": "display_data"
    },
    {
     "data": {
      "image/png": "[encoded data removed]",
      "text/plain": [
       "<Figure size 432x288 with 1 Axes>"
      ]
     },
     "metadata": {
      "needs_background": "light"
     },
     "output_type": "display_data"
    },
    {
     "data": {
      "image/png": "[encoded data removed]",
      "text/plain": [
       "<Figure size 432x288 with 1 Axes>"
      ]
     },
     "metadata": {
      "needs_background": "light"
     },
     "output_type": "display_data"
    },
    {
     "data": {
      "image/png": "[encoded data removed]",
      "text/plain": [
       "<Figure size 432x288 with 1 Axes>"
      ]
     },
     "metadata": {
      "needs_background": "light"
     },
     "output_type": "display_data"
    },
    {
     "data": {
      "image/png": "[encoded data removed]",
      "text/plain": [
       "<Figure size 432x288 with 1 Axes>"
      ]
     },
     "metadata": {
      "needs_background": "light"
     },
     "output_type": "display_data"
    }
   ],
   "source": [
    "cols = ['Date_Of_Disbursement','Business','Jobs_Reatained','Low_Documentation_Loan','Borrower_City','Loan_Term']\n",
    "for i in cols:\n",
    "    sns.boxplot(df_train_1[i],whis=1.5)\n",
    "    plt.show();"
   ]
  },
  {
   "cell_type": "code",
   "execution_count": 58,
   "id": "c45129d8",
   "metadata": {},
   "outputs": [],
   "source": [
    "### Outlier treatment :\n",
    "def remove_outlier(col):\n",
    "    sorted(col)\n",
    "    Q1,Q3=np.percentile(col,[25,75])\n",
    "    IQR=Q3-Q1\n",
    "    lower_range= Q1-(1.5 * IQR)\n",
    "    upper_range= Q3+(1.5 * IQR)\n",
    "    return lower_range, upper_range"
   ]
  },
  {
   "cell_type": "code",
   "execution_count": 59,
   "id": "98c6591f",
   "metadata": {},
   "outputs": [],
   "source": [
    "for column in df_train_1[cols].columns:\n",
    "    lr,ur=remove_outlier(df_train_1[column])\n",
    "    df_train_1[column]=np.where(df_train_1[column]>ur,ur,df_train_1[column])\n",
    "    df_train_1[column]=np.where(df_train_1[column]<lr,lr,df_train_1[column])"
   ]
  },
  {
   "cell_type": "code",
   "execution_count": 60,
   "id": "f9fe883e",
   "metadata": {},
   "outputs": [
    {
     "data": {
      "image/png": "[encoded data removed]",
      "text/plain": [
       "<Figure size 1152x648 with 1 Axes>"
      ]
     },
     "metadata": {
      "needs_background": "light"
     },
     "output_type": "display_data"
    }
   ],
   "source": [
    "plt.figure(figsize=[16,9]);\n",
    "sns.boxplot(data=df_train_1);\n",
    "plt.xticks(rotation=30);\n",
    "plt.savefig('box.jpg', bbox_inches='tight');"
   ]
  },
  {
   "cell_type": "markdown",
   "id": "290d204d",
   "metadata": {},
   "source": [
    "### Checking missing values:"
   ]
  },
  {
   "cell_type": "code",
   "execution_count": 61,
   "id": "086399cf",
   "metadata": {},
   "outputs": [
    {
     "data": {
      "text/plain": [
       "ID                           0\n",
       "Date_Of_Disbursement         0\n",
       "Business                     0\n",
       "Jobs_Reatained               0\n",
       "Jobs_Created                 0\n",
       "Year_Of_Commitment           0\n",
       "Guaranteed_Approved _Loan    0\n",
       "Borrower_Name                0\n",
       "Low_Documentation_Loan       0\n",
       "Demography                   0\n",
       "State_Of_Bank                0\n",
       "ChargedOff_Amount            0\n",
       "Borrower_City                0\n",
       "Borrower_State               0\n",
       "Gross_Amount_Balance         0\n",
       "Count_Employees              0\n",
       "Classification_Code          0\n",
       "Loan_Approved_Gross          0\n",
       "Gross_Amount_Disbursed       0\n",
       "Loan_Term                    0\n",
       "Commitment_Date              0\n",
       "Primary_Loan_Digit           0\n",
       "Code_Franchise               0\n",
       "Name_Of_Bank                 0\n",
       "Revolving_Credit_Line        0\n",
       "Default                      0\n",
       "dtype: int64"
      ]
     },
     "execution_count": 61,
     "metadata": {},
     "output_type": "execute_result"
    }
   ],
   "source": [
    "df_train_1.isnull().sum()"
   ]
  },
  {
   "cell_type": "code",
   "execution_count": 62,
   "id": "b9ab2c62",
   "metadata": {},
   "outputs": [
    {
     "data": {
      "text/plain": [
       "<seaborn.axisgrid.FacetGrid at 0x2c9f16dfd60>"
      ]
     },
     "execution_count": 62,
     "metadata": {},
     "output_type": "execute_result"
    },
    {
     "data": {
      "text/plain": [
       "<Figure size 72x144 with 0 Axes>"
      ]
     },
     "metadata": {},
     "output_type": "display_data"
    },
    {
     "data": {
      "image/png": "[encoded data removed]",
      "text/plain": [
       "<Figure size 360x360 with 1 Axes>"
      ]
     },
     "metadata": {
      "needs_background": "light"
     },
     "output_type": "display_data"
    }
   ],
   "source": [
    "plt.figure(figsize=(1,2))\n",
    "sns.catplot('Business', kind='count', data=df_train_1)"
   ]
  },
  {
   "cell_type": "code",
   "execution_count": 63,
   "id": "5d34255a",
   "metadata": {},
   "outputs": [
    {
     "data": {
      "text/plain": [
       "<seaborn.axisgrid.FacetGrid at 0x2c9f6201df0>"
      ]
     },
     "execution_count": 63,
     "metadata": {},
     "output_type": "execute_result"
    },
    {
     "data": {
      "text/plain": [
       "<Figure size 288x432 with 0 Axes>"
      ]
     },
     "metadata": {},
     "output_type": "display_data"
    },
    {
     "data": {
      "image/png": "[encoded data removed]",
      "text/plain": [
       "<Figure size 360x360 with 1 Axes>"
      ]
     },
     "metadata": {
      "needs_background": "light"
     },
     "output_type": "display_data"
    }
   ],
   "source": [
    "plt.figure(figsize=(4,6))\n",
    "sns.catplot('Low_Documentation_Loan', kind='count', data=df_train)"
   ]
  },
  {
   "cell_type": "code",
   "execution_count": 64,
   "id": "564147c8",
   "metadata": {},
   "outputs": [
    {
     "data": {
      "text/plain": [
       "<AxesSubplot:xlabel='Guaranteed_Approved _Loan', ylabel='Density'>"
      ]
     },
     "execution_count": 64,
     "metadata": {},
     "output_type": "execute_result"
    },
    {
     "data": {
      "image/png": "[encoded data removed]",
      "text/plain": [
       "<Figure size 432x288 with 1 Axes>"
      ]
     },
     "metadata": {
      "needs_background": "light"
     },
     "output_type": "display_data"
    }
   ],
   "source": [
    "sns.distplot(df_train_1['Guaranteed_Approved _Loan'])"
   ]
  },
  {
   "cell_type": "code",
   "execution_count": 65,
   "id": "f4b7a65c",
   "metadata": {},
   "outputs": [
    {
     "data": {
      "text/plain": [
       "<AxesSubplot:xlabel='Loan_Approved_Gross', ylabel='Density'>"
      ]
     },
     "execution_count": 65,
     "metadata": {},
     "output_type": "execute_result"
    },
    {
     "data": {
      "image/png": "[encoded data removed]",
      "text/plain": [
       "<Figure size 432x288 with 1 Axes>"
      ]
     },
     "metadata": {
      "needs_background": "light"
     },
     "output_type": "display_data"
    }
   ],
   "source": [
    "sns.distplot(df_train_1['Loan_Approved_Gross'])"
   ]
  },
  {
   "cell_type": "code",
   "execution_count": 66,
   "id": "d967c52b",
   "metadata": {},
   "outputs": [
    {
     "data": {
      "text/plain": [
       "<AxesSubplot:xlabel='ChargedOff_Amount ', ylabel='Density'>"
      ]
     },
     "execution_count": 66,
     "metadata": {},
     "output_type": "execute_result"
    },
    {
     "data": {
      "image/png": "[encoded data removed]",
      "text/plain": [
       "<Figure size 432x288 with 1 Axes>"
      ]
     },
     "metadata": {
      "needs_background": "light"
     },
     "output_type": "display_data"
    }
   ],
   "source": [
    "sns.distplot(df_train_1['ChargedOff_Amount '])"
   ]
  },
  {
   "cell_type": "code",
   "execution_count": 67,
   "id": "65a2390e",
   "metadata": {},
   "outputs": [
    {
     "data": {
      "text/plain": [
       "<AxesSubplot:xlabel='Primary_Loan_Digit', ylabel='Density'>"
      ]
     },
     "execution_count": 67,
     "metadata": {},
     "output_type": "execute_result"
    },
    {
     "data": {
      "image/png": "[encoded data removed]",
      "text/plain": [
       "<Figure size 432x288 with 1 Axes>"
      ]
     },
     "metadata": {
      "needs_background": "light"
     },
     "output_type": "display_data"
    }
   ],
   "source": [
    "sns.distplot(df_train_1['Primary_Loan_Digit'])"
   ]
  },
  {
   "cell_type": "code",
   "execution_count": 68,
   "id": "0d9894fd",
   "metadata": {},
   "outputs": [
    {
     "data": {
      "text/plain": [
       "<AxesSubplot:xlabel='Loan_Term', ylabel='Density'>"
      ]
     },
     "execution_count": 68,
     "metadata": {},
     "output_type": "execute_result"
    },
    {
     "data": {
      "image/png": "[encoded data removed]",
      "text/plain": [
       "<Figure size 432x288 with 1 Axes>"
      ]
     },
     "metadata": {
      "needs_background": "light"
     },
     "output_type": "display_data"
    }
   ],
   "source": [
    "sns.distplot(df_train_1['Loan_Term'])"
   ]
  },
  {
   "cell_type": "markdown",
   "id": "230e53f8",
   "metadata": {},
   "source": [
    "### Extracting the target column into separate vectors for training set and test set"
   ]
  },
  {
   "cell_type": "code",
   "execution_count": 69,
   "id": "6278eab4",
   "metadata": {},
   "outputs": [],
   "source": [
    "X = df_train_1.drop('Default', axis = 1)\n",
    "\n",
    "y = df_train_1.pop('Default')"
   ]
  },
  {
   "cell_type": "markdown",
   "id": "73746a74",
   "metadata": {},
   "source": [
    "### Splitting data into training and Validation set"
   ]
  },
  {
   "cell_type": "code",
   "execution_count": 70,
   "id": "a07224c9",
   "metadata": {},
   "outputs": [],
   "source": [
    "X_train, X_test, y_train, y_test = train_test_split(X, y, test_size = 0.3, random_state = 1)"
   ]
  },
  {
   "cell_type": "code",
   "execution_count": 71,
   "id": "68b7a026",
   "metadata": {},
   "outputs": [
    {
     "name": "stdout",
     "output_type": "stream",
     "text": [
      "X_train (73500, 25)\n",
      "X_test (31500, 25)\n",
      "y_train (73500,)\n",
      "y_test (31500,)\n"
     ]
    }
   ],
   "source": [
    "print('X_train',X_train.shape)\n",
    "print('X_test',X_test.shape)\n",
    "print('y_train',y_train.shape)\n",
    "print('y_test',y_test.shape)"
   ]
  },
  {
   "cell_type": "code",
   "execution_count": 130,
   "id": "30130183",
   "metadata": {},
   "outputs": [],
   "source": [
    "from sklearn.preprocessing import StandardScaler\n",
    "ss=StandardScaler() \n",
    "\n",
    "x_train_scaled=ss.fit_transform(X_train)\n",
    "x_test_scaled=ss.transform(X_test)"
   ]
  },
  {
   "cell_type": "code",
   "execution_count": 131,
   "id": "8865f08e",
   "metadata": {},
   "outputs": [
    {
     "data": {
      "text/html": [
       "<div>\n",
       "<style scoped>\n",
       "    .dataframe tbody tr th:only-of-type {\n",
       "        vertical-align: middle;\n",
       "    }\n",
       "\n",
       "    .dataframe tbody tr th {\n",
       "        vertical-align: top;\n",
       "    }\n",
       "\n",
       "    .dataframe thead th {\n",
       "        text-align: right;\n",
       "    }\n",
       "</style>\n",
       "<table border=\"1\" class=\"dataframe\">\n",
       "  <thead>\n",
       "    <tr style=\"text-align: right;\">\n",
       "      <th></th>\n",
       "      <th>ID</th>\n",
       "      <th>Date_Of_Disbursement</th>\n",
       "      <th>Business</th>\n",
       "      <th>Jobs_Reatained</th>\n",
       "      <th>Jobs_Created</th>\n",
       "      <th>Year_Of_Commitment</th>\n",
       "      <th>Guaranteed_Approved _Loan</th>\n",
       "      <th>Borrower_Name</th>\n",
       "      <th>Low_Documentation_Loan</th>\n",
       "      <th>Demography</th>\n",
       "      <th>...</th>\n",
       "      <th>Count_Employees</th>\n",
       "      <th>Classification_Code</th>\n",
       "      <th>Loan_Approved_Gross</th>\n",
       "      <th>Gross_Amount_Disbursed</th>\n",
       "      <th>Loan_Term</th>\n",
       "      <th>Commitment_Date</th>\n",
       "      <th>Primary_Loan_Digit</th>\n",
       "      <th>Code_Franchise</th>\n",
       "      <th>Name_Of_Bank</th>\n",
       "      <th>Revolving_Credit_Line</th>\n",
       "    </tr>\n",
       "  </thead>\n",
       "  <tbody>\n",
       "    <tr>\n",
       "      <th>61274</th>\n",
       "      <td>61274</td>\n",
       "      <td>2714.0</td>\n",
       "      <td>1.0</td>\n",
       "      <td>1.0</td>\n",
       "      <td>0</td>\n",
       "      <td>78</td>\n",
       "      <td>8757</td>\n",
       "      <td>19430</td>\n",
       "      <td>3.0</td>\n",
       "      <td>2</td>\n",
       "      <td>...</td>\n",
       "      <td>1</td>\n",
       "      <td>524298</td>\n",
       "      <td>1089</td>\n",
       "      <td>11777</td>\n",
       "      <td>87.0</td>\n",
       "      <td>1857</td>\n",
       "      <td>5534454009</td>\n",
       "      <td>1</td>\n",
       "      <td>57</td>\n",
       "      <td>9</td>\n",
       "    </tr>\n",
       "    <tr>\n",
       "      <th>57688</th>\n",
       "      <td>57688</td>\n",
       "      <td>2817.0</td>\n",
       "      <td>2.0</td>\n",
       "      <td>0.0</td>\n",
       "      <td>0</td>\n",
       "      <td>70</td>\n",
       "      <td>5399</td>\n",
       "      <td>60007</td>\n",
       "      <td>3.0</td>\n",
       "      <td>1</td>\n",
       "      <td>...</td>\n",
       "      <td>3</td>\n",
       "      <td>811121</td>\n",
       "      <td>3651</td>\n",
       "      <td>13390</td>\n",
       "      <td>90.0</td>\n",
       "      <td>6829</td>\n",
       "      <td>7050903009</td>\n",
       "      <td>1</td>\n",
       "      <td>105</td>\n",
       "      <td>6</td>\n",
       "    </tr>\n",
       "    <tr>\n",
       "      <th>98229</th>\n",
       "      <td>98229</td>\n",
       "      <td>2867.0</td>\n",
       "      <td>2.0</td>\n",
       "      <td>2.0</td>\n",
       "      <td>1</td>\n",
       "      <td>32</td>\n",
       "      <td>1312</td>\n",
       "      <td>56633</td>\n",
       "      <td>3.0</td>\n",
       "      <td>0</td>\n",
       "      <td>...</td>\n",
       "      <td>2</td>\n",
       "      <td>453998</td>\n",
       "      <td>1627</td>\n",
       "      <td>5894</td>\n",
       "      <td>176.0</td>\n",
       "      <td>2752</td>\n",
       "      <td>6707534002</td>\n",
       "      <td>50140</td>\n",
       "      <td>36</td>\n",
       "      <td>1</td>\n",
       "    </tr>\n",
       "    <tr>\n",
       "      <th>96082</th>\n",
       "      <td>96082</td>\n",
       "      <td>2649.0</td>\n",
       "      <td>1.0</td>\n",
       "      <td>3.0</td>\n",
       "      <td>0</td>\n",
       "      <td>35</td>\n",
       "      <td>855</td>\n",
       "      <td>29437</td>\n",
       "      <td>3.0</td>\n",
       "      <td>0</td>\n",
       "      <td>...</td>\n",
       "      <td>3</td>\n",
       "      <td>541620</td>\n",
       "      <td>2342</td>\n",
       "      <td>18787</td>\n",
       "      <td>126.0</td>\n",
       "      <td>3927</td>\n",
       "      <td>2176176006</td>\n",
       "      <td>1</td>\n",
       "      <td>42</td>\n",
       "      <td>9</td>\n",
       "    </tr>\n",
       "    <tr>\n",
       "      <th>68228</th>\n",
       "      <td>68228</td>\n",
       "      <td>2280.5</td>\n",
       "      <td>2.0</td>\n",
       "      <td>0.0</td>\n",
       "      <td>2</td>\n",
       "      <td>39</td>\n",
       "      <td>1650</td>\n",
       "      <td>23454</td>\n",
       "      <td>3.0</td>\n",
       "      <td>2</td>\n",
       "      <td>...</td>\n",
       "      <td>1</td>\n",
       "      <td>454210</td>\n",
       "      <td>1415</td>\n",
       "      <td>5069</td>\n",
       "      <td>88.0</td>\n",
       "      <td>3109</td>\n",
       "      <td>3863475002</td>\n",
       "      <td>0</td>\n",
       "      <td>13</td>\n",
       "      <td>6</td>\n",
       "    </tr>\n",
       "  </tbody>\n",
       "</table>\n",
       "<p>5 rows × 25 columns</p>\n",
       "</div>"
      ],
      "text/plain": [
       "          ID  Date_Of_Disbursement  Business  Jobs_Reatained  Jobs_Created   \\\n",
       "61274  61274                2714.0       1.0             1.0              0   \n",
       "57688  57688                2817.0       2.0             0.0              0   \n",
       "98229  98229                2867.0       2.0             2.0              1   \n",
       "96082  96082                2649.0       1.0             3.0              0   \n",
       "68228  68228                2280.5       2.0             0.0              2   \n",
       "\n",
       "       Year_Of_Commitment   Guaranteed_Approved _Loan  Borrower_Name   \\\n",
       "61274                   78                       8757           19430   \n",
       "57688                   70                       5399           60007   \n",
       "98229                   32                       1312           56633   \n",
       "96082                   35                        855           29437   \n",
       "68228                   39                       1650           23454   \n",
       "\n",
       "       Low_Documentation_Loan  Demography  ...  Count_Employees  \\\n",
       "61274                     3.0           2  ...                1   \n",
       "57688                     3.0           1  ...                3   \n",
       "98229                     3.0           0  ...                2   \n",
       "96082                     3.0           0  ...                3   \n",
       "68228                     3.0           2  ...                1   \n",
       "\n",
       "       Classification_Code   Loan_Approved_Gross  Gross_Amount_Disbursed    \\\n",
       "61274                524298                 1089                     11777   \n",
       "57688                811121                 3651                     13390   \n",
       "98229                453998                 1627                      5894   \n",
       "96082                541620                 2342                     18787   \n",
       "68228                454210                 1415                      5069   \n",
       "\n",
       "       Loan_Term  Commitment_Date  Primary_Loan_Digit  Code_Franchise  \\\n",
       "61274       87.0             1857          5534454009               1   \n",
       "57688       90.0             6829          7050903009               1   \n",
       "98229      176.0             2752          6707534002           50140   \n",
       "96082      126.0             3927          2176176006               1   \n",
       "68228       88.0             3109          3863475002               0   \n",
       "\n",
       "       Name_Of_Bank  Revolving_Credit_Line  \n",
       "61274            57                      9  \n",
       "57688           105                      6  \n",
       "98229            36                      1  \n",
       "96082            42                      9  \n",
       "68228            13                      6  \n",
       "\n",
       "[5 rows x 25 columns]"
      ]
     },
     "execution_count": 131,
     "metadata": {},
     "output_type": "execute_result"
    }
   ],
   "source": [
    "X_train.head()"
   ]
  },
  {
   "cell_type": "code",
   "execution_count": 132,
   "id": "14c2b600",
   "metadata": {},
   "outputs": [],
   "source": [
    "from sklearn import tree\n",
    "from sklearn.ensemble import RandomForestClassifier\n",
    "from sklearn.neural_network import MLPClassifier\n",
    "from sklearn.metrics import mean_squared_error\n",
    "from sklearn.metrics import mean_absolute_error\n",
    "from sklearn.model_selection import GridSearchCV\n",
    "from statsmodels.stats.outliers_influence import variance_inflation_factor\n",
    "from sklearn.model_selection import cross_val_score\n",
    "from sklearn.model_selection import KFold\n",
    "from sklearn.linear_model import Ridge\n",
    "from sklearn.linear_model import Lasso"
   ]
  },
  {
   "cell_type": "code",
   "execution_count": 133,
   "id": "ae01590d",
   "metadata": {},
   "outputs": [
    {
     "ename": "NameError",
     "evalue": "name 'LinearRegression' is not defined",
     "output_type": "error",
     "traceback": [
      "\u001b[1;31m---------------------------------------------------------------------------\u001b[0m",
      "\u001b[1;31mNameError\u001b[0m                                 Traceback (most recent call last)",
      "\u001b[1;32mC:\\Users\\AISHWA~1\\AppData\\Local\\Temp/ipykernel_14192/2711844564.py\u001b[0m in \u001b[0;36m<module>\u001b[1;34m\u001b[0m\n\u001b[0;32m      2\u001b[0m \u001b[0mrfr\u001b[0m \u001b[1;33m=\u001b[0m \u001b[0mRandomForestClassifier\u001b[0m\u001b[1;33m(\u001b[0m\u001b[0mrandom_state\u001b[0m\u001b[1;33m=\u001b[0m\u001b[1;36m1\u001b[0m\u001b[1;33m)\u001b[0m\u001b[1;33m\u001b[0m\u001b[1;33m\u001b[0m\u001b[0m\n\u001b[0;32m      3\u001b[0m \u001b[0mdtr\u001b[0m \u001b[1;33m=\u001b[0m \u001b[0mtree\u001b[0m\u001b[1;33m.\u001b[0m\u001b[0mDecisionTreeClassifier\u001b[0m\u001b[1;33m(\u001b[0m\u001b[0mrandom_state\u001b[0m\u001b[1;33m=\u001b[0m\u001b[1;36m1\u001b[0m\u001b[1;33m)\u001b[0m\u001b[1;33m\u001b[0m\u001b[1;33m\u001b[0m\u001b[0m\n\u001b[1;32m----> 4\u001b[1;33m \u001b[0mlr\u001b[0m \u001b[1;33m=\u001b[0m \u001b[0mLinearRegression\u001b[0m\u001b[1;33m(\u001b[0m\u001b[1;33m)\u001b[0m\u001b[1;33m\u001b[0m\u001b[1;33m\u001b[0m\u001b[0m\n\u001b[0m\u001b[0;32m      5\u001b[0m \u001b[0mls\u001b[0m \u001b[1;33m=\u001b[0m \u001b[0mLasso\u001b[0m\u001b[1;33m(\u001b[0m\u001b[0malpha\u001b[0m\u001b[1;33m=\u001b[0m\u001b[1;36m0.01\u001b[0m\u001b[1;33m)\u001b[0m\u001b[1;33m\u001b[0m\u001b[1;33m\u001b[0m\u001b[0m\n\u001b[0;32m      6\u001b[0m \u001b[0mrr\u001b[0m \u001b[1;33m=\u001b[0m \u001b[0mRidge\u001b[0m\u001b[1;33m(\u001b[0m\u001b[0malpha\u001b[0m\u001b[1;33m=\u001b[0m\u001b[1;36m0.01\u001b[0m\u001b[1;33m)\u001b[0m\u001b[1;33m\u001b[0m\u001b[1;33m\u001b[0m\u001b[0m\n",
      "\u001b[1;31mNameError\u001b[0m: name 'LinearRegression' is not defined"
     ]
    }
   ],
   "source": [
    "annr = MLPClassifier(hidden_layer_sizes=(500),random_state=1, max_iter=10000)#you are free to tweak the layer sizes\n",
    "rfr = RandomForestClassifier(random_state=1)\n",
    "dtr = tree.DecisionTreeClassifier(random_state=1)\n",
    "lr = LinearRegression()\n",
    "ls = Lasso(alpha=0.01)\n",
    "rr = Ridge(alpha=0.01)\n",
    "\n",
    "models=[rr,ls,lr,dtr,rfr,annr]\n",
    "\n",
    "rmse_train=[]\n",
    "rmse_test=[]\n",
    "scores_train=[]\n",
    "scores_test=[]\n",
    "\n",
    "for i in models:  # we are scaling the data for ANN. Without scaling it will give very poor results. Computations becomes easier\n",
    "    \n",
    "    if (i != annr,rr,ls) :\n",
    "        i.fit(X_train,y_train)\n",
    "        scores_train.append(i.score(X_train, y_train))\n",
    "        scores_test.append(i.score(X_test, y_test))\n",
    "        rmse_train.append(np.sqrt(mean_squared_error(y_train,i.predict(X_train))))\n",
    "        rmse_test.append(np.sqrt(mean_squared_error(y_test,i.predict(X_test))))\n",
    " \n",
    "    else :\n",
    "        i.fit(x_train_scaled,y_train)\n",
    "        scores_train.append(i.score(x_train_scaled, y_train))\n",
    "        scores_test.append(i.score(x_test_scaled, y_test))\n",
    "        rmse_train.append(np.sqrt(mean_squared_error(y_train,i.predict(x_train_scaled))))\n",
    "        rmse_test.append(np.sqrt(mean_squared_error(y_test,i.predict(x_test_scaled))))\n",
    "        \n",
    "print(pd.DataFrame({'Train RMSE': rmse_train,'Test RMSE': rmse_test,'Training Score':scores_train,'Test Score': scores_test},\n",
    "            index=['Ridge Regression','Lasso Regression','Linear Regression','Decision Tree Regressor','Random Forest Regressor','ANN Regressor']))"
   ]
  },
  {
   "cell_type": "code",
   "execution_count": null,
   "id": "ada4024a",
   "metadata": {},
   "outputs": [],
   "source": []
  },
  {
   "cell_type": "code",
   "execution_count": 72,
   "id": "a18b21be",
   "metadata": {},
   "outputs": [],
   "source": [
    "from sklearn.preprocessing import MinMaxScaler"
   ]
  },
  {
   "cell_type": "code",
   "execution_count": 73,
   "id": "69ede25e",
   "metadata": {},
   "outputs": [
    {
     "data": {
      "text/html": [
       "<style>#sk-container-id-1 {color: black;background-color: white;}#sk-container-id-1 pre{padding: 0;}#sk-container-id-1 div.sk-toggleable {background-color: white;}#sk-container-id-1 label.sk-toggleable__label {cursor: pointer;display: block;width: 100%;margin-bottom: 0;padding: 0.3em;box-sizing: border-box;text-align: center;}#sk-container-id-1 label.sk-toggleable__label-arrow:before {content: \"▸\";float: left;margin-right: 0.25em;color: #696969;}#sk-container-id-1 label.sk-toggleable__label-arrow:hover:before {color: black;}#sk-container-id-1 div.sk-estimator:hover label.sk-toggleable__label-arrow:before {color: black;}#sk-container-id-1 div.sk-toggleable__content {max-height: 0;max-width: 0;overflow: hidden;text-align: left;background-color: #f0f8ff;}#sk-container-id-1 div.sk-toggleable__content pre {margin: 0.2em;color: black;border-radius: 0.25em;background-color: #f0f8ff;}#sk-container-id-1 input.sk-toggleable__control:checked~div.sk-toggleable__content {max-height: 200px;max-width: 100%;overflow: auto;}#sk-container-id-1 input.sk-toggleable__control:checked~label.sk-toggleable__label-arrow:before {content: \"▾\";}#sk-container-id-1 div.sk-estimator input.sk-toggleable__control:checked~label.sk-toggleable__label {background-color: #d4ebff;}#sk-container-id-1 div.sk-label input.sk-toggleable__control:checked~label.sk-toggleable__label {background-color: #d4ebff;}#sk-container-id-1 input.sk-hidden--visually {border: 0;clip: rect(1px 1px 1px 1px);clip: rect(1px, 1px, 1px, 1px);height: 1px;margin: -1px;overflow: hidden;padding: 0;position: absolute;width: 1px;}#sk-container-id-1 div.sk-estimator {font-family: monospace;background-color: #f0f8ff;border: 1px dotted black;border-radius: 0.25em;box-sizing: border-box;margin-bottom: 0.5em;}#sk-container-id-1 div.sk-estimator:hover {background-color: #d4ebff;}#sk-container-id-1 div.sk-parallel-item::after {content: \"\";width: 100%;border-bottom: 1px solid gray;flex-grow: 1;}#sk-container-id-1 div.sk-label:hover label.sk-toggleable__label {background-color: #d4ebff;}#sk-container-id-1 div.sk-serial::before {content: \"\";position: absolute;border-left: 1px solid gray;box-sizing: border-box;top: 0;bottom: 0;left: 50%;z-index: 0;}#sk-container-id-1 div.sk-serial {display: flex;flex-direction: column;align-items: center;background-color: white;padding-right: 0.2em;padding-left: 0.2em;position: relative;}#sk-container-id-1 div.sk-item {position: relative;z-index: 1;}#sk-container-id-1 div.sk-parallel {display: flex;align-items: stretch;justify-content: center;background-color: white;position: relative;}#sk-container-id-1 div.sk-item::before, #sk-container-id-1 div.sk-parallel-item::before {content: \"\";position: absolute;border-left: 1px solid gray;box-sizing: border-box;top: 0;bottom: 0;left: 50%;z-index: -1;}#sk-container-id-1 div.sk-parallel-item {display: flex;flex-direction: column;z-index: 1;position: relative;background-color: white;}#sk-container-id-1 div.sk-parallel-item:first-child::after {align-self: flex-end;width: 50%;}#sk-container-id-1 div.sk-parallel-item:last-child::after {align-self: flex-start;width: 50%;}#sk-container-id-1 div.sk-parallel-item:only-child::after {width: 0;}#sk-container-id-1 div.sk-dashed-wrapped {border: 1px dashed gray;margin: 0 0.4em 0.5em 0.4em;box-sizing: border-box;padding-bottom: 0.4em;background-color: white;}#sk-container-id-1 div.sk-label label {font-family: monospace;font-weight: bold;display: inline-block;line-height: 1.2em;}#sk-container-id-1 div.sk-label-container {text-align: center;}#sk-container-id-1 div.sk-container {/* jupyter's `normalize.less` sets `[hidden] { display: none; }` but bootstrap.min.css set `[hidden] { display: none !important; }` so we also need the `!important` here to be able to override the default hidden behavior on the sphinx rendered scikit-learn.org. See: https://github.com/scikit-learn/scikit-learn/issues/21755 */display: inline-block !important;position: relative;}#sk-container-id-1 div.sk-text-repr-fallback {display: none;}</style><div id=\"sk-container-id-1\" class=\"sk-top-container\"><div class=\"sk-text-repr-fallback\"><pre>MinMaxScaler()</pre><b>In a Jupyter environment, please rerun this cell to show the HTML representation or trust the notebook. <br />On GitHub, the HTML representation is unable to render, please try loading this page with nbviewer.org.</b></div><div class=\"sk-container\" hidden><div class=\"sk-item\"><div class=\"sk-estimator sk-toggleable\"><input class=\"sk-toggleable__control sk-hidden--visually\" id=\"sk-estimator-id-1\" type=\"checkbox\" checked><label for=\"sk-estimator-id-1\" class=\"sk-toggleable__label sk-toggleable__label-arrow\">MinMaxScaler</label><div class=\"sk-toggleable__content\"><pre>MinMaxScaler()</pre></div></div></div></div></div>"
      ],
      "text/plain": [
       "MinMaxScaler()"
      ]
     },
     "execution_count": 73,
     "metadata": {},
     "output_type": "execute_result"
    }
   ],
   "source": [
    "minmax = MinMaxScaler()\n",
    "minmax.fit(X_train)\n",
    "#minmax.fit(X_test_scaled)"
   ]
  },
  {
   "cell_type": "code",
   "execution_count": 74,
   "id": "c2f3067d",
   "metadata": {},
   "outputs": [
    {
     "data": {
      "text/html": [
       "<div>\n",
       "<style scoped>\n",
       "    .dataframe tbody tr th:only-of-type {\n",
       "        vertical-align: middle;\n",
       "    }\n",
       "\n",
       "    .dataframe tbody tr th {\n",
       "        vertical-align: top;\n",
       "    }\n",
       "\n",
       "    .dataframe thead th {\n",
       "        text-align: right;\n",
       "    }\n",
       "</style>\n",
       "<table border=\"1\" class=\"dataframe\">\n",
       "  <thead>\n",
       "    <tr style=\"text-align: right;\">\n",
       "      <th></th>\n",
       "      <th>ID</th>\n",
       "      <th>Date_Of_Disbursement</th>\n",
       "      <th>Business</th>\n",
       "      <th>Jobs_Reatained</th>\n",
       "      <th>Jobs_Created</th>\n",
       "      <th>Year_Of_Commitment</th>\n",
       "      <th>Guaranteed_Approved _Loan</th>\n",
       "      <th>Borrower_Name</th>\n",
       "      <th>Low_Documentation_Loan</th>\n",
       "      <th>Demography</th>\n",
       "      <th>...</th>\n",
       "      <th>Count_Employees</th>\n",
       "      <th>Classification_Code</th>\n",
       "      <th>Loan_Approved_Gross</th>\n",
       "      <th>Gross_Amount_Disbursed</th>\n",
       "      <th>Loan_Term</th>\n",
       "      <th>Commitment_Date</th>\n",
       "      <th>Primary_Loan_Digit</th>\n",
       "      <th>Code_Franchise</th>\n",
       "      <th>Name_Of_Bank</th>\n",
       "      <th>Revolving_Credit_Line</th>\n",
       "    </tr>\n",
       "  </thead>\n",
       "  <tbody>\n",
       "    <tr>\n",
       "      <th>61274</th>\n",
       "      <td>61274</td>\n",
       "      <td>2714.0</td>\n",
       "      <td>1.0</td>\n",
       "      <td>1.0</td>\n",
       "      <td>0</td>\n",
       "      <td>78</td>\n",
       "      <td>8757</td>\n",
       "      <td>19430</td>\n",
       "      <td>3.0</td>\n",
       "      <td>2</td>\n",
       "      <td>...</td>\n",
       "      <td>1</td>\n",
       "      <td>524298</td>\n",
       "      <td>1089</td>\n",
       "      <td>11777</td>\n",
       "      <td>87.0</td>\n",
       "      <td>1857</td>\n",
       "      <td>5534454009</td>\n",
       "      <td>1</td>\n",
       "      <td>57</td>\n",
       "      <td>9</td>\n",
       "    </tr>\n",
       "    <tr>\n",
       "      <th>57688</th>\n",
       "      <td>57688</td>\n",
       "      <td>2817.0</td>\n",
       "      <td>2.0</td>\n",
       "      <td>0.0</td>\n",
       "      <td>0</td>\n",
       "      <td>70</td>\n",
       "      <td>5399</td>\n",
       "      <td>60007</td>\n",
       "      <td>3.0</td>\n",
       "      <td>1</td>\n",
       "      <td>...</td>\n",
       "      <td>3</td>\n",
       "      <td>811121</td>\n",
       "      <td>3651</td>\n",
       "      <td>13390</td>\n",
       "      <td>90.0</td>\n",
       "      <td>6829</td>\n",
       "      <td>7050903009</td>\n",
       "      <td>1</td>\n",
       "      <td>105</td>\n",
       "      <td>6</td>\n",
       "    </tr>\n",
       "    <tr>\n",
       "      <th>98229</th>\n",
       "      <td>98229</td>\n",
       "      <td>2867.0</td>\n",
       "      <td>2.0</td>\n",
       "      <td>2.0</td>\n",
       "      <td>1</td>\n",
       "      <td>32</td>\n",
       "      <td>1312</td>\n",
       "      <td>56633</td>\n",
       "      <td>3.0</td>\n",
       "      <td>0</td>\n",
       "      <td>...</td>\n",
       "      <td>2</td>\n",
       "      <td>453998</td>\n",
       "      <td>1627</td>\n",
       "      <td>5894</td>\n",
       "      <td>176.0</td>\n",
       "      <td>2752</td>\n",
       "      <td>6707534002</td>\n",
       "      <td>50140</td>\n",
       "      <td>36</td>\n",
       "      <td>1</td>\n",
       "    </tr>\n",
       "    <tr>\n",
       "      <th>96082</th>\n",
       "      <td>96082</td>\n",
       "      <td>2649.0</td>\n",
       "      <td>1.0</td>\n",
       "      <td>3.0</td>\n",
       "      <td>0</td>\n",
       "      <td>35</td>\n",
       "      <td>855</td>\n",
       "      <td>29437</td>\n",
       "      <td>3.0</td>\n",
       "      <td>0</td>\n",
       "      <td>...</td>\n",
       "      <td>3</td>\n",
       "      <td>541620</td>\n",
       "      <td>2342</td>\n",
       "      <td>18787</td>\n",
       "      <td>126.0</td>\n",
       "      <td>3927</td>\n",
       "      <td>2176176006</td>\n",
       "      <td>1</td>\n",
       "      <td>42</td>\n",
       "      <td>9</td>\n",
       "    </tr>\n",
       "    <tr>\n",
       "      <th>68228</th>\n",
       "      <td>68228</td>\n",
       "      <td>2280.5</td>\n",
       "      <td>2.0</td>\n",
       "      <td>0.0</td>\n",
       "      <td>2</td>\n",
       "      <td>39</td>\n",
       "      <td>1650</td>\n",
       "      <td>23454</td>\n",
       "      <td>3.0</td>\n",
       "      <td>2</td>\n",
       "      <td>...</td>\n",
       "      <td>1</td>\n",
       "      <td>454210</td>\n",
       "      <td>1415</td>\n",
       "      <td>5069</td>\n",
       "      <td>88.0</td>\n",
       "      <td>3109</td>\n",
       "      <td>3863475002</td>\n",
       "      <td>0</td>\n",
       "      <td>13</td>\n",
       "      <td>6</td>\n",
       "    </tr>\n",
       "    <tr>\n",
       "      <th>45159</th>\n",
       "      <td>45159</td>\n",
       "      <td>2818.0</td>\n",
       "      <td>1.0</td>\n",
       "      <td>0.0</td>\n",
       "      <td>0</td>\n",
       "      <td>71</td>\n",
       "      <td>1551</td>\n",
       "      <td>26693</td>\n",
       "      <td>3.0</td>\n",
       "      <td>1</td>\n",
       "      <td>...</td>\n",
       "      <td>3</td>\n",
       "      <td>0</td>\n",
       "      <td>1360</td>\n",
       "      <td>4833</td>\n",
       "      <td>90.0</td>\n",
       "      <td>4066</td>\n",
       "      <td>8286213004</td>\n",
       "      <td>1</td>\n",
       "      <td>18</td>\n",
       "      <td>6</td>\n",
       "    </tr>\n",
       "    <tr>\n",
       "      <th>32335</th>\n",
       "      <td>32335</td>\n",
       "      <td>2850.0</td>\n",
       "      <td>1.0</td>\n",
       "      <td>2.0</td>\n",
       "      <td>0</td>\n",
       "      <td>79</td>\n",
       "      <td>855</td>\n",
       "      <td>43417</td>\n",
       "      <td>3.0</td>\n",
       "      <td>0</td>\n",
       "      <td>...</td>\n",
       "      <td>2</td>\n",
       "      <td>238140</td>\n",
       "      <td>2342</td>\n",
       "      <td>3061</td>\n",
       "      <td>126.0</td>\n",
       "      <td>155</td>\n",
       "      <td>6287664009</td>\n",
       "      <td>1</td>\n",
       "      <td>104</td>\n",
       "      <td>9</td>\n",
       "    </tr>\n",
       "    <tr>\n",
       "      <th>92541</th>\n",
       "      <td>92541</td>\n",
       "      <td>2778.0</td>\n",
       "      <td>1.0</td>\n",
       "      <td>10.0</td>\n",
       "      <td>0</td>\n",
       "      <td>35</td>\n",
       "      <td>2844</td>\n",
       "      <td>13767</td>\n",
       "      <td>3.0</td>\n",
       "      <td>2</td>\n",
       "      <td>...</td>\n",
       "      <td>10</td>\n",
       "      <td>624410</td>\n",
       "      <td>3651</td>\n",
       "      <td>13390</td>\n",
       "      <td>22.0</td>\n",
       "      <td>1029</td>\n",
       "      <td>1577115010</td>\n",
       "      <td>0</td>\n",
       "      <td>123</td>\n",
       "      <td>6</td>\n",
       "    </tr>\n",
       "    <tr>\n",
       "      <th>80242</th>\n",
       "      <td>80242</td>\n",
       "      <td>2780.0</td>\n",
       "      <td>2.0</td>\n",
       "      <td>2.0</td>\n",
       "      <td>5</td>\n",
       "      <td>37</td>\n",
       "      <td>9150</td>\n",
       "      <td>86512</td>\n",
       "      <td>3.0</td>\n",
       "      <td>2</td>\n",
       "      <td>...</td>\n",
       "      <td>2</td>\n",
       "      <td>713940</td>\n",
       "      <td>6066</td>\n",
       "      <td>22838</td>\n",
       "      <td>180.0</td>\n",
       "      <td>1845</td>\n",
       "      <td>2909285006</td>\n",
       "      <td>0</td>\n",
       "      <td>58</td>\n",
       "      <td>6</td>\n",
       "    </tr>\n",
       "    <tr>\n",
       "      <th>11280</th>\n",
       "      <td>11280</td>\n",
       "      <td>2867.0</td>\n",
       "      <td>1.0</td>\n",
       "      <td>2.0</td>\n",
       "      <td>0</td>\n",
       "      <td>79</td>\n",
       "      <td>5898</td>\n",
       "      <td>15792</td>\n",
       "      <td>3.0</td>\n",
       "      <td>2</td>\n",
       "      <td>...</td>\n",
       "      <td>2</td>\n",
       "      <td>561920</td>\n",
       "      <td>5645</td>\n",
       "      <td>1220</td>\n",
       "      <td>8.0</td>\n",
       "      <td>91</td>\n",
       "      <td>6460634005</td>\n",
       "      <td>1</td>\n",
       "      <td>57</td>\n",
       "      <td>9</td>\n",
       "    </tr>\n",
       "  </tbody>\n",
       "</table>\n",
       "<p>10 rows × 25 columns</p>\n",
       "</div>"
      ],
      "text/plain": [
       "          ID  Date_Of_Disbursement  Business  Jobs_Reatained  Jobs_Created   \\\n",
       "61274  61274                2714.0       1.0             1.0              0   \n",
       "57688  57688                2817.0       2.0             0.0              0   \n",
       "98229  98229                2867.0       2.0             2.0              1   \n",
       "96082  96082                2649.0       1.0             3.0              0   \n",
       "68228  68228                2280.5       2.0             0.0              2   \n",
       "45159  45159                2818.0       1.0             0.0              0   \n",
       "32335  32335                2850.0       1.0             2.0              0   \n",
       "92541  92541                2778.0       1.0            10.0              0   \n",
       "80242  80242                2780.0       2.0             2.0              5   \n",
       "11280  11280                2867.0       1.0             2.0              0   \n",
       "\n",
       "       Year_Of_Commitment   Guaranteed_Approved _Loan  Borrower_Name   \\\n",
       "61274                   78                       8757           19430   \n",
       "57688                   70                       5399           60007   \n",
       "98229                   32                       1312           56633   \n",
       "96082                   35                        855           29437   \n",
       "68228                   39                       1650           23454   \n",
       "45159                   71                       1551           26693   \n",
       "32335                   79                        855           43417   \n",
       "92541                   35                       2844           13767   \n",
       "80242                   37                       9150           86512   \n",
       "11280                   79                       5898           15792   \n",
       "\n",
       "       Low_Documentation_Loan  Demography  ...  Count_Employees  \\\n",
       "61274                     3.0           2  ...                1   \n",
       "57688                     3.0           1  ...                3   \n",
       "98229                     3.0           0  ...                2   \n",
       "96082                     3.0           0  ...                3   \n",
       "68228                     3.0           2  ...                1   \n",
       "45159                     3.0           1  ...                3   \n",
       "32335                     3.0           0  ...                2   \n",
       "92541                     3.0           2  ...               10   \n",
       "80242                     3.0           2  ...                2   \n",
       "11280                     3.0           2  ...                2   \n",
       "\n",
       "       Classification_Code   Loan_Approved_Gross  Gross_Amount_Disbursed    \\\n",
       "61274                524298                 1089                     11777   \n",
       "57688                811121                 3651                     13390   \n",
       "98229                453998                 1627                      5894   \n",
       "96082                541620                 2342                     18787   \n",
       "68228                454210                 1415                      5069   \n",
       "45159                     0                 1360                      4833   \n",
       "32335                238140                 2342                      3061   \n",
       "92541                624410                 3651                     13390   \n",
       "80242                713940                 6066                     22838   \n",
       "11280                561920                 5645                      1220   \n",
       "\n",
       "       Loan_Term  Commitment_Date  Primary_Loan_Digit  Code_Franchise  \\\n",
       "61274       87.0             1857          5534454009               1   \n",
       "57688       90.0             6829          7050903009               1   \n",
       "98229      176.0             2752          6707534002           50140   \n",
       "96082      126.0             3927          2176176006               1   \n",
       "68228       88.0             3109          3863475002               0   \n",
       "45159       90.0             4066          8286213004               1   \n",
       "32335      126.0              155          6287664009               1   \n",
       "92541       22.0             1029          1577115010               0   \n",
       "80242      180.0             1845          2909285006               0   \n",
       "11280        8.0               91          6460634005               1   \n",
       "\n",
       "       Name_Of_Bank  Revolving_Credit_Line  \n",
       "61274            57                      9  \n",
       "57688           105                      6  \n",
       "98229            36                      1  \n",
       "96082            42                      9  \n",
       "68228            13                      6  \n",
       "45159            18                      6  \n",
       "32335           104                      9  \n",
       "92541           123                      6  \n",
       "80242            58                      6  \n",
       "11280            57                      9  \n",
       "\n",
       "[10 rows x 25 columns]"
      ]
     },
     "execution_count": 74,
     "metadata": {},
     "output_type": "execute_result"
    }
   ],
   "source": [
    "X_train.head(10)"
   ]
  },
  {
   "cell_type": "code",
   "execution_count": 75,
   "id": "f51b9d9c",
   "metadata": {},
   "outputs": [
    {
     "name": "stdout",
     "output_type": "stream",
     "text": [
      "<class 'pandas.core.frame.DataFrame'>\n",
      "Int64Index: 73500 entries, 61274 to 98539\n",
      "Data columns (total 25 columns):\n",
      " #   Column                     Non-Null Count  Dtype  \n",
      "---  ------                     --------------  -----  \n",
      " 0   ID                         73500 non-null  int64  \n",
      " 1   Date_Of_Disbursement       73500 non-null  float64\n",
      " 2   Business                   73500 non-null  float64\n",
      " 3   Jobs_Reatained             73500 non-null  float64\n",
      " 4   Jobs_Created               73500 non-null  int64  \n",
      " 5   Year_Of_Commitment         73500 non-null  int8   \n",
      " 6   Guaranteed_Approved _Loan  73500 non-null  int16  \n",
      " 7   Borrower_Name              73500 non-null  int32  \n",
      " 8   Low_Documentation_Loan     73500 non-null  float64\n",
      " 9   Demography                 73500 non-null  int8   \n",
      " 10  State_Of_Bank              73500 non-null  int8   \n",
      " 11  ChargedOff_Amount          73500 non-null  int16  \n",
      " 12  Borrower_City              73500 non-null  float64\n",
      " 13  Borrower_State             73500 non-null  int8   \n",
      " 14  Gross_Amount_Balance       73500 non-null  int8   \n",
      " 15  Count_Employees            73500 non-null  int64  \n",
      " 16  Classification_Code        73500 non-null  int64  \n",
      " 17  Loan_Approved_Gross        73500 non-null  int16  \n",
      " 18  Gross_Amount_Disbursed     73500 non-null  int16  \n",
      " 19  Loan_Term                  73500 non-null  float64\n",
      " 20  Commitment_Date            73500 non-null  int16  \n",
      " 21  Primary_Loan_Digit         73500 non-null  int64  \n",
      " 22  Code_Franchise             73500 non-null  int64  \n",
      " 23  Name_Of_Bank               73500 non-null  int16  \n",
      " 24  Revolving_Credit_Line      73500 non-null  int8   \n",
      "dtypes: float64(6), int16(6), int32(1), int64(6), int8(6)\n",
      "memory usage: 8.8 MB\n"
     ]
    }
   ],
   "source": [
    "X_train.info()"
   ]
  },
  {
   "cell_type": "code",
   "execution_count": 76,
   "id": "7b476373",
   "metadata": {},
   "outputs": [
    {
     "data": {
      "text/plain": [
       "0    0.723374\n",
       "1    0.276626\n",
       "Name: Default, dtype: float64"
      ]
     },
     "execution_count": 76,
     "metadata": {},
     "output_type": "execute_result"
    }
   ],
   "source": [
    "y_train.value_counts(normalize=True)"
   ]
  },
  {
   "cell_type": "code",
   "execution_count": 77,
   "id": "94ad4472",
   "metadata": {},
   "outputs": [
    {
     "data": {
      "text/plain": [
       "0    0.721524\n",
       "1    0.278476\n",
       "Name: Default, dtype: float64"
      ]
     },
     "execution_count": 77,
     "metadata": {},
     "output_type": "execute_result"
    }
   ],
   "source": [
    "y_test.value_counts(1)"
   ]
  },
  {
   "cell_type": "markdown",
   "id": "70839e36",
   "metadata": {},
   "source": [
    "### Logistic Regression"
   ]
  },
  {
   "cell_type": "code",
   "execution_count": 78,
   "id": "e380ab7c",
   "metadata": {},
   "outputs": [
    {
     "name": "stdout",
     "output_type": "stream",
     "text": [
      "Accuracy of Train data for Logistic Regression:  0.7233741496598639\n",
      "Accuracy of Test data for Logistic Regression: 0.7215238095238096\n"
     ]
    }
   ],
   "source": [
    "lr = LogisticRegression(random_state= 1)\n",
    "lr.fit(X_train, y_train)\n",
    "\n",
    "ytrain_predict = lr.predict(X_train)\n",
    "print('Accuracy of Train data for Logistic Regression: ',accuracy_score(y_train, ytrain_predict))\n",
    "\n",
    "ytest_predict = lr.predict(X_test)\n",
    "print('Accuracy of Test data for Logistic Regression:' ,accuracy_score(y_test, ytest_predict))"
   ]
  },
  {
   "cell_type": "markdown",
   "id": "56804b9a",
   "metadata": {},
   "source": [
    "### Applying GridSearchCV for Logistic Regression"
   ]
  },
  {
   "cell_type": "code",
   "execution_count": 97,
   "id": "f7e55dcd",
   "metadata": {},
   "outputs": [],
   "source": [
    "grid={'penalty':['l1','l2','none'],\n",
    "      'solver':['lbfgs', 'liblinear','newton-cg'],\n",
    "      'max_iter':[1000,5000,10000,100000],\n",
    "      'tol':[0.0001,0.000001]}"
   ]
  },
  {
   "cell_type": "code",
   "execution_count": 98,
   "id": "1beb0d6e",
   "metadata": {},
   "outputs": [],
   "source": [
    "model = LogisticRegression(n_jobs=-1)"
   ]
  },
  {
   "cell_type": "code",
   "execution_count": null,
   "id": "05e82c2c",
   "metadata": {},
   "outputs": [],
   "source": [
    "grid_search = GridSearchCV(estimator = model, param_grid = grid, cv = 5,n_jobs=-1,scoring='f1')\n",
    "grid_search.fit(X_train, y_train)"
   ]
  },
  {
   "cell_type": "code",
   "execution_count": null,
   "id": "ac5ba1b4",
   "metadata": {},
   "outputs": [],
   "source": [
    "print(grid_search.best_params_,'\\n')\n",
    "print(grid_search.best_estimator_)"
   ]
  },
  {
   "cell_type": "code",
   "execution_count": null,
   "id": "8079f4e8",
   "metadata": {},
   "outputs": [],
   "source": [
    "LR = grid_search.best_estimator_"
   ]
  },
  {
   "cell_type": "code",
   "execution_count": null,
   "id": "450f9f9b",
   "metadata": {},
   "outputs": [],
   "source": [
    "ytrain_predict = LR.predict(X_train)\n",
    "display(accuracy_score(y_train, ytrain_predict))\n",
    "ytest_predict = LR.predict(X_test)\n",
    "display(accuracy_score(y_test, ytest_predict))"
   ]
  },
  {
   "cell_type": "markdown",
   "id": "4c938e84",
   "metadata": {},
   "source": [
    "### Naive_bayes"
   ]
  },
  {
   "cell_type": "code",
   "execution_count": 79,
   "id": "684521a7",
   "metadata": {},
   "outputs": [],
   "source": [
    "from sklearn.naive_bayes import GaussianNB\n",
    "from sklearn import metrics"
   ]
  },
  {
   "cell_type": "code",
   "execution_count": 80,
   "id": "356885fc",
   "metadata": {},
   "outputs": [
    {
     "data": {
      "text/html": [
       "<style>#sk-container-id-2 {color: black;background-color: white;}#sk-container-id-2 pre{padding: 0;}#sk-container-id-2 div.sk-toggleable {background-color: white;}#sk-container-id-2 label.sk-toggleable__label {cursor: pointer;display: block;width: 100%;margin-bottom: 0;padding: 0.3em;box-sizing: border-box;text-align: center;}#sk-container-id-2 label.sk-toggleable__label-arrow:before {content: \"▸\";float: left;margin-right: 0.25em;color: #696969;}#sk-container-id-2 label.sk-toggleable__label-arrow:hover:before {color: black;}#sk-container-id-2 div.sk-estimator:hover label.sk-toggleable__label-arrow:before {color: black;}#sk-container-id-2 div.sk-toggleable__content {max-height: 0;max-width: 0;overflow: hidden;text-align: left;background-color: #f0f8ff;}#sk-container-id-2 div.sk-toggleable__content pre {margin: 0.2em;color: black;border-radius: 0.25em;background-color: #f0f8ff;}#sk-container-id-2 input.sk-toggleable__control:checked~div.sk-toggleable__content {max-height: 200px;max-width: 100%;overflow: auto;}#sk-container-id-2 input.sk-toggleable__control:checked~label.sk-toggleable__label-arrow:before {content: \"▾\";}#sk-container-id-2 div.sk-estimator input.sk-toggleable__control:checked~label.sk-toggleable__label {background-color: #d4ebff;}#sk-container-id-2 div.sk-label input.sk-toggleable__control:checked~label.sk-toggleable__label {background-color: #d4ebff;}#sk-container-id-2 input.sk-hidden--visually {border: 0;clip: rect(1px 1px 1px 1px);clip: rect(1px, 1px, 1px, 1px);height: 1px;margin: -1px;overflow: hidden;padding: 0;position: absolute;width: 1px;}#sk-container-id-2 div.sk-estimator {font-family: monospace;background-color: #f0f8ff;border: 1px dotted black;border-radius: 0.25em;box-sizing: border-box;margin-bottom: 0.5em;}#sk-container-id-2 div.sk-estimator:hover {background-color: #d4ebff;}#sk-container-id-2 div.sk-parallel-item::after {content: \"\";width: 100%;border-bottom: 1px solid gray;flex-grow: 1;}#sk-container-id-2 div.sk-label:hover label.sk-toggleable__label {background-color: #d4ebff;}#sk-container-id-2 div.sk-serial::before {content: \"\";position: absolute;border-left: 1px solid gray;box-sizing: border-box;top: 0;bottom: 0;left: 50%;z-index: 0;}#sk-container-id-2 div.sk-serial {display: flex;flex-direction: column;align-items: center;background-color: white;padding-right: 0.2em;padding-left: 0.2em;position: relative;}#sk-container-id-2 div.sk-item {position: relative;z-index: 1;}#sk-container-id-2 div.sk-parallel {display: flex;align-items: stretch;justify-content: center;background-color: white;position: relative;}#sk-container-id-2 div.sk-item::before, #sk-container-id-2 div.sk-parallel-item::before {content: \"\";position: absolute;border-left: 1px solid gray;box-sizing: border-box;top: 0;bottom: 0;left: 50%;z-index: -1;}#sk-container-id-2 div.sk-parallel-item {display: flex;flex-direction: column;z-index: 1;position: relative;background-color: white;}#sk-container-id-2 div.sk-parallel-item:first-child::after {align-self: flex-end;width: 50%;}#sk-container-id-2 div.sk-parallel-item:last-child::after {align-self: flex-start;width: 50%;}#sk-container-id-2 div.sk-parallel-item:only-child::after {width: 0;}#sk-container-id-2 div.sk-dashed-wrapped {border: 1px dashed gray;margin: 0 0.4em 0.5em 0.4em;box-sizing: border-box;padding-bottom: 0.4em;background-color: white;}#sk-container-id-2 div.sk-label label {font-family: monospace;font-weight: bold;display: inline-block;line-height: 1.2em;}#sk-container-id-2 div.sk-label-container {text-align: center;}#sk-container-id-2 div.sk-container {/* jupyter's `normalize.less` sets `[hidden] { display: none; }` but bootstrap.min.css set `[hidden] { display: none !important; }` so we also need the `!important` here to be able to override the default hidden behavior on the sphinx rendered scikit-learn.org. See: https://github.com/scikit-learn/scikit-learn/issues/21755 */display: inline-block !important;position: relative;}#sk-container-id-2 div.sk-text-repr-fallback {display: none;}</style><div id=\"sk-container-id-2\" class=\"sk-top-container\"><div class=\"sk-text-repr-fallback\"><pre>GaussianNB()</pre><b>In a Jupyter environment, please rerun this cell to show the HTML representation or trust the notebook. <br />On GitHub, the HTML representation is unable to render, please try loading this page with nbviewer.org.</b></div><div class=\"sk-container\" hidden><div class=\"sk-item\"><div class=\"sk-estimator sk-toggleable\"><input class=\"sk-toggleable__control sk-hidden--visually\" id=\"sk-estimator-id-2\" type=\"checkbox\" checked><label for=\"sk-estimator-id-2\" class=\"sk-toggleable__label sk-toggleable__label-arrow\">GaussianNB</label><div class=\"sk-toggleable__content\"><pre>GaussianNB()</pre></div></div></div></div></div>"
      ],
      "text/plain": [
       "GaussianNB()"
      ]
     },
     "execution_count": 80,
     "metadata": {},
     "output_type": "execute_result"
    }
   ],
   "source": [
    "NB_model=GaussianNB()\n",
    "NB_model.fit(X_train, y_train)"
   ]
  },
  {
   "cell_type": "code",
   "execution_count": 82,
   "id": "1c2b64b7",
   "metadata": {},
   "outputs": [
    {
     "name": "stdout",
     "output_type": "stream",
     "text": [
      "0.7233741496598639\n",
      "[[53168     0]\n",
      " [20332     0]]\n",
      "              precision    recall  f1-score   support\n",
      "\n",
      "           0       0.72      1.00      0.84     53168\n",
      "           1       0.00      0.00      0.00     20332\n",
      "\n",
      "    accuracy                           0.72     73500\n",
      "   macro avg       0.36      0.50      0.42     73500\n",
      "weighted avg       0.52      0.72      0.61     73500\n",
      "\n"
     ]
    }
   ],
   "source": [
    "y_train_predict=NB_model.predict(X_train)\n",
    "model_score=NB_model.score(X_train, y_train)\n",
    "print(model_score)\n",
    "print(metrics.confusion_matrix(y_train,y_train_predict))\n",
    "\n",
    "print(metrics.classification_report(y_train,y_train_predict))"
   ]
  },
  {
   "cell_type": "code",
   "execution_count": 83,
   "id": "2c2957d3",
   "metadata": {},
   "outputs": [
    {
     "name": "stdout",
     "output_type": "stream",
     "text": [
      "0.7215238095238096\n",
      "[[22728     0]\n",
      " [ 8772     0]]\n",
      "              precision    recall  f1-score   support\n",
      "\n",
      "           0       0.72      1.00      0.84     22728\n",
      "           1       0.00      0.00      0.00      8772\n",
      "\n",
      "    accuracy                           0.72     31500\n",
      "   macro avg       0.36      0.50      0.42     31500\n",
      "weighted avg       0.52      0.72      0.60     31500\n",
      "\n"
     ]
    }
   ],
   "source": [
    "y_test_predict=NB_model.predict(X_test)\n",
    "model_score=NB_model.score(X_test, y_test)\n",
    "print(model_score)\n",
    "print(metrics.confusion_matrix(y_test,y_test_predict))\n",
    "\n",
    "print(metrics.classification_report(y_test,y_test_predict))"
   ]
  },
  {
   "cell_type": "markdown",
   "id": "12aaf881",
   "metadata": {},
   "source": [
    "### Logistic Regression"
   ]
  },
  {
   "cell_type": "code",
   "execution_count": 85,
   "id": "c0db287d",
   "metadata": {},
   "outputs": [],
   "source": [
    "from sklearn.linear_model import LogisticRegression"
   ]
  },
  {
   "cell_type": "code",
   "execution_count": 87,
   "id": "fce3f581",
   "metadata": {},
   "outputs": [
    {
     "name": "stderr",
     "output_type": "stream",
     "text": [
      "[Parallel(n_jobs=2)]: Using backend LokyBackend with 2 concurrent workers.\n",
      "[Parallel(n_jobs=2)]: Done   1 out of   1 | elapsed:  6.8min finished\n"
     ]
    },
    {
     "data": {
      "text/html": [
       "<style>#sk-container-id-3 {color: black;background-color: white;}#sk-container-id-3 pre{padding: 0;}#sk-container-id-3 div.sk-toggleable {background-color: white;}#sk-container-id-3 label.sk-toggleable__label {cursor: pointer;display: block;width: 100%;margin-bottom: 0;padding: 0.3em;box-sizing: border-box;text-align: center;}#sk-container-id-3 label.sk-toggleable__label-arrow:before {content: \"▸\";float: left;margin-right: 0.25em;color: #696969;}#sk-container-id-3 label.sk-toggleable__label-arrow:hover:before {color: black;}#sk-container-id-3 div.sk-estimator:hover label.sk-toggleable__label-arrow:before {color: black;}#sk-container-id-3 div.sk-toggleable__content {max-height: 0;max-width: 0;overflow: hidden;text-align: left;background-color: #f0f8ff;}#sk-container-id-3 div.sk-toggleable__content pre {margin: 0.2em;color: black;border-radius: 0.25em;background-color: #f0f8ff;}#sk-container-id-3 input.sk-toggleable__control:checked~div.sk-toggleable__content {max-height: 200px;max-width: 100%;overflow: auto;}#sk-container-id-3 input.sk-toggleable__control:checked~label.sk-toggleable__label-arrow:before {content: \"▾\";}#sk-container-id-3 div.sk-estimator input.sk-toggleable__control:checked~label.sk-toggleable__label {background-color: #d4ebff;}#sk-container-id-3 div.sk-label input.sk-toggleable__control:checked~label.sk-toggleable__label {background-color: #d4ebff;}#sk-container-id-3 input.sk-hidden--visually {border: 0;clip: rect(1px 1px 1px 1px);clip: rect(1px, 1px, 1px, 1px);height: 1px;margin: -1px;overflow: hidden;padding: 0;position: absolute;width: 1px;}#sk-container-id-3 div.sk-estimator {font-family: monospace;background-color: #f0f8ff;border: 1px dotted black;border-radius: 0.25em;box-sizing: border-box;margin-bottom: 0.5em;}#sk-container-id-3 div.sk-estimator:hover {background-color: #d4ebff;}#sk-container-id-3 div.sk-parallel-item::after {content: \"\";width: 100%;border-bottom: 1px solid gray;flex-grow: 1;}#sk-container-id-3 div.sk-label:hover label.sk-toggleable__label {background-color: #d4ebff;}#sk-container-id-3 div.sk-serial::before {content: \"\";position: absolute;border-left: 1px solid gray;box-sizing: border-box;top: 0;bottom: 0;left: 50%;z-index: 0;}#sk-container-id-3 div.sk-serial {display: flex;flex-direction: column;align-items: center;background-color: white;padding-right: 0.2em;padding-left: 0.2em;position: relative;}#sk-container-id-3 div.sk-item {position: relative;z-index: 1;}#sk-container-id-3 div.sk-parallel {display: flex;align-items: stretch;justify-content: center;background-color: white;position: relative;}#sk-container-id-3 div.sk-item::before, #sk-container-id-3 div.sk-parallel-item::before {content: \"\";position: absolute;border-left: 1px solid gray;box-sizing: border-box;top: 0;bottom: 0;left: 50%;z-index: -1;}#sk-container-id-3 div.sk-parallel-item {display: flex;flex-direction: column;z-index: 1;position: relative;background-color: white;}#sk-container-id-3 div.sk-parallel-item:first-child::after {align-self: flex-end;width: 50%;}#sk-container-id-3 div.sk-parallel-item:last-child::after {align-self: flex-start;width: 50%;}#sk-container-id-3 div.sk-parallel-item:only-child::after {width: 0;}#sk-container-id-3 div.sk-dashed-wrapped {border: 1px dashed gray;margin: 0 0.4em 0.5em 0.4em;box-sizing: border-box;padding-bottom: 0.4em;background-color: white;}#sk-container-id-3 div.sk-label label {font-family: monospace;font-weight: bold;display: inline-block;line-height: 1.2em;}#sk-container-id-3 div.sk-label-container {text-align: center;}#sk-container-id-3 div.sk-container {/* jupyter's `normalize.less` sets `[hidden] { display: none; }` but bootstrap.min.css set `[hidden] { display: none !important; }` so we also need the `!important` here to be able to override the default hidden behavior on the sphinx rendered scikit-learn.org. See: https://github.com/scikit-learn/scikit-learn/issues/21755 */display: inline-block !important;position: relative;}#sk-container-id-3 div.sk-text-repr-fallback {display: none;}</style><div id=\"sk-container-id-3\" class=\"sk-top-container\"><div class=\"sk-text-repr-fallback\"><pre>LogisticRegression(max_iter=10000, n_jobs=2, penalty=&#x27;none&#x27;, solver=&#x27;newton-cg&#x27;,\n",
       "                   verbose=True)</pre><b>In a Jupyter environment, please rerun this cell to show the HTML representation or trust the notebook. <br />On GitHub, the HTML representation is unable to render, please try loading this page with nbviewer.org.</b></div><div class=\"sk-container\" hidden><div class=\"sk-item\"><div class=\"sk-estimator sk-toggleable\"><input class=\"sk-toggleable__control sk-hidden--visually\" id=\"sk-estimator-id-3\" type=\"checkbox\" checked><label for=\"sk-estimator-id-3\" class=\"sk-toggleable__label sk-toggleable__label-arrow\">LogisticRegression</label><div class=\"sk-toggleable__content\"><pre>LogisticRegression(max_iter=10000, n_jobs=2, penalty=&#x27;none&#x27;, solver=&#x27;newton-cg&#x27;,\n",
       "                   verbose=True)</pre></div></div></div></div></div>"
      ],
      "text/plain": [
       "LogisticRegression(max_iter=10000, n_jobs=2, penalty='none', solver='newton-cg',\n",
       "                   verbose=True)"
      ]
     },
     "execution_count": 87,
     "metadata": {},
     "output_type": "execute_result"
    }
   ],
   "source": [
    "Logistic_model = LogisticRegression(solver='newton-cg',max_iter=10000,penalty='none',verbose=True,n_jobs=2)\n",
    "Logistic_model.fit(X_train, y_train)"
   ]
  },
  {
   "cell_type": "code",
   "execution_count": 88,
   "id": "567a706e",
   "metadata": {},
   "outputs": [
    {
     "name": "stdout",
     "output_type": "stream",
     "text": [
      "0.9698503401360544\n",
      "[[52864   304]\n",
      " [ 1912 18420]]\n",
      "              precision    recall  f1-score   support\n",
      "\n",
      "           0       0.97      0.99      0.98     53168\n",
      "           1       0.98      0.91      0.94     20332\n",
      "\n",
      "    accuracy                           0.97     73500\n",
      "   macro avg       0.97      0.95      0.96     73500\n",
      "weighted avg       0.97      0.97      0.97     73500\n",
      "\n"
     ]
    }
   ],
   "source": [
    "y_train_predict=Logistic_model.predict(X_train)\n",
    "Logistic_model_score=Logistic_model.score(X_train,y_train)\n",
    "print(Logistic_model_score)\n",
    "\n",
    "print(metrics.confusion_matrix(y_train,y_train_predict))\n",
    "print(metrics.classification_report(y_train,y_train_predict))"
   ]
  },
  {
   "cell_type": "code",
   "execution_count": 90,
   "id": "4f31392e",
   "metadata": {},
   "outputs": [
    {
     "data": {
      "text/html": [
       "<div>\n",
       "<style scoped>\n",
       "    .dataframe tbody tr th:only-of-type {\n",
       "        vertical-align: middle;\n",
       "    }\n",
       "\n",
       "    .dataframe tbody tr th {\n",
       "        vertical-align: top;\n",
       "    }\n",
       "\n",
       "    .dataframe thead th {\n",
       "        text-align: right;\n",
       "    }\n",
       "</style>\n",
       "<table border=\"1\" class=\"dataframe\">\n",
       "  <thead>\n",
       "    <tr style=\"text-align: right;\">\n",
       "      <th></th>\n",
       "      <th>0</th>\n",
       "      <th>1</th>\n",
       "    </tr>\n",
       "  </thead>\n",
       "  <tbody>\n",
       "    <tr>\n",
       "      <th>0</th>\n",
       "      <td>0.913306</td>\n",
       "      <td>0.086694</td>\n",
       "    </tr>\n",
       "    <tr>\n",
       "      <th>1</th>\n",
       "      <td>0.979268</td>\n",
       "      <td>0.020732</td>\n",
       "    </tr>\n",
       "    <tr>\n",
       "      <th>2</th>\n",
       "      <td>0.960944</td>\n",
       "      <td>0.039056</td>\n",
       "    </tr>\n",
       "    <tr>\n",
       "      <th>3</th>\n",
       "      <td>0.938505</td>\n",
       "      <td>0.061495</td>\n",
       "    </tr>\n",
       "    <tr>\n",
       "      <th>4</th>\n",
       "      <td>0.868311</td>\n",
       "      <td>0.131689</td>\n",
       "    </tr>\n",
       "  </tbody>\n",
       "</table>\n",
       "</div>"
      ],
      "text/plain": [
       "          0         1\n",
       "0  0.913306  0.086694\n",
       "1  0.979268  0.020732\n",
       "2  0.960944  0.039056\n",
       "3  0.938505  0.061495\n",
       "4  0.868311  0.131689"
      ]
     },
     "execution_count": 90,
     "metadata": {},
     "output_type": "execute_result"
    }
   ],
   "source": [
    "y_train_prob=Logistic_model.predict_proba(X_train)\n",
    "pd.DataFrame(y_train_prob).head()"
   ]
  },
  {
   "cell_type": "markdown",
   "id": "2ec2e029",
   "metadata": {},
   "source": [
    "### Bagging"
   ]
  },
  {
   "cell_type": "code",
   "execution_count": 91,
   "id": "1b650a8a",
   "metadata": {},
   "outputs": [],
   "source": [
    "from sklearn.ensemble import BaggingClassifier\n",
    "from sklearn.tree import DecisionTreeClassifier"
   ]
  },
  {
   "cell_type": "code",
   "execution_count": 93,
   "id": "423c65e5",
   "metadata": {},
   "outputs": [
    {
     "data": {
      "text/html": [
       "<style>#sk-container-id-4 {color: black;background-color: white;}#sk-container-id-4 pre{padding: 0;}#sk-container-id-4 div.sk-toggleable {background-color: white;}#sk-container-id-4 label.sk-toggleable__label {cursor: pointer;display: block;width: 100%;margin-bottom: 0;padding: 0.3em;box-sizing: border-box;text-align: center;}#sk-container-id-4 label.sk-toggleable__label-arrow:before {content: \"▸\";float: left;margin-right: 0.25em;color: #696969;}#sk-container-id-4 label.sk-toggleable__label-arrow:hover:before {color: black;}#sk-container-id-4 div.sk-estimator:hover label.sk-toggleable__label-arrow:before {color: black;}#sk-container-id-4 div.sk-toggleable__content {max-height: 0;max-width: 0;overflow: hidden;text-align: left;background-color: #f0f8ff;}#sk-container-id-4 div.sk-toggleable__content pre {margin: 0.2em;color: black;border-radius: 0.25em;background-color: #f0f8ff;}#sk-container-id-4 input.sk-toggleable__control:checked~div.sk-toggleable__content {max-height: 200px;max-width: 100%;overflow: auto;}#sk-container-id-4 input.sk-toggleable__control:checked~label.sk-toggleable__label-arrow:before {content: \"▾\";}#sk-container-id-4 div.sk-estimator input.sk-toggleable__control:checked~label.sk-toggleable__label {background-color: #d4ebff;}#sk-container-id-4 div.sk-label input.sk-toggleable__control:checked~label.sk-toggleable__label {background-color: #d4ebff;}#sk-container-id-4 input.sk-hidden--visually {border: 0;clip: rect(1px 1px 1px 1px);clip: rect(1px, 1px, 1px, 1px);height: 1px;margin: -1px;overflow: hidden;padding: 0;position: absolute;width: 1px;}#sk-container-id-4 div.sk-estimator {font-family: monospace;background-color: #f0f8ff;border: 1px dotted black;border-radius: 0.25em;box-sizing: border-box;margin-bottom: 0.5em;}#sk-container-id-4 div.sk-estimator:hover {background-color: #d4ebff;}#sk-container-id-4 div.sk-parallel-item::after {content: \"\";width: 100%;border-bottom: 1px solid gray;flex-grow: 1;}#sk-container-id-4 div.sk-label:hover label.sk-toggleable__label {background-color: #d4ebff;}#sk-container-id-4 div.sk-serial::before {content: \"\";position: absolute;border-left: 1px solid gray;box-sizing: border-box;top: 0;bottom: 0;left: 50%;z-index: 0;}#sk-container-id-4 div.sk-serial {display: flex;flex-direction: column;align-items: center;background-color: white;padding-right: 0.2em;padding-left: 0.2em;position: relative;}#sk-container-id-4 div.sk-item {position: relative;z-index: 1;}#sk-container-id-4 div.sk-parallel {display: flex;align-items: stretch;justify-content: center;background-color: white;position: relative;}#sk-container-id-4 div.sk-item::before, #sk-container-id-4 div.sk-parallel-item::before {content: \"\";position: absolute;border-left: 1px solid gray;box-sizing: border-box;top: 0;bottom: 0;left: 50%;z-index: -1;}#sk-container-id-4 div.sk-parallel-item {display: flex;flex-direction: column;z-index: 1;position: relative;background-color: white;}#sk-container-id-4 div.sk-parallel-item:first-child::after {align-self: flex-end;width: 50%;}#sk-container-id-4 div.sk-parallel-item:last-child::after {align-self: flex-start;width: 50%;}#sk-container-id-4 div.sk-parallel-item:only-child::after {width: 0;}#sk-container-id-4 div.sk-dashed-wrapped {border: 1px dashed gray;margin: 0 0.4em 0.5em 0.4em;box-sizing: border-box;padding-bottom: 0.4em;background-color: white;}#sk-container-id-4 div.sk-label label {font-family: monospace;font-weight: bold;display: inline-block;line-height: 1.2em;}#sk-container-id-4 div.sk-label-container {text-align: center;}#sk-container-id-4 div.sk-container {/* jupyter's `normalize.less` sets `[hidden] { display: none; }` but bootstrap.min.css set `[hidden] { display: none !important; }` so we also need the `!important` here to be able to override the default hidden behavior on the sphinx rendered scikit-learn.org. See: https://github.com/scikit-learn/scikit-learn/issues/21755 */display: inline-block !important;position: relative;}#sk-container-id-4 div.sk-text-repr-fallback {display: none;}</style><div id=\"sk-container-id-4\" class=\"sk-top-container\"><div class=\"sk-text-repr-fallback\"><pre>BaggingClassifier(base_estimator=DecisionTreeClassifier(), random_state=1)</pre><b>In a Jupyter environment, please rerun this cell to show the HTML representation or trust the notebook. <br />On GitHub, the HTML representation is unable to render, please try loading this page with nbviewer.org.</b></div><div class=\"sk-container\" hidden><div class=\"sk-item sk-dashed-wrapped\"><div class=\"sk-label-container\"><div class=\"sk-label sk-toggleable\"><input class=\"sk-toggleable__control sk-hidden--visually\" id=\"sk-estimator-id-4\" type=\"checkbox\" ><label for=\"sk-estimator-id-4\" class=\"sk-toggleable__label sk-toggleable__label-arrow\">BaggingClassifier</label><div class=\"sk-toggleable__content\"><pre>BaggingClassifier(base_estimator=DecisionTreeClassifier(), random_state=1)</pre></div></div></div><div class=\"sk-parallel\"><div class=\"sk-parallel-item\"><div class=\"sk-item\"><div class=\"sk-label-container\"><div class=\"sk-label sk-toggleable\"><input class=\"sk-toggleable__control sk-hidden--visually\" id=\"sk-estimator-id-5\" type=\"checkbox\" ><label for=\"sk-estimator-id-5\" class=\"sk-toggleable__label sk-toggleable__label-arrow\">base_estimator: DecisionTreeClassifier</label><div class=\"sk-toggleable__content\"><pre>DecisionTreeClassifier()</pre></div></div></div><div class=\"sk-serial\"><div class=\"sk-item\"><div class=\"sk-estimator sk-toggleable\"><input class=\"sk-toggleable__control sk-hidden--visually\" id=\"sk-estimator-id-6\" type=\"checkbox\" ><label for=\"sk-estimator-id-6\" class=\"sk-toggleable__label sk-toggleable__label-arrow\">DecisionTreeClassifier</label><div class=\"sk-toggleable__content\"><pre>DecisionTreeClassifier()</pre></div></div></div></div></div></div></div></div></div></div>"
      ],
      "text/plain": [
       "BaggingClassifier(base_estimator=DecisionTreeClassifier(), random_state=1)"
      ]
     },
     "execution_count": 93,
     "metadata": {},
     "output_type": "execute_result"
    }
   ],
   "source": [
    "cart=DecisionTreeClassifier()\n",
    "Bagging_model=BaggingClassifier(base_estimator=cart,n_estimators=10, random_state=1)\n",
    "\n",
    "Bagging_model.fit(X_train,y_train)"
   ]
  },
  {
   "cell_type": "code",
   "execution_count": 94,
   "id": "778de50d",
   "metadata": {},
   "outputs": [
    {
     "name": "stdout",
     "output_type": "stream",
     "text": [
      "0.9994285714285714\n",
      "[[53135    33]\n",
      " [    9 20323]]\n",
      "              precision    recall  f1-score   support\n",
      "\n",
      "           0       1.00      1.00      1.00     53168\n",
      "           1       1.00      1.00      1.00     20332\n",
      "\n",
      "    accuracy                           1.00     73500\n",
      "   macro avg       1.00      1.00      1.00     73500\n",
      "weighted avg       1.00      1.00      1.00     73500\n",
      "\n"
     ]
    }
   ],
   "source": [
    "y_train_predict=Bagging_model.predict(X_train)\n",
    "Bagging_model_score=Bagging_model.score(X_train,y_train)\n",
    "print(Bagging_model_score)\n",
    "\n",
    "print(metrics.confusion_matrix(y_train,y_train_predict))\n",
    "print(metrics.classification_report(y_train,y_train_predict))"
   ]
  },
  {
   "cell_type": "code",
   "execution_count": 95,
   "id": "4ae64e4f",
   "metadata": {},
   "outputs": [],
   "source": [
    "X_validation=pd.read_csv(\"testing_data.csv\")"
   ]
  },
  {
   "cell_type": "code",
   "execution_count": 96,
   "id": "3cf76dfb",
   "metadata": {},
   "outputs": [
    {
     "data": {
      "text/html": [
       "<div>\n",
       "<style scoped>\n",
       "    .dataframe tbody tr th:only-of-type {\n",
       "        vertical-align: middle;\n",
       "    }\n",
       "\n",
       "    .dataframe tbody tr th {\n",
       "        vertical-align: top;\n",
       "    }\n",
       "\n",
       "    .dataframe thead th {\n",
       "        text-align: right;\n",
       "    }\n",
       "</style>\n",
       "<table border=\"1\" class=\"dataframe\">\n",
       "  <thead>\n",
       "    <tr style=\"text-align: right;\">\n",
       "      <th></th>\n",
       "      <th>ID</th>\n",
       "      <th>Date_Of_Disbursement</th>\n",
       "      <th>Business</th>\n",
       "      <th>Jobs_Reatained</th>\n",
       "      <th>Jobs_Created</th>\n",
       "      <th>Year_Of_Commitment</th>\n",
       "      <th>Guaranteed_Approved _Loan</th>\n",
       "      <th>Borrower_Name</th>\n",
       "      <th>Low_Documentation_Loan</th>\n",
       "      <th>Demography</th>\n",
       "      <th>...</th>\n",
       "      <th>Count_Employees</th>\n",
       "      <th>Classification_Code</th>\n",
       "      <th>Loan_Approved_Gross</th>\n",
       "      <th>Gross_Amount_Disbursed</th>\n",
       "      <th>Loan_Term</th>\n",
       "      <th>Commitment_Date</th>\n",
       "      <th>Primary_Loan_Digit</th>\n",
       "      <th>Code_Franchise</th>\n",
       "      <th>Name_Of_Bank</th>\n",
       "      <th>Revolving_Credit_Line</th>\n",
       "    </tr>\n",
       "  </thead>\n",
       "  <tbody>\n",
       "    <tr>\n",
       "      <th>0</th>\n",
       "      <td>105000</td>\n",
       "      <td>31-Mar-06</td>\n",
       "      <td>Existing</td>\n",
       "      <td>19</td>\n",
       "      <td>0</td>\n",
       "      <td>2006</td>\n",
       "      <td>Rs.4064000.0</td>\n",
       "      <td>Diversified Display Products o</td>\n",
       "      <td>No</td>\n",
       "      <td>Urban</td>\n",
       "      <td>...</td>\n",
       "      <td>17</td>\n",
       "      <td>326199</td>\n",
       "      <td>Rs.8128000.0</td>\n",
       "      <td>Rs.9403852.16</td>\n",
       "      <td>57</td>\n",
       "      <td>9-Mar-06</td>\n",
       "      <td>1702825000</td>\n",
       "      <td>0</td>\n",
       "      <td>ICICI Bank Ltd.</td>\n",
       "      <td>Yes</td>\n",
       "    </tr>\n",
       "    <tr>\n",
       "      <th>1</th>\n",
       "      <td>105001</td>\n",
       "      <td>31-Jan-95</td>\n",
       "      <td>Existing</td>\n",
       "      <td>0</td>\n",
       "      <td>0</td>\n",
       "      <td>1995</td>\n",
       "      <td>Rs.1463040.0</td>\n",
       "      <td>FOOTE CONSULTING GROUP, INC.</td>\n",
       "      <td>Yes</td>\n",
       "      <td>Undefined</td>\n",
       "      <td>...</td>\n",
       "      <td>2</td>\n",
       "      <td>0</td>\n",
       "      <td>Rs.1625600.0</td>\n",
       "      <td>Rs.1625600.0</td>\n",
       "      <td>90</td>\n",
       "      <td>14-Dec-94</td>\n",
       "      <td>7908833003</td>\n",
       "      <td>1</td>\n",
       "      <td>South Indian Bank Ltd.</td>\n",
       "      <td>No</td>\n",
       "    </tr>\n",
       "    <tr>\n",
       "      <th>2</th>\n",
       "      <td>105002</td>\n",
       "      <td>30-Sep-06</td>\n",
       "      <td>Existing</td>\n",
       "      <td>7</td>\n",
       "      <td>5</td>\n",
       "      <td>2006</td>\n",
       "      <td>Rs.812800.0</td>\n",
       "      <td>INTEGRATED COMERCIAL ENTERPRIS</td>\n",
       "      <td>No</td>\n",
       "      <td>Urban</td>\n",
       "      <td>...</td>\n",
       "      <td>2</td>\n",
       "      <td>541611</td>\n",
       "      <td>Rs.1625600.0</td>\n",
       "      <td>Rs.3450336.0</td>\n",
       "      <td>81</td>\n",
       "      <td>25-Aug-06</td>\n",
       "      <td>2361626001</td>\n",
       "      <td>1</td>\n",
       "      <td>IDBI Bank Limited</td>\n",
       "      <td>Yes</td>\n",
       "    </tr>\n",
       "    <tr>\n",
       "      <th>3</th>\n",
       "      <td>105003</td>\n",
       "      <td>31-Jul-00</td>\n",
       "      <td>New</td>\n",
       "      <td>2</td>\n",
       "      <td>0</td>\n",
       "      <td>2000</td>\n",
       "      <td>Rs.2032000.0</td>\n",
       "      <td>FIRST IN RESCUE EQUIPMENT</td>\n",
       "      <td>No</td>\n",
       "      <td>Urban</td>\n",
       "      <td>...</td>\n",
       "      <td>2</td>\n",
       "      <td>0</td>\n",
       "      <td>Rs.4064000.0</td>\n",
       "      <td>Rs.6916196.48</td>\n",
       "      <td>18</td>\n",
       "      <td>28-Jun-00</td>\n",
       "      <td>3814664008</td>\n",
       "      <td>1</td>\n",
       "      <td>Aryavart Bank</td>\n",
       "      <td>Yes</td>\n",
       "    </tr>\n",
       "    <tr>\n",
       "      <th>4</th>\n",
       "      <td>105004</td>\n",
       "      <td>30-Jun-05</td>\n",
       "      <td>Existing</td>\n",
       "      <td>0</td>\n",
       "      <td>0</td>\n",
       "      <td>2005</td>\n",
       "      <td>Rs.23469600.0</td>\n",
       "      <td>GLASGOW AUTOMOTIVE, INC.</td>\n",
       "      <td>No</td>\n",
       "      <td>Rural</td>\n",
       "      <td>...</td>\n",
       "      <td>6</td>\n",
       "      <td>441310</td>\n",
       "      <td>Rs.31292800.0</td>\n",
       "      <td>Rs.31292800.0</td>\n",
       "      <td>219</td>\n",
       "      <td>2-May-05</td>\n",
       "      <td>8830244003</td>\n",
       "      <td>1</td>\n",
       "      <td>Paschim Banga Gramin Bank</td>\n",
       "      <td>No</td>\n",
       "    </tr>\n",
       "  </tbody>\n",
       "</table>\n",
       "<p>5 rows × 25 columns</p>\n",
       "</div>"
      ],
      "text/plain": [
       "       ID Date_Of_Disbursement  Business  Jobs_Reatained  Jobs_Created   \\\n",
       "0  105000            31-Mar-06  Existing              19              0   \n",
       "1  105001            31-Jan-95  Existing               0              0   \n",
       "2  105002            30-Sep-06  Existing               7              5   \n",
       "3  105003            31-Jul-00       New               2              0   \n",
       "4  105004            30-Jun-05  Existing               0              0   \n",
       "\n",
       "  Year_Of_Commitment  Guaranteed_Approved _Loan  \\\n",
       "0                2006              Rs.4064000.0   \n",
       "1                1995              Rs.1463040.0   \n",
       "2                2006               Rs.812800.0   \n",
       "3                2000              Rs.2032000.0   \n",
       "4                2005             Rs.23469600.0   \n",
       "\n",
       "                   Borrower_Name  Low_Documentation_Loan Demography  ...  \\\n",
       "0  Diversified Display Products o                     No      Urban  ...   \n",
       "1    FOOTE CONSULTING GROUP, INC.                    Yes  Undefined  ...   \n",
       "2  INTEGRATED COMERCIAL ENTERPRIS                     No      Urban  ...   \n",
       "3       FIRST IN RESCUE EQUIPMENT                     No      Urban  ...   \n",
       "4        GLASGOW AUTOMOTIVE, INC.                     No      Rural  ...   \n",
       "\n",
       "  Count_Employees Classification_Code  Loan_Approved_Gross  \\\n",
       "0              17               326199        Rs.8128000.0   \n",
       "1               2                    0        Rs.1625600.0   \n",
       "2               2               541611        Rs.1625600.0   \n",
       "3               2                    0        Rs.4064000.0   \n",
       "4               6               441310       Rs.31292800.0   \n",
       "\n",
       "  Gross_Amount_Disbursed   Loan_Term  Commitment_Date  Primary_Loan_Digit  \\\n",
       "0            Rs.9403852.16        57         9-Mar-06          1702825000   \n",
       "1             Rs.1625600.0        90        14-Dec-94          7908833003   \n",
       "2             Rs.3450336.0        81        25-Aug-06          2361626001   \n",
       "3            Rs.6916196.48        18        28-Jun-00          3814664008   \n",
       "4            Rs.31292800.0       219         2-May-05          8830244003   \n",
       "\n",
       "  Code_Franchise               Name_Of_Bank  Revolving_Credit_Line  \n",
       "0              0            ICICI Bank Ltd.                    Yes  \n",
       "1              1     South Indian Bank Ltd.                     No  \n",
       "2              1          IDBI Bank Limited                    Yes  \n",
       "3              1              Aryavart Bank                    Yes  \n",
       "4              1  Paschim Banga Gramin Bank                     No  \n",
       "\n",
       "[5 rows x 25 columns]"
      ]
     },
     "execution_count": 96,
     "metadata": {},
     "output_type": "execute_result"
    }
   ],
   "source": [
    "X_validation.head()"
   ]
  },
  {
   "cell_type": "code",
   "execution_count": 98,
   "id": "588a1678",
   "metadata": {},
   "outputs": [],
   "source": [
    "# Decision tree in Python can take only numerical / categorical colums. It cannot take string / object types. \n",
    "# The following code loops through each column and checks if the column type is object then converts those columns\n",
    "# into categorical with each distinct value becoming a category or code.\n",
    "\n",
    "for feature in X_validation.columns: \n",
    "    if X_validation[feature].dtype == 'object':\n",
    "        X_validation[feature] = pd.Categorical(X_validation[feature]).codes "
   ]
  },
  {
   "cell_type": "code",
   "execution_count": 116,
   "id": "622996c6",
   "metadata": {},
   "outputs": [
    {
     "name": "stdout",
     "output_type": "stream",
     "text": [
      "0.9994285714285714\n"
     ]
    }
   ],
   "source": [
    "submission_predictions=Bagging_model.predict(X_validation)\n",
    "print(Bagging_model_score)"
   ]
  },
  {
   "cell_type": "code",
   "execution_count": 117,
   "id": "33cafa9e",
   "metadata": {},
   "outputs": [],
   "source": [
    "submission_predictions =Bagging_model.predict(X_validation)"
   ]
  },
  {
   "cell_type": "code",
   "execution_count": 118,
   "id": "8b1a7863",
   "metadata": {},
   "outputs": [],
   "source": [
    "submission = pd.DataFrame({\n",
    "        \"ID\": X_validation[\"ID\"],\n",
    "        \"Default\": submission_predictions\n",
    "    })"
   ]
  },
  {
   "cell_type": "code",
   "execution_count": 119,
   "id": "d90493a3",
   "metadata": {},
   "outputs": [
    {
     "data": {
      "text/html": [
       "<div>\n",
       "<style scoped>\n",
       "    .dataframe tbody tr th:only-of-type {\n",
       "        vertical-align: middle;\n",
       "    }\n",
       "\n",
       "    .dataframe tbody tr th {\n",
       "        vertical-align: top;\n",
       "    }\n",
       "\n",
       "    .dataframe thead th {\n",
       "        text-align: right;\n",
       "    }\n",
       "</style>\n",
       "<table border=\"1\" class=\"dataframe\">\n",
       "  <thead>\n",
       "    <tr style=\"text-align: right;\">\n",
       "      <th></th>\n",
       "      <th>ID</th>\n",
       "      <th>Default</th>\n",
       "    </tr>\n",
       "  </thead>\n",
       "  <tbody>\n",
       "    <tr>\n",
       "      <th>0</th>\n",
       "      <td>105000</td>\n",
       "      <td>1</td>\n",
       "    </tr>\n",
       "    <tr>\n",
       "      <th>1</th>\n",
       "      <td>105001</td>\n",
       "      <td>0</td>\n",
       "    </tr>\n",
       "    <tr>\n",
       "      <th>2</th>\n",
       "      <td>105002</td>\n",
       "      <td>1</td>\n",
       "    </tr>\n",
       "    <tr>\n",
       "      <th>3</th>\n",
       "      <td>105003</td>\n",
       "      <td>0</td>\n",
       "    </tr>\n",
       "    <tr>\n",
       "      <th>4</th>\n",
       "      <td>105004</td>\n",
       "      <td>0</td>\n",
       "    </tr>\n",
       "    <tr>\n",
       "      <th>...</th>\n",
       "      <td>...</td>\n",
       "      <td>...</td>\n",
       "    </tr>\n",
       "    <tr>\n",
       "      <th>44995</th>\n",
       "      <td>149995</td>\n",
       "      <td>1</td>\n",
       "    </tr>\n",
       "    <tr>\n",
       "      <th>44996</th>\n",
       "      <td>149996</td>\n",
       "      <td>0</td>\n",
       "    </tr>\n",
       "    <tr>\n",
       "      <th>44997</th>\n",
       "      <td>149997</td>\n",
       "      <td>0</td>\n",
       "    </tr>\n",
       "    <tr>\n",
       "      <th>44998</th>\n",
       "      <td>149998</td>\n",
       "      <td>0</td>\n",
       "    </tr>\n",
       "    <tr>\n",
       "      <th>44999</th>\n",
       "      <td>149999</td>\n",
       "      <td>0</td>\n",
       "    </tr>\n",
       "  </tbody>\n",
       "</table>\n",
       "<p>45000 rows × 2 columns</p>\n",
       "</div>"
      ],
      "text/plain": [
       "           ID  Default\n",
       "0      105000        1\n",
       "1      105001        0\n",
       "2      105002        1\n",
       "3      105003        0\n",
       "4      105004        0\n",
       "...       ...      ...\n",
       "44995  149995        1\n",
       "44996  149996        0\n",
       "44997  149997        0\n",
       "44998  149998        0\n",
       "44999  149999        0\n",
       "\n",
       "[45000 rows x 2 columns]"
      ]
     },
     "execution_count": 119,
     "metadata": {},
     "output_type": "execute_result"
    }
   ],
   "source": [
    "submission"
   ]
  },
  {
   "cell_type": "code",
   "execution_count": 120,
   "id": "a7c382c4",
   "metadata": {},
   "outputs": [],
   "source": [
    "submission.to_csv(r'C:\\\\Aishu\\\\Loan Prediction1.csv', index=False, header=True)"
   ]
  },
  {
   "cell_type": "markdown",
   "id": "2edcbd1c",
   "metadata": {},
   "source": [
    "### Boosting"
   ]
  },
  {
   "cell_type": "code",
   "execution_count": 108,
   "id": "dfff0889",
   "metadata": {},
   "outputs": [],
   "source": [
    "from sklearn.ensemble import AdaBoostClassifier"
   ]
  },
  {
   "cell_type": "code",
   "execution_count": 110,
   "id": "d4a71245",
   "metadata": {},
   "outputs": [
    {
     "data": {
      "text/html": [
       "<style>#sk-container-id-5 {color: black;background-color: white;}#sk-container-id-5 pre{padding: 0;}#sk-container-id-5 div.sk-toggleable {background-color: white;}#sk-container-id-5 label.sk-toggleable__label {cursor: pointer;display: block;width: 100%;margin-bottom: 0;padding: 0.3em;box-sizing: border-box;text-align: center;}#sk-container-id-5 label.sk-toggleable__label-arrow:before {content: \"▸\";float: left;margin-right: 0.25em;color: #696969;}#sk-container-id-5 label.sk-toggleable__label-arrow:hover:before {color: black;}#sk-container-id-5 div.sk-estimator:hover label.sk-toggleable__label-arrow:before {color: black;}#sk-container-id-5 div.sk-toggleable__content {max-height: 0;max-width: 0;overflow: hidden;text-align: left;background-color: #f0f8ff;}#sk-container-id-5 div.sk-toggleable__content pre {margin: 0.2em;color: black;border-radius: 0.25em;background-color: #f0f8ff;}#sk-container-id-5 input.sk-toggleable__control:checked~div.sk-toggleable__content {max-height: 200px;max-width: 100%;overflow: auto;}#sk-container-id-5 input.sk-toggleable__control:checked~label.sk-toggleable__label-arrow:before {content: \"▾\";}#sk-container-id-5 div.sk-estimator input.sk-toggleable__control:checked~label.sk-toggleable__label {background-color: #d4ebff;}#sk-container-id-5 div.sk-label input.sk-toggleable__control:checked~label.sk-toggleable__label {background-color: #d4ebff;}#sk-container-id-5 input.sk-hidden--visually {border: 0;clip: rect(1px 1px 1px 1px);clip: rect(1px, 1px, 1px, 1px);height: 1px;margin: -1px;overflow: hidden;padding: 0;position: absolute;width: 1px;}#sk-container-id-5 div.sk-estimator {font-family: monospace;background-color: #f0f8ff;border: 1px dotted black;border-radius: 0.25em;box-sizing: border-box;margin-bottom: 0.5em;}#sk-container-id-5 div.sk-estimator:hover {background-color: #d4ebff;}#sk-container-id-5 div.sk-parallel-item::after {content: \"\";width: 100%;border-bottom: 1px solid gray;flex-grow: 1;}#sk-container-id-5 div.sk-label:hover label.sk-toggleable__label {background-color: #d4ebff;}#sk-container-id-5 div.sk-serial::before {content: \"\";position: absolute;border-left: 1px solid gray;box-sizing: border-box;top: 0;bottom: 0;left: 50%;z-index: 0;}#sk-container-id-5 div.sk-serial {display: flex;flex-direction: column;align-items: center;background-color: white;padding-right: 0.2em;padding-left: 0.2em;position: relative;}#sk-container-id-5 div.sk-item {position: relative;z-index: 1;}#sk-container-id-5 div.sk-parallel {display: flex;align-items: stretch;justify-content: center;background-color: white;position: relative;}#sk-container-id-5 div.sk-item::before, #sk-container-id-5 div.sk-parallel-item::before {content: \"\";position: absolute;border-left: 1px solid gray;box-sizing: border-box;top: 0;bottom: 0;left: 50%;z-index: -1;}#sk-container-id-5 div.sk-parallel-item {display: flex;flex-direction: column;z-index: 1;position: relative;background-color: white;}#sk-container-id-5 div.sk-parallel-item:first-child::after {align-self: flex-end;width: 50%;}#sk-container-id-5 div.sk-parallel-item:last-child::after {align-self: flex-start;width: 50%;}#sk-container-id-5 div.sk-parallel-item:only-child::after {width: 0;}#sk-container-id-5 div.sk-dashed-wrapped {border: 1px dashed gray;margin: 0 0.4em 0.5em 0.4em;box-sizing: border-box;padding-bottom: 0.4em;background-color: white;}#sk-container-id-5 div.sk-label label {font-family: monospace;font-weight: bold;display: inline-block;line-height: 1.2em;}#sk-container-id-5 div.sk-label-container {text-align: center;}#sk-container-id-5 div.sk-container {/* jupyter's `normalize.less` sets `[hidden] { display: none; }` but bootstrap.min.css set `[hidden] { display: none !important; }` so we also need the `!important` here to be able to override the default hidden behavior on the sphinx rendered scikit-learn.org. See: https://github.com/scikit-learn/scikit-learn/issues/21755 */display: inline-block !important;position: relative;}#sk-container-id-5 div.sk-text-repr-fallback {display: none;}</style><div id=\"sk-container-id-5\" class=\"sk-top-container\"><div class=\"sk-text-repr-fallback\"><pre>AdaBoostClassifier(n_estimators=100, random_state=1)</pre><b>In a Jupyter environment, please rerun this cell to show the HTML representation or trust the notebook. <br />On GitHub, the HTML representation is unable to render, please try loading this page with nbviewer.org.</b></div><div class=\"sk-container\" hidden><div class=\"sk-item\"><div class=\"sk-estimator sk-toggleable\"><input class=\"sk-toggleable__control sk-hidden--visually\" id=\"sk-estimator-id-7\" type=\"checkbox\" checked><label for=\"sk-estimator-id-7\" class=\"sk-toggleable__label sk-toggleable__label-arrow\">AdaBoostClassifier</label><div class=\"sk-toggleable__content\"><pre>AdaBoostClassifier(n_estimators=100, random_state=1)</pre></div></div></div></div></div>"
      ],
      "text/plain": [
       "AdaBoostClassifier(n_estimators=100, random_state=1)"
      ]
     },
     "execution_count": 110,
     "metadata": {},
     "output_type": "execute_result"
    }
   ],
   "source": [
    "ADB_model=AdaBoostClassifier(n_estimators=100,random_state=1)\n",
    "ADB_model.fit(X_train,y_train)"
   ]
  },
  {
   "cell_type": "code",
   "execution_count": 111,
   "id": "903dccae",
   "metadata": {},
   "outputs": [
    {
     "name": "stdout",
     "output_type": "stream",
     "text": [
      "0.9941360544217687\n",
      "[[52821   347]\n",
      " [   84 20248]]\n",
      "              precision    recall  f1-score   support\n",
      "\n",
      "           0       1.00      0.99      1.00     53168\n",
      "           1       0.98      1.00      0.99     20332\n",
      "\n",
      "    accuracy                           0.99     73500\n",
      "   macro avg       0.99      0.99      0.99     73500\n",
      "weighted avg       0.99      0.99      0.99     73500\n",
      "\n"
     ]
    }
   ],
   "source": [
    "y_train_predict=ADB_model.predict(X_train)\n",
    "ADB_model_score=ADB_model.score(X_train,y_train)\n",
    "print(ADB_model_score)\n",
    "\n",
    "print(metrics.confusion_matrix(y_train,y_train_predict))\n",
    "print(metrics.classification_report(y_train,y_train_predict))"
   ]
  },
  {
   "cell_type": "code",
   "execution_count": 121,
   "id": "b139f21d",
   "metadata": {},
   "outputs": [],
   "source": [
    "submission_prediction_2=ADB_model.predict(X_validation)"
   ]
  },
  {
   "cell_type": "code",
   "execution_count": 122,
   "id": "43d1c6b9",
   "metadata": {},
   "outputs": [],
   "source": [
    "submission_2= pd.DataFrame({\n",
    "        \"ID\": X_validation[\"ID\"],\n",
    "        \"Default\": submission_predictions\n",
    "    })"
   ]
  },
  {
   "cell_type": "code",
   "execution_count": 123,
   "id": "931c2407",
   "metadata": {},
   "outputs": [],
   "source": [
    "submission_2.to_csv(r'C:\\\\Aishu\\\\Loan Prediction2.csv', index=False, header=True)"
   ]
  },
  {
   "cell_type": "code",
   "execution_count": 125,
   "id": "387e3ade",
   "metadata": {},
   "outputs": [
    {
     "data": {
      "text/html": [
       "<style>#sk-container-id-6 {color: black;background-color: white;}#sk-container-id-6 pre{padding: 0;}#sk-container-id-6 div.sk-toggleable {background-color: white;}#sk-container-id-6 label.sk-toggleable__label {cursor: pointer;display: block;width: 100%;margin-bottom: 0;padding: 0.3em;box-sizing: border-box;text-align: center;}#sk-container-id-6 label.sk-toggleable__label-arrow:before {content: \"▸\";float: left;margin-right: 0.25em;color: #696969;}#sk-container-id-6 label.sk-toggleable__label-arrow:hover:before {color: black;}#sk-container-id-6 div.sk-estimator:hover label.sk-toggleable__label-arrow:before {color: black;}#sk-container-id-6 div.sk-toggleable__content {max-height: 0;max-width: 0;overflow: hidden;text-align: left;background-color: #f0f8ff;}#sk-container-id-6 div.sk-toggleable__content pre {margin: 0.2em;color: black;border-radius: 0.25em;background-color: #f0f8ff;}#sk-container-id-6 input.sk-toggleable__control:checked~div.sk-toggleable__content {max-height: 200px;max-width: 100%;overflow: auto;}#sk-container-id-6 input.sk-toggleable__control:checked~label.sk-toggleable__label-arrow:before {content: \"▾\";}#sk-container-id-6 div.sk-estimator input.sk-toggleable__control:checked~label.sk-toggleable__label {background-color: #d4ebff;}#sk-container-id-6 div.sk-label input.sk-toggleable__control:checked~label.sk-toggleable__label {background-color: #d4ebff;}#sk-container-id-6 input.sk-hidden--visually {border: 0;clip: rect(1px 1px 1px 1px);clip: rect(1px, 1px, 1px, 1px);height: 1px;margin: -1px;overflow: hidden;padding: 0;position: absolute;width: 1px;}#sk-container-id-6 div.sk-estimator {font-family: monospace;background-color: #f0f8ff;border: 1px dotted black;border-radius: 0.25em;box-sizing: border-box;margin-bottom: 0.5em;}#sk-container-id-6 div.sk-estimator:hover {background-color: #d4ebff;}#sk-container-id-6 div.sk-parallel-item::after {content: \"\";width: 100%;border-bottom: 1px solid gray;flex-grow: 1;}#sk-container-id-6 div.sk-label:hover label.sk-toggleable__label {background-color: #d4ebff;}#sk-container-id-6 div.sk-serial::before {content: \"\";position: absolute;border-left: 1px solid gray;box-sizing: border-box;top: 0;bottom: 0;left: 50%;z-index: 0;}#sk-container-id-6 div.sk-serial {display: flex;flex-direction: column;align-items: center;background-color: white;padding-right: 0.2em;padding-left: 0.2em;position: relative;}#sk-container-id-6 div.sk-item {position: relative;z-index: 1;}#sk-container-id-6 div.sk-parallel {display: flex;align-items: stretch;justify-content: center;background-color: white;position: relative;}#sk-container-id-6 div.sk-item::before, #sk-container-id-6 div.sk-parallel-item::before {content: \"\";position: absolute;border-left: 1px solid gray;box-sizing: border-box;top: 0;bottom: 0;left: 50%;z-index: -1;}#sk-container-id-6 div.sk-parallel-item {display: flex;flex-direction: column;z-index: 1;position: relative;background-color: white;}#sk-container-id-6 div.sk-parallel-item:first-child::after {align-self: flex-end;width: 50%;}#sk-container-id-6 div.sk-parallel-item:last-child::after {align-self: flex-start;width: 50%;}#sk-container-id-6 div.sk-parallel-item:only-child::after {width: 0;}#sk-container-id-6 div.sk-dashed-wrapped {border: 1px dashed gray;margin: 0 0.4em 0.5em 0.4em;box-sizing: border-box;padding-bottom: 0.4em;background-color: white;}#sk-container-id-6 div.sk-label label {font-family: monospace;font-weight: bold;display: inline-block;line-height: 1.2em;}#sk-container-id-6 div.sk-label-container {text-align: center;}#sk-container-id-6 div.sk-container {/* jupyter's `normalize.less` sets `[hidden] { display: none; }` but bootstrap.min.css set `[hidden] { display: none !important; }` so we also need the `!important` here to be able to override the default hidden behavior on the sphinx rendered scikit-learn.org. See: https://github.com/scikit-learn/scikit-learn/issues/21755 */display: inline-block !important;position: relative;}#sk-container-id-6 div.sk-text-repr-fallback {display: none;}</style><div id=\"sk-container-id-6\" class=\"sk-top-container\"><div class=\"sk-text-repr-fallback\"><pre>GradientBoostingClassifier(random_state=1)</pre><b>In a Jupyter environment, please rerun this cell to show the HTML representation or trust the notebook. <br />On GitHub, the HTML representation is unable to render, please try loading this page with nbviewer.org.</b></div><div class=\"sk-container\" hidden><div class=\"sk-item\"><div class=\"sk-estimator sk-toggleable\"><input class=\"sk-toggleable__control sk-hidden--visually\" id=\"sk-estimator-id-8\" type=\"checkbox\" checked><label for=\"sk-estimator-id-8\" class=\"sk-toggleable__label sk-toggleable__label-arrow\">GradientBoostingClassifier</label><div class=\"sk-toggleable__content\"><pre>GradientBoostingClassifier(random_state=1)</pre></div></div></div></div></div>"
      ],
      "text/plain": [
       "GradientBoostingClassifier(random_state=1)"
      ]
     },
     "execution_count": 125,
     "metadata": {},
     "output_type": "execute_result"
    }
   ],
   "source": [
    "from sklearn.ensemble import GradientBoostingClassifier\n",
    "gbc_model=GradientBoostingClassifier(random_state=1)\n",
    "gbc_model.fit(X_train, y_train)"
   ]
  },
  {
   "cell_type": "code",
   "execution_count": 126,
   "id": "cd96da3d",
   "metadata": {},
   "outputs": [
    {
     "name": "stdout",
     "output_type": "stream",
     "text": [
      "0.9948707482993198\n",
      "[[52846   322]\n",
      " [   55 20277]]\n",
      "              precision    recall  f1-score   support\n",
      "\n",
      "           0       1.00      0.99      1.00     53168\n",
      "           1       0.98      1.00      0.99     20332\n",
      "\n",
      "    accuracy                           0.99     73500\n",
      "   macro avg       0.99      1.00      0.99     73500\n",
      "weighted avg       0.99      0.99      0.99     73500\n",
      "\n"
     ]
    }
   ],
   "source": [
    "y_train_predict = gbc_model.predict(X_train)\n",
    "gbc_model_score = gbc_model.score(X_train, y_train)\n",
    "print(gbc_model_score)\n",
    "print(metrics.confusion_matrix(y_train, y_train_predict))\n",
    "print(metrics.classification_report(y_train, y_train_predict))"
   ]
  },
  {
   "cell_type": "code",
   "execution_count": 127,
   "id": "99f7acc8",
   "metadata": {},
   "outputs": [],
   "source": [
    "submission_prediction_3=ADB_model.predict(X_validation)"
   ]
  },
  {
   "cell_type": "code",
   "execution_count": 128,
   "id": "13c1442c",
   "metadata": {},
   "outputs": [],
   "source": [
    "submission_3= pd.DataFrame({\n",
    "        \"ID\": X_validation[\"ID\"],\n",
    "        \"Default\": submission_predictions\n",
    "    })"
   ]
  },
  {
   "cell_type": "code",
   "execution_count": 129,
   "id": "b5ef5e99",
   "metadata": {},
   "outputs": [],
   "source": [
    "submission_3.to_csv(r'C:\\Aishu\\Loan_Prediction-3.csv', index=False, header=True)"
   ]
  }
 ],
 "metadata": {
  "kernelspec": {
   "display_name": "Python 3 (ipykernel)",
   "language": "python",
   "name": "python3"
  },
  "language_info": {
   "codemirror_mode": {
    "name": "ipython",
    "version": 3
   },
   "file_extension": ".py",
   "mimetype": "text/x-python",
   "name": "python",
   "nbconvert_exporter": "python",
   "pygments_lexer": "ipython3",
   "version": "3.9.7"
  }
 },
 "nbformat": 4,
 "nbformat_minor": 5
}
